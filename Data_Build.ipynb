{
 "cells": [
  {
   "cell_type": "code",
   "execution_count": 1,
   "metadata": {
    "collapsed": true
   },
   "outputs": [],
   "source": [
    "import pandas as pd"
   ]
  },
  {
   "cell_type": "code",
   "execution_count": 172,
   "metadata": {
    "collapsed": false
   },
   "outputs": [],
   "source": [
    "#Read in HCI file for Parks Access\n",
    "hciurl = 'https://github.com/crsalviati/CA_Housing/raw/master/Raw_Data/ParkBeachOpen10_output4-12-13.xlsx'\n",
    "hci = pd.read_excel(hciurl, sheetname=0, converters={'geotypevalue':str,'county_fips':str})\n",
    "hci.columns = [x.lower() for x in hci.columns]"
   ]
  },
  {
   "cell_type": "code",
   "execution_count": 173,
   "metadata": {
    "collapsed": false
   },
   "outputs": [
    {
     "name": "stdout",
     "output_type": "stream",
     "text": [
      "86886\n",
      "[u'CO' u'CT' u'PL' u'RE' u'ST']\n",
      "[2010]\n"
     ]
    },
    {
     "data": {
      "text/html": [
       "<div>\n",
       "<table border=\"1\" class=\"dataframe\">\n",
       "  <thead>\n",
       "    <tr style=\"text-align: right;\">\n",
       "      <th></th>\n",
       "      <th>ind_id</th>\n",
       "      <th>ind_definition</th>\n",
       "      <th>reportyear</th>\n",
       "      <th>race_eth_code</th>\n",
       "      <th>race_eth_name</th>\n",
       "      <th>geotype</th>\n",
       "      <th>geotypevalue</th>\n",
       "      <th>geoname</th>\n",
       "      <th>county_name</th>\n",
       "      <th>county_fips</th>\n",
       "      <th>...</th>\n",
       "      <th>pop_park_acc</th>\n",
       "      <th>pop2010</th>\n",
       "      <th>p_parkacc</th>\n",
       "      <th>ll_95ci</th>\n",
       "      <th>ul_95ci</th>\n",
       "      <th>se</th>\n",
       "      <th>rse</th>\n",
       "      <th>ca_decile</th>\n",
       "      <th>ca_rr</th>\n",
       "      <th>version</th>\n",
       "    </tr>\n",
       "  </thead>\n",
       "  <tbody>\n",
       "    <tr>\n",
       "      <th>0</th>\n",
       "      <td>469</td>\n",
       "      <td>Percent of Population within ½ Mile of Park, B...</td>\n",
       "      <td>2010</td>\n",
       "      <td>1</td>\n",
       "      <td>AIAN</td>\n",
       "      <td>CO</td>\n",
       "      <td>06001</td>\n",
       "      <td>Alameda</td>\n",
       "      <td>Alameda</td>\n",
       "      <td>06001</td>\n",
       "      <td>...</td>\n",
       "      <td>3818.0</td>\n",
       "      <td>4189</td>\n",
       "      <td>0.911435</td>\n",
       "      <td>0.902831</td>\n",
       "      <td>0.920039</td>\n",
       "      <td>0.004390</td>\n",
       "      <td>4.956508</td>\n",
       "      <td>NaN</td>\n",
       "      <td>1.235649</td>\n",
       "      <td>2013-04-12 05:45:17.545</td>\n",
       "    </tr>\n",
       "    <tr>\n",
       "      <th>1</th>\n",
       "      <td>469</td>\n",
       "      <td>Percent of Population within ½ Mile of Park, B...</td>\n",
       "      <td>2010</td>\n",
       "      <td>1</td>\n",
       "      <td>AIAN</td>\n",
       "      <td>CO</td>\n",
       "      <td>06003</td>\n",
       "      <td>Alpine</td>\n",
       "      <td>Alpine</td>\n",
       "      <td>06003</td>\n",
       "      <td>...</td>\n",
       "      <td>201.0</td>\n",
       "      <td>210</td>\n",
       "      <td>0.957143</td>\n",
       "      <td>0.929749</td>\n",
       "      <td>0.984536</td>\n",
       "      <td>0.013976</td>\n",
       "      <td>32.611226</td>\n",
       "      <td>NaN</td>\n",
       "      <td>1.297617</td>\n",
       "      <td>2013-04-12 05:45:17.545</td>\n",
       "    </tr>\n",
       "    <tr>\n",
       "      <th>2</th>\n",
       "      <td>469</td>\n",
       "      <td>Percent of Population within ½ Mile of Park, B...</td>\n",
       "      <td>2010</td>\n",
       "      <td>1</td>\n",
       "      <td>AIAN</td>\n",
       "      <td>CO</td>\n",
       "      <td>06005</td>\n",
       "      <td>Amador</td>\n",
       "      <td>Amador</td>\n",
       "      <td>06005</td>\n",
       "      <td>...</td>\n",
       "      <td>176.0</td>\n",
       "      <td>547</td>\n",
       "      <td>0.321755</td>\n",
       "      <td>0.282606</td>\n",
       "      <td>0.360904</td>\n",
       "      <td>0.019974</td>\n",
       "      <td>6.207789</td>\n",
       "      <td>NaN</td>\n",
       "      <td>0.436209</td>\n",
       "      <td>2013-04-12 05:45:17.545</td>\n",
       "    </tr>\n",
       "    <tr>\n",
       "      <th>3</th>\n",
       "      <td>469</td>\n",
       "      <td>Percent of Population within ½ Mile of Park, B...</td>\n",
       "      <td>2010</td>\n",
       "      <td>1</td>\n",
       "      <td>AIAN</td>\n",
       "      <td>CO</td>\n",
       "      <td>06007</td>\n",
       "      <td>Butte</td>\n",
       "      <td>Butte</td>\n",
       "      <td>06007</td>\n",
       "      <td>...</td>\n",
       "      <td>1843.0</td>\n",
       "      <td>3395</td>\n",
       "      <td>0.542857</td>\n",
       "      <td>0.526100</td>\n",
       "      <td>0.559615</td>\n",
       "      <td>0.008550</td>\n",
       "      <td>1.870238</td>\n",
       "      <td>NaN</td>\n",
       "      <td>0.735962</td>\n",
       "      <td>2013-04-12 05:45:17.545</td>\n",
       "    </tr>\n",
       "    <tr>\n",
       "      <th>4</th>\n",
       "      <td>469</td>\n",
       "      <td>Percent of Population within ½ Mile of Park, B...</td>\n",
       "      <td>2010</td>\n",
       "      <td>1</td>\n",
       "      <td>AIAN</td>\n",
       "      <td>CO</td>\n",
       "      <td>06009</td>\n",
       "      <td>Calaveras</td>\n",
       "      <td>Calaveras</td>\n",
       "      <td>06009</td>\n",
       "      <td>...</td>\n",
       "      <td>191.0</td>\n",
       "      <td>526</td>\n",
       "      <td>0.363118</td>\n",
       "      <td>0.322020</td>\n",
       "      <td>0.404216</td>\n",
       "      <td>0.020968</td>\n",
       "      <td>5.774480</td>\n",
       "      <td>NaN</td>\n",
       "      <td>0.492286</td>\n",
       "      <td>2013-04-12 05:45:17.545</td>\n",
       "    </tr>\n",
       "  </tbody>\n",
       "</table>\n",
       "<p>5 rows × 22 columns</p>\n",
       "</div>"
      ],
      "text/plain": [
       "   ind_id                                     ind_definition  reportyear  \\\n",
       "0     469  Percent of Population within ½ Mile of Park, B...        2010   \n",
       "1     469  Percent of Population within ½ Mile of Park, B...        2010   \n",
       "2     469  Percent of Population within ½ Mile of Park, B...        2010   \n",
       "3     469  Percent of Population within ½ Mile of Park, B...        2010   \n",
       "4     469  Percent of Population within ½ Mile of Park, B...        2010   \n",
       "\n",
       "   race_eth_code race_eth_name geotype geotypevalue    geoname county_name  \\\n",
       "0              1          AIAN      CO        06001    Alameda     Alameda   \n",
       "1              1          AIAN      CO        06003     Alpine      Alpine   \n",
       "2              1          AIAN      CO        06005     Amador      Amador   \n",
       "3              1          AIAN      CO        06007      Butte       Butte   \n",
       "4              1          AIAN      CO        06009  Calaveras   Calaveras   \n",
       "\n",
       "  county_fips           ...           pop_park_acc  pop2010  p_parkacc  \\\n",
       "0       06001           ...                 3818.0     4189   0.911435   \n",
       "1       06003           ...                  201.0      210   0.957143   \n",
       "2       06005           ...                  176.0      547   0.321755   \n",
       "3       06007           ...                 1843.0     3395   0.542857   \n",
       "4       06009           ...                  191.0      526   0.363118   \n",
       "\n",
       "    ll_95ci   ul_95ci        se        rse  ca_decile     ca_rr  \\\n",
       "0  0.902831  0.920039  0.004390   4.956508        NaN  1.235649   \n",
       "1  0.929749  0.984536  0.013976  32.611226        NaN  1.297617   \n",
       "2  0.282606  0.360904  0.019974   6.207789        NaN  0.436209   \n",
       "3  0.526100  0.559615  0.008550   1.870238        NaN  0.735962   \n",
       "4  0.322020  0.404216  0.020968   5.774480        NaN  0.492286   \n",
       "\n",
       "                  version  \n",
       "0 2013-04-12 05:45:17.545  \n",
       "1 2013-04-12 05:45:17.545  \n",
       "2 2013-04-12 05:45:17.545  \n",
       "3 2013-04-12 05:45:17.545  \n",
       "4 2013-04-12 05:45:17.545  \n",
       "\n",
       "[5 rows x 22 columns]"
      ]
     },
     "execution_count": 173,
     "metadata": {},
     "output_type": "execute_result"
    }
   ],
   "source": [
    "#Overview of file\n",
    "print hci.shape[0]\n",
    "print hci.geotype.unique()\n",
    "print hci.reportyear.unique()\n",
    "hci.head()"
   ]
  },
  {
   "cell_type": "code",
   "execution_count": 174,
   "metadata": {
    "collapsed": false
   },
   "outputs": [
    {
     "name": "stdout",
     "output_type": "stream",
     "text": [
      "1524\n",
      "1524\n",
      "1513\n"
     ]
    },
    {
     "data": {
      "text/html": [
       "<div>\n",
       "<table border=\"1\" class=\"dataframe\">\n",
       "  <thead>\n",
       "    <tr style=\"text-align: right;\">\n",
       "      <th></th>\n",
       "      <th>geotypevalue</th>\n",
       "      <th>geoname</th>\n",
       "      <th>p_parkacc</th>\n",
       "      <th>pop2010</th>\n",
       "    </tr>\n",
       "  </thead>\n",
       "  <tbody>\n",
       "    <tr>\n",
       "      <th>85227</th>\n",
       "      <td>00135</td>\n",
       "      <td>Acalanes Ridge CDP</td>\n",
       "      <td>1.000000</td>\n",
       "      <td>1137</td>\n",
       "    </tr>\n",
       "    <tr>\n",
       "      <th>85228</th>\n",
       "      <td>00156</td>\n",
       "      <td>Acampo CDP</td>\n",
       "      <td>0.000000</td>\n",
       "      <td>341</td>\n",
       "    </tr>\n",
       "    <tr>\n",
       "      <th>85229</th>\n",
       "      <td>00212</td>\n",
       "      <td>Acton CDP</td>\n",
       "      <td>0.403765</td>\n",
       "      <td>7596</td>\n",
       "    </tr>\n",
       "    <tr>\n",
       "      <th>85230</th>\n",
       "      <td>00296</td>\n",
       "      <td>Adelanto city</td>\n",
       "      <td>0.147017</td>\n",
       "      <td>31765</td>\n",
       "    </tr>\n",
       "    <tr>\n",
       "      <th>85231</th>\n",
       "      <td>00310</td>\n",
       "      <td>Adin CDP</td>\n",
       "      <td>0.610294</td>\n",
       "      <td>272</td>\n",
       "    </tr>\n",
       "  </tbody>\n",
       "</table>\n",
       "</div>"
      ],
      "text/plain": [
       "      geotypevalue             geoname  p_parkacc  pop2010\n",
       "85227        00135  Acalanes Ridge CDP   1.000000     1137\n",
       "85228        00156          Acampo CDP   0.000000      341\n",
       "85229        00212           Acton CDP   0.403765     7596\n",
       "85230        00296       Adelanto city   0.147017    31765\n",
       "85231        00310            Adin CDP   0.610294      272"
      ]
     },
     "execution_count": 174,
     "metadata": {},
     "output_type": "execute_result"
    }
   ],
   "source": [
    "#Keep data at Place level, for Total race only (Most granular level for which data is available for most indicators)\n",
    "hci = hci[(hci.geotype==\"PL\") & (hci.race_eth_code == 9)]\n",
    "#Limit to fields of interest (don't need names, get those from FIPS file below)\n",
    "hci = hci[['geotypevalue','geoname', 'p_parkacc', 'pop2010']]\n",
    "\n",
    "#Note: geotypevalue (FIPS Place code) is a unique key, but geoname is not - \n",
    "#There are instances of the same place name in multiple counties\n",
    "print hci.shape[0]\n",
    "print hci.geotypevalue.nunique()\n",
    "print hci.geoname.nunique()\n",
    "\n",
    "#print hci.loc[hci2.duplicated('geoname', keep=False)]\n",
    "hci.head()"
   ]
  },
  {
   "cell_type": "code",
   "execution_count": 5,
   "metadata": {
    "collapsed": false
   },
   "outputs": [
    {
     "name": "stdout",
     "output_type": "stream",
     "text": [
      "4788\n",
      "[u'CA' u'CO' u'PL' u'RE']\n",
      "[u'2005-2007' u'2006-2010' u'2008-2010']\n"
     ]
    },
    {
     "data": {
      "text/html": [
       "<div>\n",
       "<table border=\"1\" class=\"dataframe\">\n",
       "  <thead>\n",
       "    <tr style=\"text-align: right;\">\n",
       "      <th></th>\n",
       "      <th>ind_id</th>\n",
       "      <th>ind_definition</th>\n",
       "      <th>reportyear</th>\n",
       "      <th>race_eth_code</th>\n",
       "      <th>race_eth_name</th>\n",
       "      <th>geotype</th>\n",
       "      <th>geotypevalue</th>\n",
       "      <th>geoname</th>\n",
       "      <th>county_name</th>\n",
       "      <th>county_fips</th>\n",
       "      <th>...</th>\n",
       "      <th>gini_index</th>\n",
       "      <th>ll_95ci</th>\n",
       "      <th>ul_95ci</th>\n",
       "      <th>se</th>\n",
       "      <th>rse</th>\n",
       "      <th>ca_decile</th>\n",
       "      <th>ca_rr</th>\n",
       "      <th>median_hh_income</th>\n",
       "      <th>median_hh_decile</th>\n",
       "      <th>version</th>\n",
       "    </tr>\n",
       "  </thead>\n",
       "  <tbody>\n",
       "    <tr>\n",
       "      <th>0</th>\n",
       "      <td>556</td>\n",
       "      <td>Income inequality: Gini coefficient describing...</td>\n",
       "      <td>2005-2007</td>\n",
       "      <td>9</td>\n",
       "      <td>Total</td>\n",
       "      <td>CA</td>\n",
       "      <td>06</td>\n",
       "      <td>California</td>\n",
       "      <td>NaN</td>\n",
       "      <td>NaN</td>\n",
       "      <td>...</td>\n",
       "      <td>0.468</td>\n",
       "      <td>0.465617</td>\n",
       "      <td>0.470383</td>\n",
       "      <td>0.001216</td>\n",
       "      <td>0.259787</td>\n",
       "      <td>NaN</td>\n",
       "      <td>NaN</td>\n",
       "      <td>NaN</td>\n",
       "      <td>NaN</td>\n",
       "      <td>2014-03-26 09:50:34</td>\n",
       "    </tr>\n",
       "    <tr>\n",
       "      <th>1</th>\n",
       "      <td>556</td>\n",
       "      <td>Income inequality: Gini coefficient describing...</td>\n",
       "      <td>2006-2010</td>\n",
       "      <td>9</td>\n",
       "      <td>Total</td>\n",
       "      <td>CA</td>\n",
       "      <td>06</td>\n",
       "      <td>California</td>\n",
       "      <td>NaN</td>\n",
       "      <td>NaN</td>\n",
       "      <td>...</td>\n",
       "      <td>0.469</td>\n",
       "      <td>0.467809</td>\n",
       "      <td>0.470191</td>\n",
       "      <td>0.000608</td>\n",
       "      <td>0.129617</td>\n",
       "      <td>NaN</td>\n",
       "      <td>NaN</td>\n",
       "      <td>NaN</td>\n",
       "      <td>NaN</td>\n",
       "      <td>2014-03-26 09:50:34</td>\n",
       "    </tr>\n",
       "    <tr>\n",
       "      <th>2</th>\n",
       "      <td>556</td>\n",
       "      <td>Income inequality: Gini coefficient describing...</td>\n",
       "      <td>2008-2010</td>\n",
       "      <td>9</td>\n",
       "      <td>Total</td>\n",
       "      <td>CA</td>\n",
       "      <td>06</td>\n",
       "      <td>California</td>\n",
       "      <td>NaN</td>\n",
       "      <td>NaN</td>\n",
       "      <td>...</td>\n",
       "      <td>0.471</td>\n",
       "      <td>0.468617</td>\n",
       "      <td>0.473383</td>\n",
       "      <td>0.001216</td>\n",
       "      <td>0.258133</td>\n",
       "      <td>NaN</td>\n",
       "      <td>NaN</td>\n",
       "      <td>NaN</td>\n",
       "      <td>NaN</td>\n",
       "      <td>2014-03-26 09:50:34</td>\n",
       "    </tr>\n",
       "    <tr>\n",
       "      <th>3</th>\n",
       "      <td>556</td>\n",
       "      <td>Income inequality: Gini coefficient describing...</td>\n",
       "      <td>2005-2007</td>\n",
       "      <td>9</td>\n",
       "      <td>Total</td>\n",
       "      <td>CO</td>\n",
       "      <td>06001</td>\n",
       "      <td>Alameda</td>\n",
       "      <td>Alameda</td>\n",
       "      <td>06001</td>\n",
       "      <td>...</td>\n",
       "      <td>0.455</td>\n",
       "      <td>0.449043</td>\n",
       "      <td>0.460957</td>\n",
       "      <td>0.003040</td>\n",
       "      <td>0.668025</td>\n",
       "      <td>NaN</td>\n",
       "      <td>0.972222</td>\n",
       "      <td>66430.0</td>\n",
       "      <td>3.0</td>\n",
       "      <td>2014-03-26 09:50:34</td>\n",
       "    </tr>\n",
       "    <tr>\n",
       "      <th>4</th>\n",
       "      <td>556</td>\n",
       "      <td>Income inequality: Gini coefficient describing...</td>\n",
       "      <td>2005-2007</td>\n",
       "      <td>9</td>\n",
       "      <td>Total</td>\n",
       "      <td>CO</td>\n",
       "      <td>06003</td>\n",
       "      <td>Alpine</td>\n",
       "      <td>Alpine</td>\n",
       "      <td>06003</td>\n",
       "      <td>...</td>\n",
       "      <td>NaN</td>\n",
       "      <td>NaN</td>\n",
       "      <td>NaN</td>\n",
       "      <td>NaN</td>\n",
       "      <td>NaN</td>\n",
       "      <td>NaN</td>\n",
       "      <td>NaN</td>\n",
       "      <td>NaN</td>\n",
       "      <td>NaN</td>\n",
       "      <td>2014-03-26 09:50:34</td>\n",
       "    </tr>\n",
       "  </tbody>\n",
       "</table>\n",
       "<p>5 rows × 24 columns</p>\n",
       "</div>"
      ],
      "text/plain": [
       "   ind_id                                     ind_definition reportyear  \\\n",
       "0     556  Income inequality: Gini coefficient describing...  2005-2007   \n",
       "1     556  Income inequality: Gini coefficient describing...  2006-2010   \n",
       "2     556  Income inequality: Gini coefficient describing...  2008-2010   \n",
       "3     556  Income inequality: Gini coefficient describing...  2005-2007   \n",
       "4     556  Income inequality: Gini coefficient describing...  2005-2007   \n",
       "\n",
       "   race_eth_code race_eth_name geotype geotypevalue     geoname county_name  \\\n",
       "0              9         Total      CA           06  California         NaN   \n",
       "1              9         Total      CA           06  California         NaN   \n",
       "2              9         Total      CA           06  California         NaN   \n",
       "3              9         Total      CO        06001     Alameda     Alameda   \n",
       "4              9         Total      CO        06003      Alpine      Alpine   \n",
       "\n",
       "  county_fips         ...         gini_index   ll_95ci   ul_95ci        se  \\\n",
       "0         NaN         ...              0.468  0.465617  0.470383  0.001216   \n",
       "1         NaN         ...              0.469  0.467809  0.470191  0.000608   \n",
       "2         NaN         ...              0.471  0.468617  0.473383  0.001216   \n",
       "3       06001         ...              0.455  0.449043  0.460957  0.003040   \n",
       "4       06003         ...                NaN       NaN       NaN       NaN   \n",
       "\n",
       "        rse  ca_decile     ca_rr  median_hh_income  median_hh_decile  \\\n",
       "0  0.259787        NaN       NaN               NaN               NaN   \n",
       "1  0.129617        NaN       NaN               NaN               NaN   \n",
       "2  0.258133        NaN       NaN               NaN               NaN   \n",
       "3  0.668025        NaN  0.972222           66430.0               3.0   \n",
       "4       NaN        NaN       NaN               NaN               NaN   \n",
       "\n",
       "              version  \n",
       "0 2014-03-26 09:50:34  \n",
       "1 2014-03-26 09:50:34  \n",
       "2 2014-03-26 09:50:34  \n",
       "3 2014-03-26 09:50:34  \n",
       "4 2014-03-26 09:50:34  \n",
       "\n",
       "[5 rows x 24 columns]"
      ]
     },
     "execution_count": 5,
     "metadata": {},
     "output_type": "execute_result"
    }
   ],
   "source": [
    "#Read in HCI file for Gini Coefficient (read into temp df, then merge onto master hci df below)\n",
    "tempurl = 'https://github.com/crsalviati/CA_Housing/raw/master/Raw_Data/gini_place_county_region_st3-26-14.xlsx'\n",
    "temp = pd.read_excel(tempurl, sheetname=0, converters={'geotypevalue':str,'county_fips':str})\n",
    "temp.columns = [x.lower() for x in temp.columns]\n",
    "print temp.shape[0]\n",
    "print temp.geotype.unique()\n",
    "print temp.reportyear.unique()\n",
    "temp.head()"
   ]
  },
  {
   "cell_type": "code",
   "execution_count": 6,
   "metadata": {
    "collapsed": false
   },
   "outputs": [
    {
     "name": "stdout",
     "output_type": "stream",
     "text": [
      "4569\n",
      "2005-2007    1523\n",
      "2008-2010    1523\n",
      "2006-2010    1523\n",
      "Name: reportyear, dtype: int64\n",
      "328\n",
      "1471\n",
      "341\n",
      "1138\n"
     ]
    }
   ],
   "source": [
    "#Keep Place level data for all race, explore years available, limit to fields of interest\n",
    "temp = temp[(temp.geotype==\"PL\") & (temp.race_eth_code == 9)]\n",
    "print temp.shape[0]\n",
    "print temp.reportyear.value_counts()\n",
    "print temp.gini_index[temp.reportyear == '2005-2007'].count()\n",
    "print temp.gini_index[temp.reportyear == '2006-2010'].count()\n",
    "print temp.gini_index[temp.reportyear == '2008-2010'].count()\n",
    "print temp.median_hh_income[temp.reportyear == '2006-2010'].count()\n",
    "#temp file has data for multiple data ranges. 2006-2010 is most complete, so we keep those observations\n",
    "temp = temp[temp.reportyear == '2006-2010']\n",
    "#Keep fields of interest\n",
    "temp = temp[['geotypevalue', 'gini_index', 'median_hh_income']]\n",
    "#temp.head()"
   ]
  },
  {
   "cell_type": "code",
   "execution_count": 7,
   "metadata": {
    "collapsed": false
   },
   "outputs": [
    {
     "name": "stdout",
     "output_type": "stream",
     "text": [
      "1524\n"
     ]
    },
    {
     "data": {
      "text/html": [
       "<div>\n",
       "<table border=\"1\" class=\"dataframe\">\n",
       "  <thead>\n",
       "    <tr style=\"text-align: right;\">\n",
       "      <th></th>\n",
       "      <th>geotypevalue</th>\n",
       "      <th>geoname</th>\n",
       "      <th>p_parkacc</th>\n",
       "      <th>pop2010</th>\n",
       "      <th>gini_index</th>\n",
       "      <th>median_hh_income</th>\n",
       "    </tr>\n",
       "  </thead>\n",
       "  <tbody>\n",
       "    <tr>\n",
       "      <th>0</th>\n",
       "      <td>00135</td>\n",
       "      <td>Acalanes Ridge CDP</td>\n",
       "      <td>1.000000</td>\n",
       "      <td>1137</td>\n",
       "      <td>0.415</td>\n",
       "      <td>140185.0</td>\n",
       "    </tr>\n",
       "    <tr>\n",
       "      <th>1</th>\n",
       "      <td>00156</td>\n",
       "      <td>Acampo CDP</td>\n",
       "      <td>0.000000</td>\n",
       "      <td>341</td>\n",
       "      <td>NaN</td>\n",
       "      <td>NaN</td>\n",
       "    </tr>\n",
       "    <tr>\n",
       "      <th>2</th>\n",
       "      <td>00212</td>\n",
       "      <td>Acton CDP</td>\n",
       "      <td>0.403765</td>\n",
       "      <td>7596</td>\n",
       "      <td>0.378</td>\n",
       "      <td>90888.0</td>\n",
       "    </tr>\n",
       "    <tr>\n",
       "      <th>3</th>\n",
       "      <td>00296</td>\n",
       "      <td>Adelanto city</td>\n",
       "      <td>0.147017</td>\n",
       "      <td>31765</td>\n",
       "      <td>0.384</td>\n",
       "      <td>43305.0</td>\n",
       "    </tr>\n",
       "    <tr>\n",
       "      <th>4</th>\n",
       "      <td>00310</td>\n",
       "      <td>Adin CDP</td>\n",
       "      <td>0.610294</td>\n",
       "      <td>272</td>\n",
       "      <td>0.369</td>\n",
       "      <td>NaN</td>\n",
       "    </tr>\n",
       "  </tbody>\n",
       "</table>\n",
       "</div>"
      ],
      "text/plain": [
       "  geotypevalue             geoname  p_parkacc  pop2010  gini_index  \\\n",
       "0        00135  Acalanes Ridge CDP   1.000000     1137       0.415   \n",
       "1        00156          Acampo CDP   0.000000      341         NaN   \n",
       "2        00212           Acton CDP   0.403765     7596       0.378   \n",
       "3        00296       Adelanto city   0.147017    31765       0.384   \n",
       "4        00310            Adin CDP   0.610294      272       0.369   \n",
       "\n",
       "   median_hh_income  \n",
       "0          140185.0  \n",
       "1               NaN  \n",
       "2           90888.0  \n",
       "3           43305.0  \n",
       "4               NaN  "
      ]
     },
     "execution_count": 7,
     "metadata": {},
     "output_type": "execute_result"
    }
   ],
   "source": [
    "#Merge onto hci by place code to create combined HCI file\n",
    "hci = pd.merge(hci, temp, on='geotypevalue', how='outer')\n",
    "print hci.shape[0]\n",
    "hci.head(5)"
   ]
  },
  {
   "cell_type": "code",
   "execution_count": 8,
   "metadata": {
    "collapsed": false
   },
   "outputs": [
    {
     "name": "stdout",
     "output_type": "stream",
     "text": [
      "202202\n",
      "[u'CA' u'CO' u'CT' u'PL' u'RE']\n",
      "[u'2000' u'2005-2007' u'2006-2010' u'2008-2010']\n",
      "[u'ind_id' u'ind_definition' u'reportyear' u'race_eth_code'\n",
      " u'race_eth_name' u'geotype' u'geotypevalue' u'geoname' u'county_name'\n",
      " u'county_fips' u'region_name' u'region_code' u'mode' u'mode_name'\n",
      " u'pop_total' u'pop_mode' u'percent' u'll95ci_percent' u'ul95ci_percent'\n",
      " u'percent_se' u'percent_rse' u'ca_decile' u'ca_rr' u'version']\n"
     ]
    }
   ],
   "source": [
    "#Read in HCI file for transport to work\n",
    "tempurl = 'https://github.com/crsalviati/CA_Housing/raw/master/Raw_Data/HCI_Transportation2Work_42_CT_PL_CO_RE_ST_12-12-13-revised.xlsx'\n",
    "temp = pd.read_excel(tempurl, sheetname=0, converters={'geotypevalue':str,'county_fips':str})\n",
    "temp.columns = [x.lower() for x in temp.columns]\n",
    "print temp.shape[0]\n",
    "print temp.geotype.unique()\n",
    "print temp.reportyear.unique()\n",
    "print temp.columns.values"
   ]
  },
  {
   "cell_type": "code",
   "execution_count": 9,
   "metadata": {
    "collapsed": false
   },
   "outputs": [
    {
     "name": "stdout",
     "output_type": "stream",
     "text": [
      "42644\n",
      "2008-2010    10661\n",
      "2000         10661\n",
      "2005-2007    10661\n",
      "2006-2010    10661\n",
      "Name: reportyear, dtype: int64\n",
      "6874\n",
      "1393\n",
      "1561\n",
      "7973\n",
      "1523\n",
      "384\n"
     ]
    }
   ],
   "source": [
    "#Keep Place level data for all race, explore years available, limit to fields of interest, reshape data\n",
    "temp = temp[(temp.geotype==\"PL\") & (temp.race_eth_code == 9)]\n",
    "temp = temp[['geotypevalue','reportyear', 'mode', 'pop_total', 'percent']]\n",
    "print temp.shape[0]\n",
    "print temp.reportyear.value_counts()\n",
    "print temp.percent[temp.reportyear == '2000'].count()\n",
    "print temp.percent[temp.reportyear == '2005-2007'].count()\n",
    "print temp.percent[temp.reportyear == '2008-2010'].count()\n",
    "print temp.percent[temp.reportyear == '2006-2010'].count()\n",
    "temp = temp[temp.reportyear == '2006-2010'] #Keep \"2006-2010\" values\n",
    "temp = temp.pivot(index='geotypevalue', columns='mode', values='percent')\n",
    "#temp = pd.pivot_table(temp, index=['geotypevalue', 'reportyear'], columns='mode', values='percent')\n",
    "temp.columns = [x.lower() for x in temp.columns]\n",
    "temp.reset_index(level=0, inplace=True)\n",
    "print temp.shape[0]\n",
    "print temp.publictr.isnull().sum()\n",
    "#temp.head(5) "
   ]
  },
  {
   "cell_type": "code",
   "execution_count": 10,
   "metadata": {
    "collapsed": false
   },
   "outputs": [
    {
     "name": "stdout",
     "output_type": "stream",
     "text": [
      "1524\n",
      "[u'geotypevalue' u'geoname' u'p_parkacc' u'pop2010' u'gini_index'\n",
      " u'median_hh_income' u'athome' u'bicycle' u'car' u'carpool' u'cartotal'\n",
      " u'publictr' u'walk']\n"
     ]
    }
   ],
   "source": [
    "#Merge onto combined HCI df\n",
    "hci = pd.merge(hci, temp, on='geotypevalue', how='outer')\n",
    "print hci.shape[0]\n",
    "print hci.columns.values"
   ]
  },
  {
   "cell_type": "code",
   "execution_count": 11,
   "metadata": {
    "collapsed": false
   },
   "outputs": [
    {
     "name": "stdout",
     "output_type": "stream",
     "text": [
      "14364\n",
      "[u'CA' u'CO' u'PL' u'RE']\n",
      "[u'2006-2010']\n",
      "[u'ind_id' u'ind_definition' u'reportyear' u'race_eth_code'\n",
      " u'race_eth_name' u'geotype' u'geotypevalue' u'geoname' u'county_name'\n",
      " u'county_fips' u'region_name' u'region_code' u'cost_yr' u'median_income'\n",
      " u'affordability_ratio' u'll95_affordability_ratio'\n",
      " u'ul95_affordability_ratio' u'se_food_afford' u'rse_food_afford'\n",
      " u'food_afford_decile' u'ca_rr_affordability' u'ave_fam_size' u'version']\n"
     ]
    },
    {
     "data": {
      "text/html": [
       "<div>\n",
       "<table border=\"1\" class=\"dataframe\">\n",
       "  <thead>\n",
       "    <tr style=\"text-align: right;\">\n",
       "      <th></th>\n",
       "      <th>ind_id</th>\n",
       "      <th>ind_definition</th>\n",
       "      <th>reportyear</th>\n",
       "      <th>race_eth_code</th>\n",
       "      <th>race_eth_name</th>\n",
       "      <th>geotype</th>\n",
       "      <th>geotypevalue</th>\n",
       "      <th>geoname</th>\n",
       "      <th>county_name</th>\n",
       "      <th>county_fips</th>\n",
       "      <th>...</th>\n",
       "      <th>median_income</th>\n",
       "      <th>affordability_ratio</th>\n",
       "      <th>ll95_affordability_ratio</th>\n",
       "      <th>ul95_affordability_ratio</th>\n",
       "      <th>se_food_afford</th>\n",
       "      <th>rse_food_afford</th>\n",
       "      <th>food_afford_decile</th>\n",
       "      <th>ca_rr_affordability</th>\n",
       "      <th>ave_fam_size</th>\n",
       "      <th>version</th>\n",
       "    </tr>\n",
       "  </thead>\n",
       "  <tbody>\n",
       "    <tr>\n",
       "      <th>0</th>\n",
       "      <td>757</td>\n",
       "      <td>Food affordability for female-headed household...</td>\n",
       "      <td>2006-2010</td>\n",
       "      <td>1</td>\n",
       "      <td>AIAN</td>\n",
       "      <td>CA</td>\n",
       "      <td>06</td>\n",
       "      <td>California</td>\n",
       "      <td>NaN</td>\n",
       "      <td>NaN</td>\n",
       "      <td>...</td>\n",
       "      <td>23777.0</td>\n",
       "      <td>0.315779</td>\n",
       "      <td>0.231517</td>\n",
       "      <td>0.400043</td>\n",
       "      <td>0.042991</td>\n",
       "      <td>13.614342</td>\n",
       "      <td>NaN</td>\n",
       "      <td>1.185347</td>\n",
       "      <td>3.34</td>\n",
       "      <td>2013-04-12 04:33:06.235</td>\n",
       "    </tr>\n",
       "    <tr>\n",
       "      <th>1</th>\n",
       "      <td>757</td>\n",
       "      <td>Food affordability for female-headed household...</td>\n",
       "      <td>2006-2010</td>\n",
       "      <td>2</td>\n",
       "      <td>Asian</td>\n",
       "      <td>CA</td>\n",
       "      <td>06</td>\n",
       "      <td>California</td>\n",
       "      <td>NaN</td>\n",
       "      <td>NaN</td>\n",
       "      <td>...</td>\n",
       "      <td>38508.0</td>\n",
       "      <td>0.194980</td>\n",
       "      <td>0.183065</td>\n",
       "      <td>0.206895</td>\n",
       "      <td>0.006079</td>\n",
       "      <td>3.117814</td>\n",
       "      <td>NaN</td>\n",
       "      <td>0.731900</td>\n",
       "      <td>3.34</td>\n",
       "      <td>2013-04-12 04:33:06.235</td>\n",
       "    </tr>\n",
       "    <tr>\n",
       "      <th>2</th>\n",
       "      <td>757</td>\n",
       "      <td>Food affordability for female-headed household...</td>\n",
       "      <td>2006-2010</td>\n",
       "      <td>3</td>\n",
       "      <td>AfricanAm</td>\n",
       "      <td>CA</td>\n",
       "      <td>06</td>\n",
       "      <td>California</td>\n",
       "      <td>NaN</td>\n",
       "      <td>NaN</td>\n",
       "      <td>...</td>\n",
       "      <td>26192.0</td>\n",
       "      <td>0.286664</td>\n",
       "      <td>0.279661</td>\n",
       "      <td>0.293666</td>\n",
       "      <td>0.003573</td>\n",
       "      <td>1.246349</td>\n",
       "      <td>NaN</td>\n",
       "      <td>1.076054</td>\n",
       "      <td>3.34</td>\n",
       "      <td>2013-04-12 04:33:06.235</td>\n",
       "    </tr>\n",
       "    <tr>\n",
       "      <th>3</th>\n",
       "      <td>757</td>\n",
       "      <td>Food affordability for female-headed household...</td>\n",
       "      <td>2006-2010</td>\n",
       "      <td>4</td>\n",
       "      <td>Latino</td>\n",
       "      <td>CA</td>\n",
       "      <td>06</td>\n",
       "      <td>California</td>\n",
       "      <td>NaN</td>\n",
       "      <td>NaN</td>\n",
       "      <td>...</td>\n",
       "      <td>22858.0</td>\n",
       "      <td>0.328475</td>\n",
       "      <td>0.322637</td>\n",
       "      <td>0.334314</td>\n",
       "      <td>0.002979</td>\n",
       "      <td>0.906881</td>\n",
       "      <td>NaN</td>\n",
       "      <td>1.233004</td>\n",
       "      <td>3.34</td>\n",
       "      <td>2013-04-12 04:33:06.235</td>\n",
       "    </tr>\n",
       "    <tr>\n",
       "      <th>4</th>\n",
       "      <td>757</td>\n",
       "      <td>Food affordability for female-headed household...</td>\n",
       "      <td>2006-2010</td>\n",
       "      <td>5</td>\n",
       "      <td>NHOPI</td>\n",
       "      <td>CA</td>\n",
       "      <td>06</td>\n",
       "      <td>California</td>\n",
       "      <td>NaN</td>\n",
       "      <td>NaN</td>\n",
       "      <td>...</td>\n",
       "      <td>36737.0</td>\n",
       "      <td>0.204379</td>\n",
       "      <td>0.173762</td>\n",
       "      <td>0.234997</td>\n",
       "      <td>0.015621</td>\n",
       "      <td>7.643255</td>\n",
       "      <td>NaN</td>\n",
       "      <td>0.767183</td>\n",
       "      <td>3.34</td>\n",
       "      <td>2013-04-12 04:33:06.235</td>\n",
       "    </tr>\n",
       "  </tbody>\n",
       "</table>\n",
       "<p>5 rows × 23 columns</p>\n",
       "</div>"
      ],
      "text/plain": [
       "   ind_id                                     ind_definition reportyear  \\\n",
       "0     757  Food affordability for female-headed household...  2006-2010   \n",
       "1     757  Food affordability for female-headed household...  2006-2010   \n",
       "2     757  Food affordability for female-headed household...  2006-2010   \n",
       "3     757  Food affordability for female-headed household...  2006-2010   \n",
       "4     757  Food affordability for female-headed household...  2006-2010   \n",
       "\n",
       "   race_eth_code race_eth_name geotype geotypevalue     geoname county_name  \\\n",
       "0              1          AIAN      CA           06  California         NaN   \n",
       "1              2         Asian      CA           06  California         NaN   \n",
       "2              3     AfricanAm      CA           06  California         NaN   \n",
       "3              4        Latino      CA           06  California         NaN   \n",
       "4              5         NHOPI      CA           06  California         NaN   \n",
       "\n",
       "  county_fips           ...           median_income  affordability_ratio  \\\n",
       "0         NaN           ...                 23777.0             0.315779   \n",
       "1         NaN           ...                 38508.0             0.194980   \n",
       "2         NaN           ...                 26192.0             0.286664   \n",
       "3         NaN           ...                 22858.0             0.328475   \n",
       "4         NaN           ...                 36737.0             0.204379   \n",
       "\n",
       "   ll95_affordability_ratio  ul95_affordability_ratio  se_food_afford  \\\n",
       "0                  0.231517                  0.400043        0.042991   \n",
       "1                  0.183065                  0.206895        0.006079   \n",
       "2                  0.279661                  0.293666        0.003573   \n",
       "3                  0.322637                  0.334314        0.002979   \n",
       "4                  0.173762                  0.234997        0.015621   \n",
       "\n",
       "   rse_food_afford  food_afford_decile  ca_rr_affordability  ave_fam_size  \\\n",
       "0        13.614342                 NaN             1.185347          3.34   \n",
       "1         3.117814                 NaN             0.731900          3.34   \n",
       "2         1.246349                 NaN             1.076054          3.34   \n",
       "3         0.906881                 NaN             1.233004          3.34   \n",
       "4         7.643255                 NaN             0.767183          3.34   \n",
       "\n",
       "                  version  \n",
       "0 2013-04-12 04:33:06.235  \n",
       "1 2013-04-12 04:33:06.235  \n",
       "2 2013-04-12 04:33:06.235  \n",
       "3 2013-04-12 04:33:06.235  \n",
       "4 2013-04-12 04:33:06.235  \n",
       "\n",
       "[5 rows x 23 columns]"
      ]
     },
     "execution_count": 11,
     "metadata": {},
     "output_type": "execute_result"
    }
   ],
   "source": [
    "#Read in HCI file for Food Affordability\n",
    "tempurl = 'https://github.com/crsalviati/CA_Housing/raw/master/Raw_Data/Food_afford_cdp_co_region_ca4-14-13.xls'\n",
    "temp = pd.read_excel(tempurl, sheetname=0, converters={'geotypevalue':str,'county_fips':str})\n",
    "temp.columns = [x.lower() for x in temp.columns]\n",
    "print temp.shape[0]\n",
    "print temp.geotype.unique()\n",
    "print temp.reportyear.unique()\n",
    "print temp.columns.values\n",
    "temp.head(5)"
   ]
  },
  {
   "cell_type": "code",
   "execution_count": 12,
   "metadata": {
    "collapsed": false
   },
   "outputs": [
    {
     "name": "stdout",
     "output_type": "stream",
     "text": [
      "1523\n",
      "563\n"
     ]
    }
   ],
   "source": [
    "#Keep Place level data for all race, limit to fields of interest\n",
    "temp = temp[(temp.geotype==\"PL\") & (temp.race_eth_code == 9)]\n",
    "temp = temp[['geotypevalue', 'median_income', 'affordability_ratio', 'ave_fam_size'  ]]\n",
    "temp.rename(columns={'affordability_ratio':'food_afford'},inplace =True)\n",
    "print temp.shape[0]\n",
    "print temp.food_afford.isnull().sum()"
   ]
  },
  {
   "cell_type": "code",
   "execution_count": 13,
   "metadata": {
    "collapsed": false
   },
   "outputs": [
    {
     "name": "stdout",
     "output_type": "stream",
     "text": [
      "1524\n",
      "[u'geotypevalue' u'geoname' u'p_parkacc' u'pop2010' u'gini_index'\n",
      " u'median_hh_income' u'athome' u'bicycle' u'car' u'carpool' u'cartotal'\n",
      " u'publictr' u'walk' u'median_income' 'food_afford' u'ave_fam_size']\n"
     ]
    }
   ],
   "source": [
    "#Merge onto combined HCI df\n",
    "hci = pd.merge(hci, temp, on='geotypevalue', how='outer')\n",
    "print hci.shape[0]\n",
    "print hci.columns.values"
   ]
  },
  {
   "cell_type": "code",
   "execution_count": 14,
   "metadata": {
    "collapsed": false
   },
   "outputs": [
    {
     "name": "stdout",
     "output_type": "stream",
     "text": [
      "10740\n",
      "[u'CA' u'CO' u'CT' u'PL' u'RE']\n",
      "[2009]\n",
      "[u'ind_id' u'ind_definition' u'reportyear' u'race_eth_name'\n",
      " u'race_eth_code' u'geotype' u'geotypevalue' u'geoname' u'county_name'\n",
      " u'county_fips' u'region_name' u'region_code' u'mrfei' u'll95ci' u'ul95ci'\n",
      " u'se' u'rse' u'ca_decile' u'ca_rr' u'pop00' u'version']\n"
     ]
    }
   ],
   "source": [
    "#Read in HCI file for Healthy Food Access\n",
    "tempurl = 'https://github.com/crsalviati/CA_Housing/raw/master/Raw_Data/HCI_RetailFoodEnvironment_75_CA_CO_RE_PL_CT_11-15-13.xls'\n",
    "temp = pd.read_excel(tempurl, sheetname=0, converters={'geotypevalue':str,'county_fips':str})\n",
    "temp.columns = [x.lower() for x in temp.columns]\n",
    "print temp.shape[0]\n",
    "print temp.geotype.unique()\n",
    "print temp.reportyear.unique()\n",
    "print temp.columns.values"
   ]
  },
  {
   "cell_type": "code",
   "execution_count": 15,
   "metadata": {
    "collapsed": false
   },
   "outputs": [
    {
     "name": "stdout",
     "output_type": "stream",
     "text": [
      "612\n",
      "5\n"
     ]
    }
   ],
   "source": [
    "#Keep Place level data for all race, limit to fields of interest\n",
    "temp = temp[(temp.geotype==\"PL\") & (temp.race_eth_code == 9)]\n",
    "temp = temp[['geotypevalue', 'mrfei']]\n",
    "temp.rename(columns={'mrfei':'hfood_acc'},inplace =True)\n",
    "print temp.shape[0]\n",
    "print temp.hfood_acc.isnull().sum()"
   ]
  },
  {
   "cell_type": "code",
   "execution_count": 16,
   "metadata": {
    "collapsed": false
   },
   "outputs": [
    {
     "name": "stdout",
     "output_type": "stream",
     "text": [
      "1524\n",
      "[u'geotypevalue' u'geoname' u'p_parkacc' u'pop2010' u'gini_index'\n",
      " u'median_hh_income' u'athome' u'bicycle' u'car' u'carpool' u'cartotal'\n",
      " u'publictr' u'walk' u'median_income' 'food_afford' u'ave_fam_size'\n",
      " 'hfood_acc']\n"
     ]
    }
   ],
   "source": [
    "#Merge onto combined HCI df\n",
    "hci = pd.merge(hci, temp, on='geotypevalue', how='outer')\n",
    "print hci.shape[0]\n",
    "print hci.columns.values"
   ]
  },
  {
   "cell_type": "code",
   "execution_count": 20,
   "metadata": {
    "collapsed": false
   },
   "outputs": [
    {
     "name": "stdout",
     "output_type": "stream",
     "text": [
      "3234\n",
      "[u'CO' u'MS' u'PL']\n",
      "[u'2007-2011']\n",
      "[u'ind_id' u'ind_definition' u'reportyear' u'race_eth_code'\n",
      " u'race_eth_name' u'geotype' u'geotypevalue' u'geoname' u'county_name'\n",
      " u'county_fips' u'msa_name' u'msa_code' u'strata_name_code' u'strata_name'\n",
      " u'strata_level_name_code' u'strata_level_name' u'jobs' u'housing' u'ratio'\n",
      " u'll_95ci' u'ul_95ci' u'ratio_se' u'ratio_rse' u'ratio_decile' u'ms_rr'\n",
      " u'version']\n"
     ]
    }
   ],
   "source": [
    "#Read in HCI file for Jobs/Housing Ratio\n",
    "tempurl = 'https://github.com/crsalviati/CA_Housing/raw/master/Raw_Data/HCI_JobHouseRatio_PL-MS-CO-768-4-24-15.xlsx'\n",
    "temp = pd.read_excel(tempurl, sheetname=0, converters={'geotypevalue':str,'county_fips':str})\n",
    "temp.columns = [x.lower() for x in temp.columns]\n",
    "print temp.shape[0]\n",
    "print temp.geotype.unique()\n",
    "print temp.reportyear.unique()\n",
    "print temp.columns.values"
   ]
  },
  {
   "cell_type": "code",
   "execution_count": 21,
   "metadata": {
    "collapsed": false
   },
   "outputs": [
    {
     "name": "stdout",
     "output_type": "stream",
     "text": [
      "1524\n",
      "97\n"
     ]
    },
    {
     "data": {
      "text/html": [
       "<div>\n",
       "<table border=\"1\" class=\"dataframe\">\n",
       "  <thead>\n",
       "    <tr style=\"text-align: right;\">\n",
       "      <th>strata_level_name</th>\n",
       "      <th>geotypevalue</th>\n",
       "      <th>job_house_low</th>\n",
       "      <th>job_house_tot</th>\n",
       "    </tr>\n",
       "  </thead>\n",
       "  <tbody>\n",
       "    <tr>\n",
       "      <th>0</th>\n",
       "      <td>00135</td>\n",
       "      <td>NaN</td>\n",
       "      <td>0.095436</td>\n",
       "    </tr>\n",
       "    <tr>\n",
       "      <th>1</th>\n",
       "      <td>00156</td>\n",
       "      <td>NaN</td>\n",
       "      <td>0.563380</td>\n",
       "    </tr>\n",
       "    <tr>\n",
       "      <th>2</th>\n",
       "      <td>00212</td>\n",
       "      <td>21.142857</td>\n",
       "      <td>0.529794</td>\n",
       "    </tr>\n",
       "    <tr>\n",
       "      <th>3</th>\n",
       "      <td>00296</td>\n",
       "      <td>0.583395</td>\n",
       "      <td>0.428894</td>\n",
       "    </tr>\n",
       "    <tr>\n",
       "      <th>4</th>\n",
       "      <td>00310</td>\n",
       "      <td>0.333333</td>\n",
       "      <td>0.093458</td>\n",
       "    </tr>\n",
       "  </tbody>\n",
       "</table>\n",
       "</div>"
      ],
      "text/plain": [
       "strata_level_name geotypevalue  job_house_low  job_house_tot\n",
       "0                        00135            NaN       0.095436\n",
       "1                        00156            NaN       0.563380\n",
       "2                        00212      21.142857       0.529794\n",
       "3                        00296       0.583395       0.428894\n",
       "4                        00310       0.333333       0.093458"
      ]
     },
     "execution_count": 21,
     "metadata": {},
     "output_type": "execute_result"
    }
   ],
   "source": [
    "#Keep Place level data for all race, limit to fields of interest, reshape data\n",
    "temp = temp[(temp.geotype==\"PL\") & (temp.race_eth_code == 9)]\n",
    "temp = temp[['geotypevalue', 'strata_level_name', 'ratio']]\n",
    "temp = temp.pivot(index='geotypevalue', columns='strata_level_name', values='ratio')\n",
    "temp.rename(columns={'LowWageJobstoAffordableHousing':'job_house_low'},inplace =True)\n",
    "temp.rename(columns={'TotalJobstoTotalHousing':'job_house_tot'},inplace =True)\n",
    "temp.reset_index(level=0, inplace=True)\n",
    "print temp.shape[0]\n",
    "print temp.job_house_tot.isnull().sum()\n",
    "temp.head(5) "
   ]
  },
  {
   "cell_type": "code",
   "execution_count": 23,
   "metadata": {
    "collapsed": false
   },
   "outputs": [
    {
     "name": "stdout",
     "output_type": "stream",
     "text": [
      "1532\n",
      "19\n",
      "[u'geotypevalue' u'geoname' u'p_parkacc' u'pop2010' u'gini_index'\n",
      " u'median_hh_income' u'athome' u'bicycle' u'car' u'carpool' u'cartotal'\n",
      " u'publictr' u'walk' u'median_income' 'food_afford' u'ave_fam_size'\n",
      " 'hfood_acc' 'job_house_low' 'job_house_tot']\n"
     ]
    }
   ],
   "source": [
    "#Merge onto combined HCI df\n",
    "hci = pd.merge(hci, temp, on='geotypevalue', how='outer')\n",
    "print hci.shape[0]\n",
    "print hci.shape[1]\n",
    "print hci.columns.values"
   ]
  },
  {
   "cell_type": "code",
   "execution_count": 26,
   "metadata": {
    "collapsed": false
   },
   "outputs": [
    {
     "name": "stdout",
     "output_type": "stream",
     "text": [
      "33957\n",
      "[u'CO' u'MS' u'PL']\n",
      "[2011]\n",
      "[u'ind_id' u'ind_definition' u'reportyear' u'race_eth_code'\n",
      " u'race_eth_name' u'geotype' u'geotypevalue' u'geoname' u'county_name'\n",
      " u'county_fips' u'msa_name' u'msa_code' u'strata_name_code' u'strata_name'\n",
      " u'strata_level_name_code' u'strata_level_name' u'jobs' u'employed_res'\n",
      " u'ratio' u'll_95ci' u'ul_95ci' u'ratio_se' u'ratio_rse' u'ratio_decile'\n",
      " u'ms_rr' u'version']\n"
     ]
    }
   ],
   "source": [
    "#Read in HCI file for Jobs/Employed Residents Ratio\n",
    "tempurl = 'https://github.com/crsalviati/CA_Housing/raw/master/Raw_Data/HCI_JobsMatch_PL-MS-CO_769_4-24-15.xlsx'\n",
    "temp = pd.read_excel(tempurl, sheetname=0, converters={'geotypevalue':str,'county_fips':str})\n",
    "temp.columns = [x.lower() for x in temp.columns]\n",
    "print temp.shape[0]\n",
    "print temp.geotype.unique()\n",
    "print temp.reportyear.unique()\n",
    "print temp.columns.values"
   ]
  },
  {
   "cell_type": "code",
   "execution_count": 32,
   "metadata": {
    "collapsed": false
   },
   "outputs": [
    {
     "name": "stdout",
     "output_type": "stream",
     "text": [
      "1524\n",
      "94\n"
     ]
    },
    {
     "data": {
      "text/html": [
       "<div>\n",
       "<table border=\"1\" class=\"dataframe\">\n",
       "  <thead>\n",
       "    <tr style=\"text-align: right;\">\n",
       "      <th></th>\n",
       "      <th>geotypevalue</th>\n",
       "      <th>job_match</th>\n",
       "    </tr>\n",
       "  </thead>\n",
       "  <tbody>\n",
       "    <tr>\n",
       "      <th>1970</th>\n",
       "      <td>00135</td>\n",
       "      <td>0.113300</td>\n",
       "    </tr>\n",
       "    <tr>\n",
       "      <th>1991</th>\n",
       "      <td>00156</td>\n",
       "      <td>0.201005</td>\n",
       "    </tr>\n",
       "    <tr>\n",
       "      <th>2012</th>\n",
       "      <td>00212</td>\n",
       "      <td>0.359886</td>\n",
       "    </tr>\n",
       "    <tr>\n",
       "      <th>2033</th>\n",
       "      <td>00296</td>\n",
       "      <td>0.470604</td>\n",
       "    </tr>\n",
       "    <tr>\n",
       "      <th>2054</th>\n",
       "      <td>00310</td>\n",
       "      <td>0.270270</td>\n",
       "    </tr>\n",
       "  </tbody>\n",
       "</table>\n",
       "</div>"
      ],
      "text/plain": [
       "     geotypevalue  job_match\n",
       "1970        00135   0.113300\n",
       "1991        00156   0.201005\n",
       "2012        00212   0.359886\n",
       "2033        00296   0.470604\n",
       "2054        00310   0.270270"
      ]
     },
     "execution_count": 32,
     "metadata": {},
     "output_type": "execute_result"
    }
   ],
   "source": [
    "#Keep Place level data for all race, explore years available, limit to fields of interest, reshape data\n",
    "temp = temp[(temp.geotype==\"PL\") & (temp.race_eth_code == 9)]\n",
    "temp = temp[temp.strata_level_name_code==21] #Data is stratified by industry; for now just keep total, possibly revisit\n",
    "temp = temp[['geotypevalue', 'ratio']]\n",
    "temp.rename(columns={'ratio':'job_match'},inplace =True)\n",
    "print temp.shape[0]\n",
    "print temp.job_match.isnull().sum()\n",
    "temp.head(5) "
   ]
  },
  {
   "cell_type": "code",
   "execution_count": 34,
   "metadata": {
    "collapsed": false
   },
   "outputs": [
    {
     "name": "stdout",
     "output_type": "stream",
     "text": [
      "1532\n",
      "20\n",
      "[u'geotypevalue' u'geoname' u'p_parkacc' u'pop2010' u'gini_index'\n",
      " u'median_hh_income' u'athome' u'bicycle' u'car' u'carpool' u'cartotal'\n",
      " u'publictr' u'walk' u'median_income' 'food_afford' u'ave_fam_size'\n",
      " 'hfood_acc' 'job_house_low' 'job_house_tot' 'job_match']\n"
     ]
    }
   ],
   "source": [
    "#Merge onto combined HCI df\n",
    "hci = pd.merge(hci, temp, on='geotypevalue', how='outer')\n",
    "print hci.shape[0]\n",
    "print hci.shape[1]\n",
    "print hci.columns.values"
   ]
  },
  {
   "cell_type": "code",
   "execution_count": 37,
   "metadata": {
    "collapsed": false
   },
   "outputs": [
    {
     "name": "stdout",
     "output_type": "stream",
     "text": [
      "16133\n",
      "[u'CA' u'CO' u'PL' u'RE' u'ZC']\n",
      "[u'2007-2009']\n",
      "[u'ind_id' u'ind_definition' u'reportyear' u'race_eth_code'\n",
      " u'race_eth_name' u'geotype' u'geotypevalue' u'geoname' u'county_name'\n",
      " u'county_fips' u'region_name' u'region_code' u'numerator' u'poppt'\n",
      " u'o3_unhealthy_days' u'll_95ci' u'ul_95ci' u'se' u'rse' u'ozone_decile'\n",
      " u'o3ratio_ca' u'version']\n"
     ]
    }
   ],
   "source": [
    "#Read in HCI file for Unhealthy Ozone\n",
    "tempurl = 'https://github.com/crsalviati/CA_Housing/raw/master/Raw_Data/ozone_zcta_place_co_region_ca4-14-13.xls'\n",
    "temp = pd.read_excel(tempurl, sheetname=0, converters={'geotypevalue':str,'county_fips':str})\n",
    "temp.columns = [x.lower() for x in temp.columns]\n",
    "print temp.shape[0]\n",
    "print temp.geotype.unique()\n",
    "print temp.reportyear.unique()\n",
    "print temp.columns.values"
   ]
  },
  {
   "cell_type": "code",
   "execution_count": 38,
   "metadata": {
    "collapsed": false
   },
   "outputs": [
    {
     "name": "stdout",
     "output_type": "stream",
     "text": [
      "1523\n",
      "167\n"
     ]
    },
    {
     "data": {
      "text/html": [
       "<div>\n",
       "<table border=\"1\" class=\"dataframe\">\n",
       "  <thead>\n",
       "    <tr style=\"text-align: right;\">\n",
       "      <th></th>\n",
       "      <th>geotypevalue</th>\n",
       "      <th>ozone</th>\n",
       "    </tr>\n",
       "  </thead>\n",
       "  <tbody>\n",
       "    <tr>\n",
       "      <th>539</th>\n",
       "      <td>00135</td>\n",
       "      <td>0.664322</td>\n",
       "    </tr>\n",
       "    <tr>\n",
       "      <th>548</th>\n",
       "      <td>00156</td>\n",
       "      <td>5.333333</td>\n",
       "    </tr>\n",
       "    <tr>\n",
       "      <th>557</th>\n",
       "      <td>00212</td>\n",
       "      <td>39.357030</td>\n",
       "    </tr>\n",
       "    <tr>\n",
       "      <th>566</th>\n",
       "      <td>00296</td>\n",
       "      <td>25.333595</td>\n",
       "    </tr>\n",
       "    <tr>\n",
       "      <th>575</th>\n",
       "      <td>00310</td>\n",
       "      <td>NaN</td>\n",
       "    </tr>\n",
       "  </tbody>\n",
       "</table>\n",
       "</div>"
      ],
      "text/plain": [
       "    geotypevalue      ozone\n",
       "539        00135   0.664322\n",
       "548        00156   5.333333\n",
       "557        00212  39.357030\n",
       "566        00296  25.333595\n",
       "575        00310        NaN"
      ]
     },
     "execution_count": 38,
     "metadata": {},
     "output_type": "execute_result"
    }
   ],
   "source": [
    "#Keep Place level data for all race, explore years available, limit to fields of interest, reshape data\n",
    "temp = temp[(temp.geotype==\"PL\") & (temp.race_eth_code == 9)]\n",
    "temp = temp[['geotypevalue', 'o3_unhealthy_days']]\n",
    "temp.rename(columns={'o3_unhealthy_days':'ozone'},inplace =True)\n",
    "print temp.shape[0]\n",
    "print temp.ozone.isnull().sum()\n",
    "temp.head(5) "
   ]
  },
  {
   "cell_type": "code",
   "execution_count": 40,
   "metadata": {
    "collapsed": false
   },
   "outputs": [
    {
     "name": "stdout",
     "output_type": "stream",
     "text": [
      "1532\n",
      "21\n",
      "[u'geotypevalue' u'geoname' u'p_parkacc' u'pop2010' u'gini_index'\n",
      " u'median_hh_income' u'athome' u'bicycle' u'car' u'carpool' u'cartotal'\n",
      " u'publictr' u'walk' u'median_income' 'food_afford' u'ave_fam_size'\n",
      " 'hfood_acc' 'job_house_low' 'job_house_tot' 'job_match' 'ozone']\n"
     ]
    }
   ],
   "source": [
    "#Merge onto combined HCI df\n",
    "hci = pd.merge(hci, temp, on='geotypevalue', how='outer')\n",
    "print hci.shape[0]\n",
    "print hci.shape[1]\n",
    "print hci.columns.values"
   ]
  },
  {
   "cell_type": "code",
   "execution_count": 169,
   "metadata": {
    "collapsed": false
   },
   "outputs": [
    {
     "name": "stdout",
     "output_type": "stream",
     "text": [
      "16133\n",
      "[u'CA' u'CO' u'PL' u'RE' u'ZC']\n",
      "[u'2007-2009']\n",
      "[u'ind_id' u'ind_definition' u'reportyear' u'race_eth_code'\n",
      " u'race_eth_name' u'geotype' u'geotypevalue' u'geoname' u'county_name'\n",
      " u'county_fips' u'region_name' u'region_code' u'numerator' u'poppt'\n",
      " u'pm25_concentration' u'll_95ci' u'ul_95ci' u'se' u'rse' u'pm25_decile'\n",
      " u'pm25ratio_ca' u'version']\n",
      "1523\n",
      "117\n"
     ]
    },
    {
     "data": {
      "text/html": [
       "<div>\n",
       "<table border=\"1\" class=\"dataframe\">\n",
       "  <thead>\n",
       "    <tr style=\"text-align: right;\">\n",
       "      <th></th>\n",
       "      <th>geotypevalue</th>\n",
       "      <th>pm25_conc</th>\n",
       "    </tr>\n",
       "  </thead>\n",
       "  <tbody>\n",
       "    <tr>\n",
       "      <th>539</th>\n",
       "      <td>00135</td>\n",
       "      <td>8.943230</td>\n",
       "    </tr>\n",
       "    <tr>\n",
       "      <th>548</th>\n",
       "      <td>00156</td>\n",
       "      <td>11.115626</td>\n",
       "    </tr>\n",
       "    <tr>\n",
       "      <th>557</th>\n",
       "      <td>00212</td>\n",
       "      <td>9.159316</td>\n",
       "    </tr>\n",
       "    <tr>\n",
       "      <th>566</th>\n",
       "      <td>00296</td>\n",
       "      <td>8.528040</td>\n",
       "    </tr>\n",
       "    <tr>\n",
       "      <th>575</th>\n",
       "      <td>00310</td>\n",
       "      <td>NaN</td>\n",
       "    </tr>\n",
       "  </tbody>\n",
       "</table>\n",
       "</div>"
      ],
      "text/plain": [
       "    geotypevalue  pm25_conc\n",
       "539        00135   8.943230\n",
       "548        00156  11.115626\n",
       "557        00212   9.159316\n",
       "566        00296   8.528040\n",
       "575        00310        NaN"
      ]
     },
     "execution_count": 169,
     "metadata": {},
     "output_type": "execute_result"
    }
   ],
   "source": [
    "#Read in HCI file for PM2.5 Concentration\n",
    "tempurl = 'https://github.com/crsalviati/CA_Housing/raw/master/Raw_Data/PM25_zcta_place_co_region_ca4-14-13.xls'\n",
    "temp = pd.read_excel(tempurl, sheetname=0, converters={'geotypevalue':str,'county_fips':str})\n",
    "temp.columns = [x.lower() for x in temp.columns]\n",
    "print temp.shape[0]\n",
    "print temp.geotype.unique()\n",
    "print temp.reportyear.unique()\n",
    "print temp.columns.values\n",
    "#Keep Place level data for all race, limit to fields of interest\n",
    "temp = temp[(temp.geotype==\"PL\") & (temp.race_eth_code == 9)]\n",
    "temp = temp[['geotypevalue', 'pm25_concentration']]\n",
    "temp.rename(columns={'pm25_concentration':'pm25_conc'},inplace =True)\n",
    "print temp.shape[0]\n",
    "print temp.pm25_conc.isnull().sum()\n",
    "temp.head(5) "
   ]
  },
  {
   "cell_type": "code",
   "execution_count": 176,
   "metadata": {
    "collapsed": false
   },
   "outputs": [
    {
     "name": "stdout",
     "output_type": "stream",
     "text": [
      "1524\n",
      "5\n",
      "[u'geotypevalue' u'geoname' u'p_parkacc' u'pop2010' 'pm25_conc']\n"
     ]
    }
   ],
   "source": [
    "#Merge onto combined HCI df\n",
    "hci = pd.merge(hci, temp, on='geotypevalue', how='outer')\n",
    "print hci.shape[0]\n",
    "print hci.shape[1]\n",
    "print hci.columns.values"
   ]
  },
  {
   "cell_type": "code",
   "execution_count": 177,
   "metadata": {
    "collapsed": false
   },
   "outputs": [
    {
     "name": "stdout",
     "output_type": "stream",
     "text": [
      "75540\n",
      "[u'RE' u'CO' u'PL' u'CT' u'ST']\n",
      "[u'2000' u'2005-2007' u'2008-2010' u'2006-2010']\n",
      "[u'ind_id' u'ind_definition' u'reportyear' u'race_eth_code'\n",
      " u'race_eth_name' u'geotype' u'geotypevalue' u'geoname' u'county_name'\n",
      " u'county_fips' u'region_name' u'region_code' u'pop25pl_hs' u'pop25pl'\n",
      " u'p_hs_edatt' u'se' u'rse' u'll_95ci' u'ul_95ci' u'ca_decile' u'ca_rr'\n",
      " u'version']\n"
     ]
    }
   ],
   "source": [
    "#Read in HCI file for HS Grad Attainment\n",
    "tempurl = 'https://github.com/crsalviati/CA_Housing/raw/master/Raw_Data/ed_attain_ge_hs_output04-14-13.xlsx'\n",
    "temp = pd.read_excel(tempurl, sheetname=0, converters={'geotypevalue':str,'county_fips':str})\n",
    "temp.columns = [x.lower() for x in temp.columns]\n",
    "print temp.shape[0]\n",
    "print temp.geotype.unique()\n",
    "print temp.reportyear.unique()\n",
    "print temp.columns.values"
   ]
  },
  {
   "cell_type": "code",
   "execution_count": 185,
   "metadata": {
    "collapsed": false
   },
   "outputs": [
    {
     "name": "stdout",
     "output_type": "stream",
     "text": [
      "1038\n",
      "328\n",
      "341\n",
      "1139\n",
      "1523\n",
      "384\n"
     ]
    },
    {
     "data": {
      "text/html": [
       "<div>\n",
       "<table border=\"1\" class=\"dataframe\">\n",
       "  <thead>\n",
       "    <tr style=\"text-align: right;\">\n",
       "      <th></th>\n",
       "      <th>geotypevalue</th>\n",
       "      <th>p_hs_edatt</th>\n",
       "    </tr>\n",
       "  </thead>\n",
       "  <tbody>\n",
       "    <tr>\n",
       "      <th>61706</th>\n",
       "      <td>00135</td>\n",
       "      <td>93.1</td>\n",
       "    </tr>\n",
       "    <tr>\n",
       "      <th>61715</th>\n",
       "      <td>00156</td>\n",
       "      <td>NaN</td>\n",
       "    </tr>\n",
       "    <tr>\n",
       "      <th>61724</th>\n",
       "      <td>00212</td>\n",
       "      <td>94.8</td>\n",
       "    </tr>\n",
       "    <tr>\n",
       "      <th>61733</th>\n",
       "      <td>00296</td>\n",
       "      <td>65.2</td>\n",
       "    </tr>\n",
       "    <tr>\n",
       "      <th>61742</th>\n",
       "      <td>00310</td>\n",
       "      <td>NaN</td>\n",
       "    </tr>\n",
       "  </tbody>\n",
       "</table>\n",
       "</div>"
      ],
      "text/plain": [
       "      geotypevalue  p_hs_edatt\n",
       "61706        00135        93.1\n",
       "61715        00156         NaN\n",
       "61724        00212        94.8\n",
       "61733        00296        65.2\n",
       "61742        00310         NaN"
      ]
     },
     "execution_count": 185,
     "metadata": {},
     "output_type": "execute_result"
    }
   ],
   "source": [
    "#Keep Place level data for all race, explore years available, limit to fields of interest\n",
    "temp = temp[(temp.geotype==\"PL\") & (temp.race_eth_code == 9)]\n",
    "print temp.p_hs_edatt[temp.reportyear == '2000'].count()\n",
    "print temp.p_hs_edatt[temp.reportyear == '2005-2007'].count()\n",
    "print temp.p_hs_edatt[temp.reportyear == '2008-2010'].count()\n",
    "print temp.p_hs_edatt[temp.reportyear == '2006-2010'].count()\n",
    "temp = temp[temp.reportyear == '2006-2010']\n",
    "temp = temp[['geotypevalue', 'p_hs_edatt']]\n",
    "print temp.shape[0]\n",
    "print temp.p_hs_edatt.isnull().sum()\n",
    "temp.head(5) "
   ]
  },
  {
   "cell_type": "code",
   "execution_count": 187,
   "metadata": {
    "collapsed": false
   },
   "outputs": [
    {
     "name": "stdout",
     "output_type": "stream",
     "text": [
      "1524\n",
      "6\n",
      "[u'geotypevalue' u'geoname' u'p_parkacc' u'pop2010' 'pm25_conc'\n",
      " u'p_hs_edatt']\n"
     ]
    }
   ],
   "source": [
    "#Merge onto combined HCI df\n",
    "hci = pd.merge(hci, temp, on='geotypevalue', how='outer')\n",
    "print hci.shape[0]\n",
    "print hci.shape[1]\n",
    "print hci.columns.values"
   ]
  },
  {
   "cell_type": "code",
   "execution_count": 197,
   "metadata": {
    "collapsed": false
   },
   "outputs": [
    {
     "name": "stdout",
     "output_type": "stream",
     "text": [
      "15869\n",
      "[u'CA' u'CO' u'PL' u'RE']\n",
      "[2010]\n",
      "[u'ind_id' u'ind_definition' u'reportyear' u'family_type' u'race_eth_code'\n",
      " u'race_eth_name' u'geotype' u'geotypevalue' u'geoname' u'county_name'\n",
      " u'county_fips' u'region_name' u'region_code' u'fam_lt_lw' u'families'\n",
      " u'pct_lt_lw' u'll_95ci' u'ul_95ci' u'se' u'rse' u'family_type_decile'\n",
      " u'ca_rr' u'livingwage' u'version']\n"
     ]
    }
   ],
   "source": [
    "#Read in HCI file for Living Wage\n",
    "tempurl = 'https://github.com/crsalviati/CA_Housing/raw/master/Raw_Data/HCI_Living_Wage_770_PL_CO_RE_CA_9-29-13.xls'\n",
    "temp = pd.read_excel(tempurl, sheetname=0, converters={'geotypevalue':str,'county_fips':str})\n",
    "temp.columns = [x.lower() for x in temp.columns]\n",
    "print temp.shape[0]\n",
    "print temp.geotype.unique()\n",
    "print temp.reportyear.unique()\n",
    "print temp.columns.values"
   ]
  },
  {
   "cell_type": "code",
   "execution_count": 201,
   "metadata": {
    "collapsed": false
   },
   "outputs": [
    {
     "name": "stdout",
     "output_type": "stream",
     "text": [
      "1523\n",
      "608\n"
     ]
    },
    {
     "data": {
      "text/html": [
       "<div>\n",
       "<table border=\"1\" class=\"dataframe\">\n",
       "  <thead>\n",
       "    <tr style=\"text-align: right;\">\n",
       "      <th>family_type</th>\n",
       "      <th>geotypevalue</th>\n",
       "      <th>livewage_s</th>\n",
       "      <th>livewage_m</th>\n",
       "    </tr>\n",
       "  </thead>\n",
       "  <tbody>\n",
       "    <tr>\n",
       "      <th>0</th>\n",
       "      <td>00135</td>\n",
       "      <td>NaN</td>\n",
       "      <td>NaN</td>\n",
       "    </tr>\n",
       "    <tr>\n",
       "      <th>1</th>\n",
       "      <td>00156</td>\n",
       "      <td>NaN</td>\n",
       "      <td>NaN</td>\n",
       "    </tr>\n",
       "    <tr>\n",
       "      <th>2</th>\n",
       "      <td>00212</td>\n",
       "      <td>4.462933</td>\n",
       "      <td>88.333333</td>\n",
       "    </tr>\n",
       "    <tr>\n",
       "      <th>3</th>\n",
       "      <td>00296</td>\n",
       "      <td>27.938945</td>\n",
       "      <td>90.762463</td>\n",
       "    </tr>\n",
       "    <tr>\n",
       "      <th>4</th>\n",
       "      <td>00310</td>\n",
       "      <td>NaN</td>\n",
       "      <td>NaN</td>\n",
       "    </tr>\n",
       "  </tbody>\n",
       "</table>\n",
       "</div>"
      ],
      "text/plain": [
       "family_type geotypevalue  livewage_s  livewage_m\n",
       "0                  00135         NaN         NaN\n",
       "1                  00156         NaN         NaN\n",
       "2                  00212    4.462933   88.333333\n",
       "3                  00296   27.938945   90.762463\n",
       "4                  00310         NaN         NaN"
      ]
     },
     "execution_count": 201,
     "metadata": {},
     "output_type": "execute_result"
    }
   ],
   "source": [
    "#Keep Place level data for all race, explore years available, limit to fields of interest, reshape data\n",
    "temp = temp[(temp.geotype==\"PL\") & (temp.race_eth_code == 9)]\n",
    "temp = temp[['geotypevalue', 'family_type', 'pct_lt_lw']]\n",
    "temp = temp.pivot(index='geotypevalue', columns='family_type', values='pct_lt_lw')\n",
    "temp.rename(columns={'MarriedCouple2Children':'livewage_s'},inplace =True)\n",
    "temp.rename(columns={'SingleMother2Children':'livewage_m'},inplace =True)\n",
    "temp.reset_index(level=0, inplace=True)\n",
    "print temp.shape[0]\n",
    "print temp.livewage_s.isnull().sum()\n",
    "temp.head(5) "
   ]
  },
  {
   "cell_type": "code",
   "execution_count": 195,
   "metadata": {
    "collapsed": false
   },
   "outputs": [
    {
     "name": "stdout",
     "output_type": "stream",
     "text": [
      "1524\n",
      "8\n",
      "[u'geotypevalue' u'geoname' u'p_parkacc' u'pop2010' 'pm25_conc'\n",
      " u'p_hs_edatt' 'livewage_s' 'livewage_m']\n"
     ]
    }
   ],
   "source": [
    "#Merge onto combined HCI df\n",
    "hci2 = pd.merge(hci, temp, on='geotypevalue', how='outer')\n",
    "print hci2.shape[0]\n",
    "print hci2.shape[1]\n",
    "print hci2.columns.values"
   ]
  },
  {
   "cell_type": "code",
   "execution_count": 196,
   "metadata": {
    "collapsed": false
   },
   "outputs": [
    {
     "name": "stdout",
     "output_type": "stream",
     "text": [
      "1524\n",
      "8\n",
      "[u'geotypevalue' u'geoname' u'p_parkacc' u'pop2010' 'pm25_conc'\n",
      " u'p_hs_edatt' 'livewage_s' 'livewage_m']\n"
     ]
    }
   ],
   "source": [
    "#Merge onto combined HCI df\n",
    "hci = pd.merge(hci, temp, on='geotypevalue', how='outer')\n",
    "print hci.shape[0]\n",
    "print hci.shape[1]\n",
    "print hci.columns.values"
   ]
  },
  {
   "cell_type": "code",
   "execution_count": 36,
   "metadata": {
    "collapsed": false
   },
   "outputs": [
    {
     "name": "stdout",
     "output_type": "stream",
     "text": [
      "     geotypevalue                              geoname\n",
      "21          01094                          Almanor CDP\n",
      "209         11166                          Caribou CDP\n",
      "235         12314                      Cedar Slope CDP\n",
      "1269        71932                      Silver City CDP\n",
      "1323        75588          Sugarloaf Mountain Park CDP\n",
      "1406        81312  University of California Merced CDP\n",
      "1420        81925                     Valley Wells CDP\n",
      "1524        10032                                  NaN\n",
      "1525        16090                                  NaN\n",
      "1526        21292                                  NaN\n",
      "1527        37692                                  NaN\n",
      "1528        57825                                  NaN\n",
      "1529        78138                                  NaN\n",
      "1530        82815                                  NaN\n",
      "1531        85208                                  NaN\n",
      "     geotypevalue                              geoname\n",
      "14          00786                       Alderpoint CDP\n",
      "21          01094                          Almanor CDP\n",
      "87          04730                      Bear Valley CDP\n",
      "128         07172                        Bluewater CDP\n",
      "150         07974                          Bradley CDP\n",
      "162         08744                       Bucks Lake CDP\n",
      "172         09318                    Butte Meadows CDP\n",
      "181         09822           California Hot Springs CDP\n",
      "189         10031                            Calwa CDP\n",
      "206         10914                        Canyondam CDP\n",
      "209         11166                          Caribou CDP\n",
      "219         11600                          Cartago CDP\n",
      "235         12314                      Cedar Slope CDP\n",
      "244         12818                         Cherokee CDP\n",
      "319         17204                Crestmore Heights CDP\n",
      "323         17288                         Cromberg CDP\n",
      "331         17727                           Cuyama CDP\n",
      "344         18450                     Delft Colony CDP\n",
      "394         20746                   East La Mirada CDP\n",
      "411         21530                         Edgewood CDP\n",
      "482         25030                     Fort Bidwell CDP\n",
      "492         25506                         Franklin CDP\n",
      "507         28021                    Furnace Creek CDP\n",
      "514         29070                            Garey CDP\n",
      "522         29644                        Glen Avon CDP\n",
      "527         30339                    Gold Mountain CDP\n",
      "532         30420                    Goodyears Bar CDP\n",
      "539         30714                     Graniteville CDP\n",
      "561         31540                           Guinda CDP\n",
      "570         32156                         Hardwick CDP\n",
      "...           ...                                  ...\n",
      "1261        71680                         Shoshone CDP\n",
      "1262        71774                    Sierra Brooks CDP\n",
      "1269        71932                      Silver City CDP\n",
      "1301        73612                        Spreckels CDP\n",
      "1302        73654                    Spring Garden CDP\n",
      "1318        75168                          Storrie CDP\n",
      "1323        75588          Sugarloaf Mountain Park CDP\n",
      "1324        75592               Sugarloaf Saw Mill CDP\n",
      "1325        75596                Sugarloaf Village CDP\n",
      "1331        76022                       Sunnyslope CDP\n",
      "1335        77126                     Sunset Beach CDP\n",
      "1351        78050                           Tecopa CDP\n",
      "1356        78134                  Temescal Valley CDP\n",
      "1373        78792                            Tobin CDP\n",
      "1376        78949                       Tooleville CDP\n",
      "1378        79030                            Topaz CDP\n",
      "1384        80364                       Tres Pinos CDP\n",
      "1387        80483                  Trinity Village CDP\n",
      "1388        80515                            Trona CDP\n",
      "1399        80952                            Twain CDP\n",
      "1406        81312  University of California Merced CDP\n",
      "1420        81925                     Valley Wells CDP\n",
      "1424        82334                            Verdi CDP\n",
      "1431        82814                          Vincent CDP\n",
      "1439        83215              Contra Costa Centre CDP\n",
      "1447        83494                    Warner Valley CDP\n",
      "1483        85206                       Whitewater CDP\n",
      "1493        85866                         Wilsonia CDP\n",
      "1523        99999                                  NaN\n",
      "1527        37692                                  NaN\n",
      "\n",
      "[105 rows x 2 columns]\n"
     ]
    }
   ],
   "source": [
    "#print hci[['geotypevalue', 'geoname']].loc[hci.p_parkacc.isnull()]\n",
    "#print hci[['geotypevalue', 'geoname']].loc[hci.job_house_tot.isnull()]"
   ]
  },
  {
   "cell_type": "code",
   "execution_count": null,
   "metadata": {
    "collapsed": false
   },
   "outputs": [],
   "source": [
    "# Read in FIPS codes  and limit to codes for CA\n",
    "fips = pd.read_csv('https://github.com/crsalviati/CA_Housing/raw/master/Raw_Data/fips_codes.txt', sep='|',converters={1:str,2:str})\n",
    "fips.columns = [x.lower() for x in fips.columns]\n",
    "fips = fips[(fips.state==\"CA\")]\n",
    "fips = fips[['placefp', 'placename', 'county']]\n",
    "print fips.shape[0]\n",
    "fips.head(5)"
   ]
  },
  {
   "cell_type": "code",
   "execution_count": null,
   "metadata": {
    "collapsed": false
   },
   "outputs": [],
   "source": [
    "#Merge FIPS codes onto HCI indicators\n",
    "hci.rename(columns={'geotypevalue':'placefp'},inplace =True)\n",
    "hci = pd.merge(hci, fips, on='placefp', how='left')\n",
    "\n",
    "#HCI data maps cleanly to FIPS codes, except for code 99999 (state average?) - drop this observation\n",
    "print hci.shape[0]\n",
    "print hci[hci.placename.isnull()]\n",
    "hci = hci[hci.placename.notnull()]\n",
    "print hci.shape[0]\n",
    "hci.head()\n",
    "#Clean up place names to merge with Zillow data\n",
    "hci.head()"
   ]
  },
  {
   "cell_type": "code",
   "execution_count": null,
   "metadata": {
    "collapsed": false
   },
   "outputs": [],
   "source": [
    "#Read in Zillow index: Median ZRI Per Sq Ft: SFR, Condo/Co-op ($)\n",
    "zri_sqft = pd.read_csv('https://github.com/crsalviati/CA_Housing/raw/master/Raw_Data/City_ZriPerSqft_AllHomes.csv', converters={1:str})\n",
    "zri_sqft.columns = [x.lower() for x in zri_sqft.columns]\n",
    "#Limit to observations for CA, keep only vars of interest, and rename vars\n",
    "zri_sqft = zri_sqft[zri_sqft.state == 'CA']\n",
    "zri_sqft = zri_sqft[['regionid', 'regionname', 'countyname', '2010-12']]\n",
    "zri_sqft.rename(columns={'2010-12':'zri_sqft'},inplace =True)\n",
    "print zri_sqft.shape[0]\n",
    "zri_sqft.head()"
   ]
  },
  {
   "cell_type": "code",
   "execution_count": null,
   "metadata": {
    "collapsed": false
   },
   "outputs": [],
   "source": [
    "#Read in Zillow index: Median Home Value Per Sq Ft ($)\n",
    "hval_sqft = pd.read_csv('https://github.com/crsalviati/CA_Housing/raw/master/Raw_Data/City_MedianValuePerSqft_AllHomes.csv', converters={1:str})\n",
    "hval_sqft.columns = [x.lower() for x in hval_sqft.columns]\n",
    "hval_sqft.head()\n",
    "#Limit to observations for CA, keep only vars of interest, and rename vars\n",
    "hval_sqft = hval_sqft[hval_sqft.state == 'CA']\n",
    "hval_sqft = hval_sqft[['regionid', 'regionname', 'countyname', '2010-12']]\n",
    "hval_sqft.rename(columns={'2010-12':'hval_sqft'},inplace =True)\n",
    "print hval_sqft.shape[0]\n",
    "hval_sqft.head()"
   ]
  },
  {
   "cell_type": "code",
   "execution_count": null,
   "metadata": {
    "collapsed": false
   },
   "outputs": [],
   "source": [
    "zillow = pd.merge(zri_sqft, hval_sqft, on=['regionid', 'regionname', 'countyname'], how='outer')\n",
    "#zillow = pd.merge(zri_sqft, hval_sqft, on=['regionid'], how='outer')\n",
    "\n",
    "zillow.rename(columns={'regionname':'placename'},inplace =True)\n",
    "zillow.rename(columns={'countyname':'county'},inplace =True)\n",
    "\n",
    "#Note Zillow only has data on 737 cities, as opposed to 1523 FIPS places\n",
    "print zillow.shape[0]\n",
    "print zillow.count()\n",
    "zillow.head()\n",
    "zillow.sort_values('placename', inplace=True)\n",
    "print zillow[['regionid', 'placename', 'county']].loc[zillow.hval_sqft.isnull()]\n",
    "print zillow[['regionid', 'placename', 'county']].loc[zillow.zri_sqft.isnull()]"
   ]
  },
  {
   "cell_type": "code",
   "execution_count": null,
   "metadata": {
    "collapsed": false
   },
   "outputs": [],
   "source": [
    "#Clean up names before merge\n",
    "hci['placename'] = hci['placename'].str.replace(' city', '')\n",
    "hci['placename'] = hci['placename'].str.replace(' CDP', '')\n",
    "hci['placename'] = hci['placename'].str.replace(' town', '')\n",
    "hci['county'] = hci['county'].str.replace(' County', '')\n",
    "hci.placename.replace('San Buenaventura (Ventura)', 'Ventura', inplace=True)\n",
    "hci.placename.replace('El Paso de Robles (Paso Robles)', 'Paso Robles', inplace=True)\n",
    "hci.placename.replace('Avilla Beach', 'Avila Beach', inplace=True)\n",
    "hci.placename.replace('Coultervillle', 'Coulterville', inplace=True)\n",
    "hci.placename.replace('Blairsden|Graeagle', 'Blairsden-Graeagle', inplace=True, regex=True)\n",
    "hci.placename.replace('St. Helena', 'Saint Helena', inplace=True)\n",
    "hci.loc[hci.placename == 'Aromas', 'county'] = \"Monterey\"\n",
    "hci.loc[hci.placename == 'Tahoma', 'county'] = \"El Dorado\"\n",
    "zillow.loc[zillow.placename == 'Westlake Village', 'county'] = \"Los Angeles\"\n",
    "zillow.loc[zillow.placename == 'Bradley', 'county'] = \"Monterey\"\n",
    "zillow.loc[zillow.placename == 'Cottonwood', 'county'] = \"Shasta\"\n",
    "zillow.loc[zillow.placename == 'Maricopa', 'county'] = \"Kern\"\n",
    "zillow.loc[zillow.placename == 'Smartsville', 'county'] = \"Yuba\"\n",
    "zillow.loc[zillow.placename == 'Trona', 'county'] = \"Inyo\"\n",
    "zillow.loc[zillow.placename == 'Westwood', 'county'] = \"Lassen\"\n",
    "zillow.placename.replace('Broadmoor Village', 'Broadmoor', inplace=True)\n",
    "zillow.placename.replace('Carmel', 'Carmel-by-the-Sea', inplace=True)\n",
    "zillow.placename.replace('Carmel Valley', 'Carmel Valley Village', inplace=True)\n",
    "zillow.placename.replace('Hilmar', 'Hilmar-Irwin', inplace=True)\n",
    "zillow.placename.replace('Idyllwild', 'Idyllwild-Pine Cove', inplace=True)\n",
    "zillow.placename.replace('Lagunitas', 'Lagunitas-Forest Knolls', inplace=True)\n",
    "zillow.placename.replace('Mather Air Force Base', 'Mather', inplace=True)\n",
    "zillow.placename.replace('Mc Farland', 'McFarland', inplace=True)\n",
    "zillow.placename.replace('Mi Wuk Village', 'Mi-Wuk Village', inplace=True)\n",
    "zillow.placename.replace('Newport Coast', 'Newport Beach', inplace=True)\n",
    "zillow.placename.replace('Palos Verdes Peninsula', 'Palos Verdes Estates', inplace=True)\n",
    "zillow.placename.replace('South Yuba City', 'Yuba City', inplace=True)\n",
    "zillow.placename.replace('Tahoe City', 'Sunnyside-Tahoe City', inplace=True)\n",
    "zillow.placename.replace('The Sea Ranch', 'Sea Ranch', inplace=True)\n",
    "zillow.placename.replace('Tuolumne', 'Tuolumne City', inplace=True)\n",
    "\n",
    "fullbuild = pd.merge(hci, zillow, on=['placename', 'county'], how='outer')\n",
    "fullbuild.head()"
   ]
  },
  {
   "cell_type": "code",
   "execution_count": null,
   "metadata": {
    "collapsed": false
   },
   "outputs": [],
   "source": [
    "print fullbuild.shape[0]\n",
    "print fullbuild.placename.nunique()\n",
    "print fullbuild.count()"
   ]
  },
  {
   "cell_type": "code",
   "execution_count": null,
   "metadata": {
    "collapsed": false
   },
   "outputs": [],
   "source": [
    "fullbuild.sort_values('placename')\n",
    "print fullbuild.loc[fullbuild.duplicated(['placename', 'county'], keep=False)].count()\n",
    "print fullbuild.loc[fullbuild.duplicated(['placename', 'county'], keep=False)]"
   ]
  },
  {
   "cell_type": "code",
   "execution_count": null,
   "metadata": {
    "collapsed": false
   },
   "outputs": [],
   "source": [
    "print fullbuild[['county', 'placename']].loc[fullbuild.placefp.isnull()]"
   ]
  },
  {
   "cell_type": "code",
   "execution_count": null,
   "metadata": {
    "collapsed": true
   },
   "outputs": [],
   "source": []
  }
 ],
 "metadata": {
  "kernelspec": {
   "display_name": "Python 2",
   "language": "python",
   "name": "python2"
  },
  "language_info": {
   "codemirror_mode": {
    "name": "ipython",
    "version": 2
   },
   "file_extension": ".py",
   "mimetype": "text/x-python",
   "name": "python",
   "nbconvert_exporter": "python",
   "pygments_lexer": "ipython2",
   "version": "2.7.11"
  }
 },
 "nbformat": 4,
 "nbformat_minor": 0
}
