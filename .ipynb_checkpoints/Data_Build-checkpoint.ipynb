{
 "cells": [
  {
   "cell_type": "code",
   "execution_count": 1,
   "metadata": {
    "collapsed": true
   },
   "outputs": [],
   "source": [
    "import pandas as pd"
   ]
  },
  {
   "cell_type": "code",
   "execution_count": 2,
   "metadata": {
    "collapsed": false
   },
   "outputs": [],
   "source": [
    "#Read in HCI file for Parks Access\n",
    "hciurl = 'https://github.com/crsalviati/CA_Housing/raw/master/Raw_Data/ParkBeachOpen10_output4-12-13.xlsx'\n",
    "hci = pd.read_excel(hciurl, sheetname=0, converters={'geotypevalue':str,'county_fips':str})\n",
    "hci.columns = [x.lower() for x in hci.columns]"
   ]
  },
  {
   "cell_type": "code",
   "execution_count": 3,
   "metadata": {
    "collapsed": false
   },
   "outputs": [
    {
     "name": "stdout",
     "output_type": "stream",
     "text": [
      "86886\n",
      "[u'CO' u'CT' u'PL' u'RE' u'ST']\n",
      "[2010]\n"
     ]
    },
    {
     "data": {
      "text/html": [
       "<div>\n",
       "<table border=\"1\" class=\"dataframe\">\n",
       "  <thead>\n",
       "    <tr style=\"text-align: right;\">\n",
       "      <th></th>\n",
       "      <th>ind_id</th>\n",
       "      <th>ind_definition</th>\n",
       "      <th>reportyear</th>\n",
       "      <th>race_eth_code</th>\n",
       "      <th>race_eth_name</th>\n",
       "      <th>geotype</th>\n",
       "      <th>geotypevalue</th>\n",
       "      <th>geoname</th>\n",
       "      <th>county_name</th>\n",
       "      <th>county_fips</th>\n",
       "      <th>...</th>\n",
       "      <th>pop_park_acc</th>\n",
       "      <th>pop2010</th>\n",
       "      <th>p_parkacc</th>\n",
       "      <th>ll_95ci</th>\n",
       "      <th>ul_95ci</th>\n",
       "      <th>se</th>\n",
       "      <th>rse</th>\n",
       "      <th>ca_decile</th>\n",
       "      <th>ca_rr</th>\n",
       "      <th>version</th>\n",
       "    </tr>\n",
       "  </thead>\n",
       "  <tbody>\n",
       "    <tr>\n",
       "      <th>0</th>\n",
       "      <td>469</td>\n",
       "      <td>Percent of Population within ½ Mile of Park, B...</td>\n",
       "      <td>2010</td>\n",
       "      <td>1</td>\n",
       "      <td>AIAN</td>\n",
       "      <td>CO</td>\n",
       "      <td>06001</td>\n",
       "      <td>Alameda</td>\n",
       "      <td>Alameda</td>\n",
       "      <td>06001</td>\n",
       "      <td>...</td>\n",
       "      <td>3818.0</td>\n",
       "      <td>4189</td>\n",
       "      <td>0.911435</td>\n",
       "      <td>0.902831</td>\n",
       "      <td>0.920039</td>\n",
       "      <td>0.004390</td>\n",
       "      <td>4.956508</td>\n",
       "      <td>NaN</td>\n",
       "      <td>1.235649</td>\n",
       "      <td>2013-04-12 05:45:17.545</td>\n",
       "    </tr>\n",
       "    <tr>\n",
       "      <th>1</th>\n",
       "      <td>469</td>\n",
       "      <td>Percent of Population within ½ Mile of Park, B...</td>\n",
       "      <td>2010</td>\n",
       "      <td>1</td>\n",
       "      <td>AIAN</td>\n",
       "      <td>CO</td>\n",
       "      <td>06003</td>\n",
       "      <td>Alpine</td>\n",
       "      <td>Alpine</td>\n",
       "      <td>06003</td>\n",
       "      <td>...</td>\n",
       "      <td>201.0</td>\n",
       "      <td>210</td>\n",
       "      <td>0.957143</td>\n",
       "      <td>0.929749</td>\n",
       "      <td>0.984536</td>\n",
       "      <td>0.013976</td>\n",
       "      <td>32.611226</td>\n",
       "      <td>NaN</td>\n",
       "      <td>1.297617</td>\n",
       "      <td>2013-04-12 05:45:17.545</td>\n",
       "    </tr>\n",
       "    <tr>\n",
       "      <th>2</th>\n",
       "      <td>469</td>\n",
       "      <td>Percent of Population within ½ Mile of Park, B...</td>\n",
       "      <td>2010</td>\n",
       "      <td>1</td>\n",
       "      <td>AIAN</td>\n",
       "      <td>CO</td>\n",
       "      <td>06005</td>\n",
       "      <td>Amador</td>\n",
       "      <td>Amador</td>\n",
       "      <td>06005</td>\n",
       "      <td>...</td>\n",
       "      <td>176.0</td>\n",
       "      <td>547</td>\n",
       "      <td>0.321755</td>\n",
       "      <td>0.282606</td>\n",
       "      <td>0.360904</td>\n",
       "      <td>0.019974</td>\n",
       "      <td>6.207789</td>\n",
       "      <td>NaN</td>\n",
       "      <td>0.436209</td>\n",
       "      <td>2013-04-12 05:45:17.545</td>\n",
       "    </tr>\n",
       "    <tr>\n",
       "      <th>3</th>\n",
       "      <td>469</td>\n",
       "      <td>Percent of Population within ½ Mile of Park, B...</td>\n",
       "      <td>2010</td>\n",
       "      <td>1</td>\n",
       "      <td>AIAN</td>\n",
       "      <td>CO</td>\n",
       "      <td>06007</td>\n",
       "      <td>Butte</td>\n",
       "      <td>Butte</td>\n",
       "      <td>06007</td>\n",
       "      <td>...</td>\n",
       "      <td>1843.0</td>\n",
       "      <td>3395</td>\n",
       "      <td>0.542857</td>\n",
       "      <td>0.526100</td>\n",
       "      <td>0.559615</td>\n",
       "      <td>0.008550</td>\n",
       "      <td>1.870238</td>\n",
       "      <td>NaN</td>\n",
       "      <td>0.735962</td>\n",
       "      <td>2013-04-12 05:45:17.545</td>\n",
       "    </tr>\n",
       "    <tr>\n",
       "      <th>4</th>\n",
       "      <td>469</td>\n",
       "      <td>Percent of Population within ½ Mile of Park, B...</td>\n",
       "      <td>2010</td>\n",
       "      <td>1</td>\n",
       "      <td>AIAN</td>\n",
       "      <td>CO</td>\n",
       "      <td>06009</td>\n",
       "      <td>Calaveras</td>\n",
       "      <td>Calaveras</td>\n",
       "      <td>06009</td>\n",
       "      <td>...</td>\n",
       "      <td>191.0</td>\n",
       "      <td>526</td>\n",
       "      <td>0.363118</td>\n",
       "      <td>0.322020</td>\n",
       "      <td>0.404216</td>\n",
       "      <td>0.020968</td>\n",
       "      <td>5.774480</td>\n",
       "      <td>NaN</td>\n",
       "      <td>0.492286</td>\n",
       "      <td>2013-04-12 05:45:17.545</td>\n",
       "    </tr>\n",
       "  </tbody>\n",
       "</table>\n",
       "<p>5 rows × 22 columns</p>\n",
       "</div>"
      ],
      "text/plain": [
       "   ind_id                                     ind_definition  reportyear  \\\n",
       "0     469  Percent of Population within ½ Mile of Park, B...        2010   \n",
       "1     469  Percent of Population within ½ Mile of Park, B...        2010   \n",
       "2     469  Percent of Population within ½ Mile of Park, B...        2010   \n",
       "3     469  Percent of Population within ½ Mile of Park, B...        2010   \n",
       "4     469  Percent of Population within ½ Mile of Park, B...        2010   \n",
       "\n",
       "   race_eth_code race_eth_name geotype geotypevalue    geoname county_name  \\\n",
       "0              1          AIAN      CO        06001    Alameda     Alameda   \n",
       "1              1          AIAN      CO        06003     Alpine      Alpine   \n",
       "2              1          AIAN      CO        06005     Amador      Amador   \n",
       "3              1          AIAN      CO        06007      Butte       Butte   \n",
       "4              1          AIAN      CO        06009  Calaveras   Calaveras   \n",
       "\n",
       "  county_fips           ...           pop_park_acc  pop2010  p_parkacc  \\\n",
       "0       06001           ...                 3818.0     4189   0.911435   \n",
       "1       06003           ...                  201.0      210   0.957143   \n",
       "2       06005           ...                  176.0      547   0.321755   \n",
       "3       06007           ...                 1843.0     3395   0.542857   \n",
       "4       06009           ...                  191.0      526   0.363118   \n",
       "\n",
       "    ll_95ci   ul_95ci        se        rse  ca_decile     ca_rr  \\\n",
       "0  0.902831  0.920039  0.004390   4.956508        NaN  1.235649   \n",
       "1  0.929749  0.984536  0.013976  32.611226        NaN  1.297617   \n",
       "2  0.282606  0.360904  0.019974   6.207789        NaN  0.436209   \n",
       "3  0.526100  0.559615  0.008550   1.870238        NaN  0.735962   \n",
       "4  0.322020  0.404216  0.020968   5.774480        NaN  0.492286   \n",
       "\n",
       "                  version  \n",
       "0 2013-04-12 05:45:17.545  \n",
       "1 2013-04-12 05:45:17.545  \n",
       "2 2013-04-12 05:45:17.545  \n",
       "3 2013-04-12 05:45:17.545  \n",
       "4 2013-04-12 05:45:17.545  \n",
       "\n",
       "[5 rows x 22 columns]"
      ]
     },
     "execution_count": 3,
     "metadata": {},
     "output_type": "execute_result"
    }
   ],
   "source": [
    "#Overview of file\n",
    "print hci.shape[0]\n",
    "print hci.geotype.unique()\n",
    "print hci.reportyear.unique()\n",
    "hci.head()"
   ]
  },
  {
   "cell_type": "code",
   "execution_count": 4,
   "metadata": {
    "collapsed": false
   },
   "outputs": [
    {
     "name": "stdout",
     "output_type": "stream",
     "text": [
      "1524\n",
      "1524\n",
      "1513\n"
     ]
    },
    {
     "data": {
      "text/html": [
       "<div>\n",
       "<table border=\"1\" class=\"dataframe\">\n",
       "  <thead>\n",
       "    <tr style=\"text-align: right;\">\n",
       "      <th></th>\n",
       "      <th>geotypevalue</th>\n",
       "      <th>geoname</th>\n",
       "      <th>p_parkacc</th>\n",
       "      <th>pop2010</th>\n",
       "    </tr>\n",
       "  </thead>\n",
       "  <tbody>\n",
       "    <tr>\n",
       "      <th>85227</th>\n",
       "      <td>00135</td>\n",
       "      <td>Acalanes Ridge CDP</td>\n",
       "      <td>1.000000</td>\n",
       "      <td>1137</td>\n",
       "    </tr>\n",
       "    <tr>\n",
       "      <th>85228</th>\n",
       "      <td>00156</td>\n",
       "      <td>Acampo CDP</td>\n",
       "      <td>0.000000</td>\n",
       "      <td>341</td>\n",
       "    </tr>\n",
       "    <tr>\n",
       "      <th>85229</th>\n",
       "      <td>00212</td>\n",
       "      <td>Acton CDP</td>\n",
       "      <td>0.403765</td>\n",
       "      <td>7596</td>\n",
       "    </tr>\n",
       "    <tr>\n",
       "      <th>85230</th>\n",
       "      <td>00296</td>\n",
       "      <td>Adelanto city</td>\n",
       "      <td>0.147017</td>\n",
       "      <td>31765</td>\n",
       "    </tr>\n",
       "    <tr>\n",
       "      <th>85231</th>\n",
       "      <td>00310</td>\n",
       "      <td>Adin CDP</td>\n",
       "      <td>0.610294</td>\n",
       "      <td>272</td>\n",
       "    </tr>\n",
       "  </tbody>\n",
       "</table>\n",
       "</div>"
      ],
      "text/plain": [
       "      geotypevalue             geoname  p_parkacc  pop2010\n",
       "85227        00135  Acalanes Ridge CDP   1.000000     1137\n",
       "85228        00156          Acampo CDP   0.000000      341\n",
       "85229        00212           Acton CDP   0.403765     7596\n",
       "85230        00296       Adelanto city   0.147017    31765\n",
       "85231        00310            Adin CDP   0.610294      272"
      ]
     },
     "execution_count": 4,
     "metadata": {},
     "output_type": "execute_result"
    }
   ],
   "source": [
    "#Keep data at Place level, for Total race only (Most granular level for which data is available for most indicators)\n",
    "hci = hci[(hci.geotype==\"PL\") & (hci.race_eth_code == 9)]\n",
    "#Limit to fields of interest (don't need names, get those from FIPS file below)\n",
    "hci = hci[['geotypevalue','geoname', 'p_parkacc', 'pop2010']]\n",
    "\n",
    "#Note: geotypevalue (FIPS Place code) is a unique key, but geoname is not - \n",
    "#There are instances of the same place name in multiple counties\n",
    "print hci.shape[0]\n",
    "print hci.geotypevalue.nunique()\n",
    "print hci.geoname.nunique()\n",
    "\n",
    "#print hci.loc[hci2.duplicated('geoname', keep=False)]\n",
    "hci.head()"
   ]
  },
  {
   "cell_type": "code",
   "execution_count": 5,
   "metadata": {
    "collapsed": false
   },
   "outputs": [
    {
     "name": "stdout",
     "output_type": "stream",
     "text": [
      "4788\n",
      "[u'CA' u'CO' u'PL' u'RE']\n",
      "[u'2005-2007' u'2006-2010' u'2008-2010']\n"
     ]
    },
    {
     "data": {
      "text/html": [
       "<div>\n",
       "<table border=\"1\" class=\"dataframe\">\n",
       "  <thead>\n",
       "    <tr style=\"text-align: right;\">\n",
       "      <th></th>\n",
       "      <th>ind_id</th>\n",
       "      <th>ind_definition</th>\n",
       "      <th>reportyear</th>\n",
       "      <th>race_eth_code</th>\n",
       "      <th>race_eth_name</th>\n",
       "      <th>geotype</th>\n",
       "      <th>geotypevalue</th>\n",
       "      <th>geoname</th>\n",
       "      <th>county_name</th>\n",
       "      <th>county_fips</th>\n",
       "      <th>...</th>\n",
       "      <th>gini_index</th>\n",
       "      <th>ll_95ci</th>\n",
       "      <th>ul_95ci</th>\n",
       "      <th>se</th>\n",
       "      <th>rse</th>\n",
       "      <th>ca_decile</th>\n",
       "      <th>ca_rr</th>\n",
       "      <th>median_hh_income</th>\n",
       "      <th>median_hh_decile</th>\n",
       "      <th>version</th>\n",
       "    </tr>\n",
       "  </thead>\n",
       "  <tbody>\n",
       "    <tr>\n",
       "      <th>0</th>\n",
       "      <td>556</td>\n",
       "      <td>Income inequality: Gini coefficient describing...</td>\n",
       "      <td>2005-2007</td>\n",
       "      <td>9</td>\n",
       "      <td>Total</td>\n",
       "      <td>CA</td>\n",
       "      <td>06</td>\n",
       "      <td>California</td>\n",
       "      <td>NaN</td>\n",
       "      <td>NaN</td>\n",
       "      <td>...</td>\n",
       "      <td>0.468</td>\n",
       "      <td>0.465617</td>\n",
       "      <td>0.470383</td>\n",
       "      <td>0.001216</td>\n",
       "      <td>0.259787</td>\n",
       "      <td>NaN</td>\n",
       "      <td>NaN</td>\n",
       "      <td>NaN</td>\n",
       "      <td>NaN</td>\n",
       "      <td>2014-03-26 09:50:34</td>\n",
       "    </tr>\n",
       "    <tr>\n",
       "      <th>1</th>\n",
       "      <td>556</td>\n",
       "      <td>Income inequality: Gini coefficient describing...</td>\n",
       "      <td>2006-2010</td>\n",
       "      <td>9</td>\n",
       "      <td>Total</td>\n",
       "      <td>CA</td>\n",
       "      <td>06</td>\n",
       "      <td>California</td>\n",
       "      <td>NaN</td>\n",
       "      <td>NaN</td>\n",
       "      <td>...</td>\n",
       "      <td>0.469</td>\n",
       "      <td>0.467809</td>\n",
       "      <td>0.470191</td>\n",
       "      <td>0.000608</td>\n",
       "      <td>0.129617</td>\n",
       "      <td>NaN</td>\n",
       "      <td>NaN</td>\n",
       "      <td>NaN</td>\n",
       "      <td>NaN</td>\n",
       "      <td>2014-03-26 09:50:34</td>\n",
       "    </tr>\n",
       "    <tr>\n",
       "      <th>2</th>\n",
       "      <td>556</td>\n",
       "      <td>Income inequality: Gini coefficient describing...</td>\n",
       "      <td>2008-2010</td>\n",
       "      <td>9</td>\n",
       "      <td>Total</td>\n",
       "      <td>CA</td>\n",
       "      <td>06</td>\n",
       "      <td>California</td>\n",
       "      <td>NaN</td>\n",
       "      <td>NaN</td>\n",
       "      <td>...</td>\n",
       "      <td>0.471</td>\n",
       "      <td>0.468617</td>\n",
       "      <td>0.473383</td>\n",
       "      <td>0.001216</td>\n",
       "      <td>0.258133</td>\n",
       "      <td>NaN</td>\n",
       "      <td>NaN</td>\n",
       "      <td>NaN</td>\n",
       "      <td>NaN</td>\n",
       "      <td>2014-03-26 09:50:34</td>\n",
       "    </tr>\n",
       "    <tr>\n",
       "      <th>3</th>\n",
       "      <td>556</td>\n",
       "      <td>Income inequality: Gini coefficient describing...</td>\n",
       "      <td>2005-2007</td>\n",
       "      <td>9</td>\n",
       "      <td>Total</td>\n",
       "      <td>CO</td>\n",
       "      <td>06001</td>\n",
       "      <td>Alameda</td>\n",
       "      <td>Alameda</td>\n",
       "      <td>06001</td>\n",
       "      <td>...</td>\n",
       "      <td>0.455</td>\n",
       "      <td>0.449043</td>\n",
       "      <td>0.460957</td>\n",
       "      <td>0.003040</td>\n",
       "      <td>0.668025</td>\n",
       "      <td>NaN</td>\n",
       "      <td>0.972222</td>\n",
       "      <td>66430.0</td>\n",
       "      <td>3.0</td>\n",
       "      <td>2014-03-26 09:50:34</td>\n",
       "    </tr>\n",
       "    <tr>\n",
       "      <th>4</th>\n",
       "      <td>556</td>\n",
       "      <td>Income inequality: Gini coefficient describing...</td>\n",
       "      <td>2005-2007</td>\n",
       "      <td>9</td>\n",
       "      <td>Total</td>\n",
       "      <td>CO</td>\n",
       "      <td>06003</td>\n",
       "      <td>Alpine</td>\n",
       "      <td>Alpine</td>\n",
       "      <td>06003</td>\n",
       "      <td>...</td>\n",
       "      <td>NaN</td>\n",
       "      <td>NaN</td>\n",
       "      <td>NaN</td>\n",
       "      <td>NaN</td>\n",
       "      <td>NaN</td>\n",
       "      <td>NaN</td>\n",
       "      <td>NaN</td>\n",
       "      <td>NaN</td>\n",
       "      <td>NaN</td>\n",
       "      <td>2014-03-26 09:50:34</td>\n",
       "    </tr>\n",
       "  </tbody>\n",
       "</table>\n",
       "<p>5 rows × 24 columns</p>\n",
       "</div>"
      ],
      "text/plain": [
       "   ind_id                                     ind_definition reportyear  \\\n",
       "0     556  Income inequality: Gini coefficient describing...  2005-2007   \n",
       "1     556  Income inequality: Gini coefficient describing...  2006-2010   \n",
       "2     556  Income inequality: Gini coefficient describing...  2008-2010   \n",
       "3     556  Income inequality: Gini coefficient describing...  2005-2007   \n",
       "4     556  Income inequality: Gini coefficient describing...  2005-2007   \n",
       "\n",
       "   race_eth_code race_eth_name geotype geotypevalue     geoname county_name  \\\n",
       "0              9         Total      CA           06  California         NaN   \n",
       "1              9         Total      CA           06  California         NaN   \n",
       "2              9         Total      CA           06  California         NaN   \n",
       "3              9         Total      CO        06001     Alameda     Alameda   \n",
       "4              9         Total      CO        06003      Alpine      Alpine   \n",
       "\n",
       "  county_fips         ...         gini_index   ll_95ci   ul_95ci        se  \\\n",
       "0         NaN         ...              0.468  0.465617  0.470383  0.001216   \n",
       "1         NaN         ...              0.469  0.467809  0.470191  0.000608   \n",
       "2         NaN         ...              0.471  0.468617  0.473383  0.001216   \n",
       "3       06001         ...              0.455  0.449043  0.460957  0.003040   \n",
       "4       06003         ...                NaN       NaN       NaN       NaN   \n",
       "\n",
       "        rse  ca_decile     ca_rr  median_hh_income  median_hh_decile  \\\n",
       "0  0.259787        NaN       NaN               NaN               NaN   \n",
       "1  0.129617        NaN       NaN               NaN               NaN   \n",
       "2  0.258133        NaN       NaN               NaN               NaN   \n",
       "3  0.668025        NaN  0.972222           66430.0               3.0   \n",
       "4       NaN        NaN       NaN               NaN               NaN   \n",
       "\n",
       "              version  \n",
       "0 2014-03-26 09:50:34  \n",
       "1 2014-03-26 09:50:34  \n",
       "2 2014-03-26 09:50:34  \n",
       "3 2014-03-26 09:50:34  \n",
       "4 2014-03-26 09:50:34  \n",
       "\n",
       "[5 rows x 24 columns]"
      ]
     },
     "execution_count": 5,
     "metadata": {},
     "output_type": "execute_result"
    }
   ],
   "source": [
    "#Read in HCI file for Gini Coefficient (read into temp df, then merge onto master hci df below)\n",
    "tempurl = 'https://github.com/crsalviati/CA_Housing/raw/master/Raw_Data/gini_place_county_region_st3-26-14.xlsx'\n",
    "temp = pd.read_excel(tempurl, sheetname=0, converters={'geotypevalue':str,'county_fips':str})\n",
    "temp.columns = [x.lower() for x in temp.columns]\n",
    "print temp.shape[0]\n",
    "print temp.geotype.unique()\n",
    "print temp.reportyear.unique()\n",
    "temp.head()"
   ]
  },
  {
   "cell_type": "code",
   "execution_count": 6,
   "metadata": {
    "collapsed": false
   },
   "outputs": [
    {
     "name": "stdout",
     "output_type": "stream",
     "text": [
      "4569\n",
      "2005-2007    1523\n",
      "2008-2010    1523\n",
      "2006-2010    1523\n",
      "Name: reportyear, dtype: int64\n",
      "328\n",
      "1471\n",
      "341\n",
      "1138\n"
     ]
    }
   ],
   "source": [
    "#Keep Place level data for all race, explore years available, limit to fields of interest\n",
    "temp = temp[(temp.geotype==\"PL\") & (temp.race_eth_code == 9)]\n",
    "print temp.shape[0]\n",
    "print temp.reportyear.value_counts()\n",
    "print temp.gini_index[temp.reportyear == '2005-2007'].count()\n",
    "print temp.gini_index[temp.reportyear == '2006-2010'].count()\n",
    "print temp.gini_index[temp.reportyear == '2008-2010'].count()\n",
    "print temp.median_hh_income[temp.reportyear == '2006-2010'].count()\n",
    "#temp file has data for multiple data ranges. 2006-2010 is most complete, so we keep those observations\n",
    "temp = temp[temp.reportyear == '2006-2010']\n",
    "#Keep fields of interest\n",
    "temp = temp[['geotypevalue', 'gini_index', 'median_hh_income']]\n",
    "#temp.head()"
   ]
  },
  {
   "cell_type": "code",
   "execution_count": 7,
   "metadata": {
    "collapsed": false
   },
   "outputs": [
    {
     "name": "stdout",
     "output_type": "stream",
     "text": [
      "1524\n"
     ]
    },
    {
     "data": {
      "text/html": [
       "<div>\n",
       "<table border=\"1\" class=\"dataframe\">\n",
       "  <thead>\n",
       "    <tr style=\"text-align: right;\">\n",
       "      <th></th>\n",
       "      <th>geotypevalue</th>\n",
       "      <th>geoname</th>\n",
       "      <th>p_parkacc</th>\n",
       "      <th>pop2010</th>\n",
       "      <th>gini_index</th>\n",
       "      <th>median_hh_income</th>\n",
       "    </tr>\n",
       "  </thead>\n",
       "  <tbody>\n",
       "    <tr>\n",
       "      <th>0</th>\n",
       "      <td>00135</td>\n",
       "      <td>Acalanes Ridge CDP</td>\n",
       "      <td>1.000000</td>\n",
       "      <td>1137</td>\n",
       "      <td>0.415</td>\n",
       "      <td>140185.0</td>\n",
       "    </tr>\n",
       "    <tr>\n",
       "      <th>1</th>\n",
       "      <td>00156</td>\n",
       "      <td>Acampo CDP</td>\n",
       "      <td>0.000000</td>\n",
       "      <td>341</td>\n",
       "      <td>NaN</td>\n",
       "      <td>NaN</td>\n",
       "    </tr>\n",
       "    <tr>\n",
       "      <th>2</th>\n",
       "      <td>00212</td>\n",
       "      <td>Acton CDP</td>\n",
       "      <td>0.403765</td>\n",
       "      <td>7596</td>\n",
       "      <td>0.378</td>\n",
       "      <td>90888.0</td>\n",
       "    </tr>\n",
       "    <tr>\n",
       "      <th>3</th>\n",
       "      <td>00296</td>\n",
       "      <td>Adelanto city</td>\n",
       "      <td>0.147017</td>\n",
       "      <td>31765</td>\n",
       "      <td>0.384</td>\n",
       "      <td>43305.0</td>\n",
       "    </tr>\n",
       "    <tr>\n",
       "      <th>4</th>\n",
       "      <td>00310</td>\n",
       "      <td>Adin CDP</td>\n",
       "      <td>0.610294</td>\n",
       "      <td>272</td>\n",
       "      <td>0.369</td>\n",
       "      <td>NaN</td>\n",
       "    </tr>\n",
       "  </tbody>\n",
       "</table>\n",
       "</div>"
      ],
      "text/plain": [
       "  geotypevalue             geoname  p_parkacc  pop2010  gini_index  \\\n",
       "0        00135  Acalanes Ridge CDP   1.000000     1137       0.415   \n",
       "1        00156          Acampo CDP   0.000000      341         NaN   \n",
       "2        00212           Acton CDP   0.403765     7596       0.378   \n",
       "3        00296       Adelanto city   0.147017    31765       0.384   \n",
       "4        00310            Adin CDP   0.610294      272       0.369   \n",
       "\n",
       "   median_hh_income  \n",
       "0          140185.0  \n",
       "1               NaN  \n",
       "2           90888.0  \n",
       "3           43305.0  \n",
       "4               NaN  "
      ]
     },
     "execution_count": 7,
     "metadata": {},
     "output_type": "execute_result"
    }
   ],
   "source": [
    "#Merge onto hci by place code to create combined HCI file\n",
    "hci = pd.merge(hci, temp, on='geotypevalue', how='outer')\n",
    "print hci.shape[0]\n",
    "hci.head(5)"
   ]
  },
  {
   "cell_type": "code",
   "execution_count": 8,
   "metadata": {
    "collapsed": false
   },
   "outputs": [
    {
     "name": "stdout",
     "output_type": "stream",
     "text": [
      "202202\n",
      "[u'CA' u'CO' u'CT' u'PL' u'RE']\n",
      "[u'2000' u'2005-2007' u'2006-2010' u'2008-2010']\n",
      "[u'ind_id' u'ind_definition' u'reportyear' u'race_eth_code'\n",
      " u'race_eth_name' u'geotype' u'geotypevalue' u'geoname' u'county_name'\n",
      " u'county_fips' u'region_name' u'region_code' u'mode' u'mode_name'\n",
      " u'pop_total' u'pop_mode' u'percent' u'll95ci_percent' u'ul95ci_percent'\n",
      " u'percent_se' u'percent_rse' u'ca_decile' u'ca_rr' u'version']\n"
     ]
    }
   ],
   "source": [
    "#Read in HCI file for transport to work\n",
    "tempurl = 'https://github.com/crsalviati/CA_Housing/raw/master/Raw_Data/HCI_Transportation2Work_42_CT_PL_CO_RE_ST_12-12-13-revised.xlsx'\n",
    "temp = pd.read_excel(tempurl, sheetname=0, converters={'geotypevalue':str,'county_fips':str})\n",
    "temp.columns = [x.lower() for x in temp.columns]\n",
    "print temp.shape[0]\n",
    "print temp.geotype.unique()\n",
    "print temp.reportyear.unique()\n",
    "print temp.columns.values"
   ]
  },
  {
   "cell_type": "code",
   "execution_count": 9,
   "metadata": {
    "collapsed": false
   },
   "outputs": [
    {
     "name": "stdout",
     "output_type": "stream",
     "text": [
      "42644\n",
      "2008-2010    10661\n",
      "2000         10661\n",
      "2005-2007    10661\n",
      "2006-2010    10661\n",
      "Name: reportyear, dtype: int64\n",
      "6874\n",
      "1393\n",
      "1561\n",
      "7973\n",
      "1523\n",
      "384\n"
     ]
    }
   ],
   "source": [
    "#Keep Place level data for all race, explore years available, limit to fields of interest, reshape data\n",
    "temp = temp[(temp.geotype==\"PL\") & (temp.race_eth_code == 9)]\n",
    "temp = temp[['geotypevalue','reportyear', 'mode', 'pop_total', 'percent']]\n",
    "print temp.shape[0]\n",
    "print temp.reportyear.value_counts()\n",
    "print temp.percent[temp.reportyear == '2000'].count()\n",
    "print temp.percent[temp.reportyear == '2005-2007'].count()\n",
    "print temp.percent[temp.reportyear == '2008-2010'].count()\n",
    "print temp.percent[temp.reportyear == '2006-2010'].count()\n",
    "temp = temp[temp.reportyear == '2006-2010'] #Keep \"2006-2010\" values\n",
    "temp = temp.pivot(index='geotypevalue', columns='mode', values='percent')\n",
    "#temp = pd.pivot_table(temp, index=['geotypevalue', 'reportyear'], columns='mode', values='percent')\n",
    "temp.columns = [x.lower() for x in temp.columns]\n",
    "temp.reset_index(level=0, inplace=True)\n",
    "print temp.shape[0]\n",
    "print temp.publictr.isnull().sum()\n",
    "#temp.head(5) "
   ]
  },
  {
   "cell_type": "code",
   "execution_count": 10,
   "metadata": {
    "collapsed": false
   },
   "outputs": [
    {
     "name": "stdout",
     "output_type": "stream",
     "text": [
      "1524\n",
      "[u'geotypevalue' u'geoname' u'p_parkacc' u'pop2010' u'gini_index'\n",
      " u'median_hh_income' u'athome' u'bicycle' u'car' u'carpool' u'cartotal'\n",
      " u'publictr' u'walk']\n"
     ]
    }
   ],
   "source": [
    "#Merge onto combined HCI df\n",
    "hci = pd.merge(hci, temp, on='geotypevalue', how='outer')\n",
    "print hci.shape[0]\n",
    "print hci.columns.values"
   ]
  },
  {
   "cell_type": "code",
   "execution_count": 11,
   "metadata": {
    "collapsed": false
   },
   "outputs": [
    {
     "name": "stdout",
     "output_type": "stream",
     "text": [
      "14364\n",
      "[u'CA' u'CO' u'PL' u'RE']\n",
      "[u'2006-2010']\n",
      "[u'ind_id' u'ind_definition' u'reportyear' u'race_eth_code'\n",
      " u'race_eth_name' u'geotype' u'geotypevalue' u'geoname' u'county_name'\n",
      " u'county_fips' u'region_name' u'region_code' u'cost_yr' u'median_income'\n",
      " u'affordability_ratio' u'll95_affordability_ratio'\n",
      " u'ul95_affordability_ratio' u'se_food_afford' u'rse_food_afford'\n",
      " u'food_afford_decile' u'ca_rr_affordability' u'ave_fam_size' u'version']\n"
     ]
    },
    {
     "data": {
      "text/html": [
       "<div>\n",
       "<table border=\"1\" class=\"dataframe\">\n",
       "  <thead>\n",
       "    <tr style=\"text-align: right;\">\n",
       "      <th></th>\n",
       "      <th>ind_id</th>\n",
       "      <th>ind_definition</th>\n",
       "      <th>reportyear</th>\n",
       "      <th>race_eth_code</th>\n",
       "      <th>race_eth_name</th>\n",
       "      <th>geotype</th>\n",
       "      <th>geotypevalue</th>\n",
       "      <th>geoname</th>\n",
       "      <th>county_name</th>\n",
       "      <th>county_fips</th>\n",
       "      <th>...</th>\n",
       "      <th>median_income</th>\n",
       "      <th>affordability_ratio</th>\n",
       "      <th>ll95_affordability_ratio</th>\n",
       "      <th>ul95_affordability_ratio</th>\n",
       "      <th>se_food_afford</th>\n",
       "      <th>rse_food_afford</th>\n",
       "      <th>food_afford_decile</th>\n",
       "      <th>ca_rr_affordability</th>\n",
       "      <th>ave_fam_size</th>\n",
       "      <th>version</th>\n",
       "    </tr>\n",
       "  </thead>\n",
       "  <tbody>\n",
       "    <tr>\n",
       "      <th>0</th>\n",
       "      <td>757</td>\n",
       "      <td>Food affordability for female-headed household...</td>\n",
       "      <td>2006-2010</td>\n",
       "      <td>1</td>\n",
       "      <td>AIAN</td>\n",
       "      <td>CA</td>\n",
       "      <td>06</td>\n",
       "      <td>California</td>\n",
       "      <td>NaN</td>\n",
       "      <td>NaN</td>\n",
       "      <td>...</td>\n",
       "      <td>23777.0</td>\n",
       "      <td>0.315779</td>\n",
       "      <td>0.231517</td>\n",
       "      <td>0.400043</td>\n",
       "      <td>0.042991</td>\n",
       "      <td>13.614342</td>\n",
       "      <td>NaN</td>\n",
       "      <td>1.185347</td>\n",
       "      <td>3.34</td>\n",
       "      <td>2013-04-12 04:33:06.235</td>\n",
       "    </tr>\n",
       "    <tr>\n",
       "      <th>1</th>\n",
       "      <td>757</td>\n",
       "      <td>Food affordability for female-headed household...</td>\n",
       "      <td>2006-2010</td>\n",
       "      <td>2</td>\n",
       "      <td>Asian</td>\n",
       "      <td>CA</td>\n",
       "      <td>06</td>\n",
       "      <td>California</td>\n",
       "      <td>NaN</td>\n",
       "      <td>NaN</td>\n",
       "      <td>...</td>\n",
       "      <td>38508.0</td>\n",
       "      <td>0.194980</td>\n",
       "      <td>0.183065</td>\n",
       "      <td>0.206895</td>\n",
       "      <td>0.006079</td>\n",
       "      <td>3.117814</td>\n",
       "      <td>NaN</td>\n",
       "      <td>0.731900</td>\n",
       "      <td>3.34</td>\n",
       "      <td>2013-04-12 04:33:06.235</td>\n",
       "    </tr>\n",
       "    <tr>\n",
       "      <th>2</th>\n",
       "      <td>757</td>\n",
       "      <td>Food affordability for female-headed household...</td>\n",
       "      <td>2006-2010</td>\n",
       "      <td>3</td>\n",
       "      <td>AfricanAm</td>\n",
       "      <td>CA</td>\n",
       "      <td>06</td>\n",
       "      <td>California</td>\n",
       "      <td>NaN</td>\n",
       "      <td>NaN</td>\n",
       "      <td>...</td>\n",
       "      <td>26192.0</td>\n",
       "      <td>0.286664</td>\n",
       "      <td>0.279661</td>\n",
       "      <td>0.293666</td>\n",
       "      <td>0.003573</td>\n",
       "      <td>1.246349</td>\n",
       "      <td>NaN</td>\n",
       "      <td>1.076054</td>\n",
       "      <td>3.34</td>\n",
       "      <td>2013-04-12 04:33:06.235</td>\n",
       "    </tr>\n",
       "    <tr>\n",
       "      <th>3</th>\n",
       "      <td>757</td>\n",
       "      <td>Food affordability for female-headed household...</td>\n",
       "      <td>2006-2010</td>\n",
       "      <td>4</td>\n",
       "      <td>Latino</td>\n",
       "      <td>CA</td>\n",
       "      <td>06</td>\n",
       "      <td>California</td>\n",
       "      <td>NaN</td>\n",
       "      <td>NaN</td>\n",
       "      <td>...</td>\n",
       "      <td>22858.0</td>\n",
       "      <td>0.328475</td>\n",
       "      <td>0.322637</td>\n",
       "      <td>0.334314</td>\n",
       "      <td>0.002979</td>\n",
       "      <td>0.906881</td>\n",
       "      <td>NaN</td>\n",
       "      <td>1.233004</td>\n",
       "      <td>3.34</td>\n",
       "      <td>2013-04-12 04:33:06.235</td>\n",
       "    </tr>\n",
       "    <tr>\n",
       "      <th>4</th>\n",
       "      <td>757</td>\n",
       "      <td>Food affordability for female-headed household...</td>\n",
       "      <td>2006-2010</td>\n",
       "      <td>5</td>\n",
       "      <td>NHOPI</td>\n",
       "      <td>CA</td>\n",
       "      <td>06</td>\n",
       "      <td>California</td>\n",
       "      <td>NaN</td>\n",
       "      <td>NaN</td>\n",
       "      <td>...</td>\n",
       "      <td>36737.0</td>\n",
       "      <td>0.204379</td>\n",
       "      <td>0.173762</td>\n",
       "      <td>0.234997</td>\n",
       "      <td>0.015621</td>\n",
       "      <td>7.643255</td>\n",
       "      <td>NaN</td>\n",
       "      <td>0.767183</td>\n",
       "      <td>3.34</td>\n",
       "      <td>2013-04-12 04:33:06.235</td>\n",
       "    </tr>\n",
       "  </tbody>\n",
       "</table>\n",
       "<p>5 rows × 23 columns</p>\n",
       "</div>"
      ],
      "text/plain": [
       "   ind_id                                     ind_definition reportyear  \\\n",
       "0     757  Food affordability for female-headed household...  2006-2010   \n",
       "1     757  Food affordability for female-headed household...  2006-2010   \n",
       "2     757  Food affordability for female-headed household...  2006-2010   \n",
       "3     757  Food affordability for female-headed household...  2006-2010   \n",
       "4     757  Food affordability for female-headed household...  2006-2010   \n",
       "\n",
       "   race_eth_code race_eth_name geotype geotypevalue     geoname county_name  \\\n",
       "0              1          AIAN      CA           06  California         NaN   \n",
       "1              2         Asian      CA           06  California         NaN   \n",
       "2              3     AfricanAm      CA           06  California         NaN   \n",
       "3              4        Latino      CA           06  California         NaN   \n",
       "4              5         NHOPI      CA           06  California         NaN   \n",
       "\n",
       "  county_fips           ...           median_income  affordability_ratio  \\\n",
       "0         NaN           ...                 23777.0             0.315779   \n",
       "1         NaN           ...                 38508.0             0.194980   \n",
       "2         NaN           ...                 26192.0             0.286664   \n",
       "3         NaN           ...                 22858.0             0.328475   \n",
       "4         NaN           ...                 36737.0             0.204379   \n",
       "\n",
       "   ll95_affordability_ratio  ul95_affordability_ratio  se_food_afford  \\\n",
       "0                  0.231517                  0.400043        0.042991   \n",
       "1                  0.183065                  0.206895        0.006079   \n",
       "2                  0.279661                  0.293666        0.003573   \n",
       "3                  0.322637                  0.334314        0.002979   \n",
       "4                  0.173762                  0.234997        0.015621   \n",
       "\n",
       "   rse_food_afford  food_afford_decile  ca_rr_affordability  ave_fam_size  \\\n",
       "0        13.614342                 NaN             1.185347          3.34   \n",
       "1         3.117814                 NaN             0.731900          3.34   \n",
       "2         1.246349                 NaN             1.076054          3.34   \n",
       "3         0.906881                 NaN             1.233004          3.34   \n",
       "4         7.643255                 NaN             0.767183          3.34   \n",
       "\n",
       "                  version  \n",
       "0 2013-04-12 04:33:06.235  \n",
       "1 2013-04-12 04:33:06.235  \n",
       "2 2013-04-12 04:33:06.235  \n",
       "3 2013-04-12 04:33:06.235  \n",
       "4 2013-04-12 04:33:06.235  \n",
       "\n",
       "[5 rows x 23 columns]"
      ]
     },
     "execution_count": 11,
     "metadata": {},
     "output_type": "execute_result"
    }
   ],
   "source": [
    "#Read in HCI file for Food Affordability\n",
    "tempurl = 'https://github.com/crsalviati/CA_Housing/raw/master/Raw_Data/Food_afford_cdp_co_region_ca4-14-13.xls'\n",
    "temp = pd.read_excel(tempurl, sheetname=0, converters={'geotypevalue':str,'county_fips':str})\n",
    "temp.columns = [x.lower() for x in temp.columns]\n",
    "print temp.shape[0]\n",
    "print temp.geotype.unique()\n",
    "print temp.reportyear.unique()\n",
    "print temp.columns.values\n",
    "temp.head(5)"
   ]
  },
  {
   "cell_type": "code",
   "execution_count": 12,
   "metadata": {
    "collapsed": false
   },
   "outputs": [
    {
     "name": "stdout",
     "output_type": "stream",
     "text": [
      "1523\n",
      "563\n"
     ]
    }
   ],
   "source": [
    "#Keep Place level data for all race, limit to fields of interest\n",
    "temp = temp[(temp.geotype==\"PL\") & (temp.race_eth_code == 9)]\n",
    "temp = temp[['geotypevalue', 'median_income', 'affordability_ratio', 'ave_fam_size'  ]]\n",
    "temp.rename(columns={'affordability_ratio':'food_afford'},inplace =True)\n",
    "print temp.shape[0]\n",
    "print temp.food_afford.isnull().sum()"
   ]
  },
  {
   "cell_type": "code",
   "execution_count": 13,
   "metadata": {
    "collapsed": false
   },
   "outputs": [
    {
     "name": "stdout",
     "output_type": "stream",
     "text": [
      "1524\n",
      "[u'geotypevalue' u'geoname' u'p_parkacc' u'pop2010' u'gini_index'\n",
      " u'median_hh_income' u'athome' u'bicycle' u'car' u'carpool' u'cartotal'\n",
      " u'publictr' u'walk' u'median_income' 'food_afford' u'ave_fam_size']\n"
     ]
    }
   ],
   "source": [
    "#Merge onto combined HCI df\n",
    "hci = pd.merge(hci, temp, on='geotypevalue', how='outer')\n",
    "print hci.shape[0]\n",
    "print hci.columns.values"
   ]
  },
  {
   "cell_type": "code",
   "execution_count": 14,
   "metadata": {
    "collapsed": false
   },
   "outputs": [
    {
     "name": "stdout",
     "output_type": "stream",
     "text": [
      "10740\n",
      "[u'CA' u'CO' u'CT' u'PL' u'RE']\n",
      "[2009]\n",
      "[u'ind_id' u'ind_definition' u'reportyear' u'race_eth_name'\n",
      " u'race_eth_code' u'geotype' u'geotypevalue' u'geoname' u'county_name'\n",
      " u'county_fips' u'region_name' u'region_code' u'mrfei' u'll95ci' u'ul95ci'\n",
      " u'se' u'rse' u'ca_decile' u'ca_rr' u'pop00' u'version']\n"
     ]
    }
   ],
   "source": [
    "#Read in HCI file for Healthy Food Access\n",
    "tempurl = 'https://github.com/crsalviati/CA_Housing/raw/master/Raw_Data/HCI_RetailFoodEnvironment_75_CA_CO_RE_PL_CT_11-15-13.xls'\n",
    "temp = pd.read_excel(tempurl, sheetname=0, converters={'geotypevalue':str,'county_fips':str})\n",
    "temp.columns = [x.lower() for x in temp.columns]\n",
    "print temp.shape[0]\n",
    "print temp.geotype.unique()\n",
    "print temp.reportyear.unique()\n",
    "print temp.columns.values"
   ]
  },
  {
   "cell_type": "code",
   "execution_count": 15,
   "metadata": {
    "collapsed": false
   },
   "outputs": [
    {
     "name": "stdout",
     "output_type": "stream",
     "text": [
      "612\n",
      "5\n"
     ]
    }
   ],
   "source": [
    "#Keep Place level data for all race, limit to fields of interest\n",
    "temp = temp[(temp.geotype==\"PL\") & (temp.race_eth_code == 9)]\n",
    "temp = temp[['geotypevalue', 'mrfei']]\n",
    "temp.rename(columns={'mrfei':'hfood_acc'},inplace =True)\n",
    "print temp.shape[0]\n",
    "print temp.hfood_acc.isnull().sum()"
   ]
  },
  {
   "cell_type": "code",
   "execution_count": 16,
   "metadata": {
    "collapsed": false
   },
   "outputs": [
    {
     "name": "stdout",
     "output_type": "stream",
     "text": [
      "1524\n",
      "[u'geotypevalue' u'geoname' u'p_parkacc' u'pop2010' u'gini_index'\n",
      " u'median_hh_income' u'athome' u'bicycle' u'car' u'carpool' u'cartotal'\n",
      " u'publictr' u'walk' u'median_income' 'food_afford' u'ave_fam_size'\n",
      " 'hfood_acc']\n"
     ]
    }
   ],
   "source": [
    "#Merge onto combined HCI df\n",
    "hci = pd.merge(hci, temp, on='geotypevalue', how='outer')\n",
    "print hci.shape[0]\n",
    "print hci.columns.values"
   ]
  },
  {
   "cell_type": "code",
   "execution_count": 17,
   "metadata": {
    "collapsed": false
   },
   "outputs": [
    {
     "name": "stdout",
     "output_type": "stream",
     "text": [
      "3234\n",
      "[u'CO' u'MS' u'PL']\n",
      "[u'2007-2011']\n",
      "[u'ind_id' u'ind_definition' u'reportyear' u'race_eth_code'\n",
      " u'race_eth_name' u'geotype' u'geotypevalue' u'geoname' u'county_name'\n",
      " u'county_fips' u'msa_name' u'msa_code' u'strata_name_code' u'strata_name'\n",
      " u'strata_level_name_code' u'strata_level_name' u'jobs' u'housing' u'ratio'\n",
      " u'll_95ci' u'ul_95ci' u'ratio_se' u'ratio_rse' u'ratio_decile' u'ms_rr'\n",
      " u'version']\n"
     ]
    }
   ],
   "source": [
    "#Read in HCI file for Jobs/Housing Ratio\n",
    "tempurl = 'https://github.com/crsalviati/CA_Housing/raw/master/Raw_Data/HCI_JobHouseRatio_PL-MS-CO-768-4-24-15.xlsx'\n",
    "temp = pd.read_excel(tempurl, sheetname=0, converters={'geotypevalue':str,'county_fips':str})\n",
    "temp.columns = [x.lower() for x in temp.columns]\n",
    "print temp.shape[0]\n",
    "print temp.geotype.unique()\n",
    "print temp.reportyear.unique()\n",
    "print temp.columns.values"
   ]
  },
  {
   "cell_type": "code",
   "execution_count": 18,
   "metadata": {
    "collapsed": false
   },
   "outputs": [
    {
     "name": "stdout",
     "output_type": "stream",
     "text": [
      "1524\n",
      "97\n"
     ]
    },
    {
     "data": {
      "text/html": [
       "<div>\n",
       "<table border=\"1\" class=\"dataframe\">\n",
       "  <thead>\n",
       "    <tr style=\"text-align: right;\">\n",
       "      <th>strata_level_name</th>\n",
       "      <th>geotypevalue</th>\n",
       "      <th>job_house_low</th>\n",
       "      <th>job_house_tot</th>\n",
       "    </tr>\n",
       "  </thead>\n",
       "  <tbody>\n",
       "    <tr>\n",
       "      <th>0</th>\n",
       "      <td>00135</td>\n",
       "      <td>NaN</td>\n",
       "      <td>0.095436</td>\n",
       "    </tr>\n",
       "    <tr>\n",
       "      <th>1</th>\n",
       "      <td>00156</td>\n",
       "      <td>NaN</td>\n",
       "      <td>0.563380</td>\n",
       "    </tr>\n",
       "    <tr>\n",
       "      <th>2</th>\n",
       "      <td>00212</td>\n",
       "      <td>21.142857</td>\n",
       "      <td>0.529794</td>\n",
       "    </tr>\n",
       "    <tr>\n",
       "      <th>3</th>\n",
       "      <td>00296</td>\n",
       "      <td>0.583395</td>\n",
       "      <td>0.428894</td>\n",
       "    </tr>\n",
       "    <tr>\n",
       "      <th>4</th>\n",
       "      <td>00310</td>\n",
       "      <td>0.333333</td>\n",
       "      <td>0.093458</td>\n",
       "    </tr>\n",
       "  </tbody>\n",
       "</table>\n",
       "</div>"
      ],
      "text/plain": [
       "strata_level_name geotypevalue  job_house_low  job_house_tot\n",
       "0                        00135            NaN       0.095436\n",
       "1                        00156            NaN       0.563380\n",
       "2                        00212      21.142857       0.529794\n",
       "3                        00296       0.583395       0.428894\n",
       "4                        00310       0.333333       0.093458"
      ]
     },
     "execution_count": 18,
     "metadata": {},
     "output_type": "execute_result"
    }
   ],
   "source": [
    "#Keep Place level data for all race, limit to fields of interest, reshape data\n",
    "temp = temp[(temp.geotype==\"PL\") & (temp.race_eth_code == 9)]\n",
    "temp = temp[['geotypevalue', 'strata_level_name', 'ratio']]\n",
    "temp = temp.pivot(index='geotypevalue', columns='strata_level_name', values='ratio')\n",
    "temp.rename(columns={'LowWageJobstoAffordableHousing':'job_house_low'},inplace =True)\n",
    "temp.rename(columns={'TotalJobstoTotalHousing':'job_house_tot'},inplace =True)\n",
    "temp.reset_index(level=0, inplace=True)\n",
    "print temp.shape[0]\n",
    "print temp.job_house_tot.isnull().sum()\n",
    "temp.head(5) "
   ]
  },
  {
   "cell_type": "code",
   "execution_count": 19,
   "metadata": {
    "collapsed": false
   },
   "outputs": [
    {
     "name": "stdout",
     "output_type": "stream",
     "text": [
      "1532\n",
      "19\n",
      "[u'geotypevalue' u'geoname' u'p_parkacc' u'pop2010' u'gini_index'\n",
      " u'median_hh_income' u'athome' u'bicycle' u'car' u'carpool' u'cartotal'\n",
      " u'publictr' u'walk' u'median_income' 'food_afford' u'ave_fam_size'\n",
      " 'hfood_acc' 'job_house_low' 'job_house_tot']\n"
     ]
    }
   ],
   "source": [
    "#Merge onto combined HCI df\n",
    "hci = pd.merge(hci, temp, on='geotypevalue', how='outer')\n",
    "print hci.shape[0]\n",
    "print hci.shape[1]\n",
    "print hci.columns.values"
   ]
  },
  {
   "cell_type": "code",
   "execution_count": 20,
   "metadata": {
    "collapsed": false
   },
   "outputs": [
    {
     "name": "stdout",
     "output_type": "stream",
     "text": [
      "33957\n",
      "[u'CO' u'MS' u'PL']\n",
      "[2011]\n",
      "[u'ind_id' u'ind_definition' u'reportyear' u'race_eth_code'\n",
      " u'race_eth_name' u'geotype' u'geotypevalue' u'geoname' u'county_name'\n",
      " u'county_fips' u'msa_name' u'msa_code' u'strata_name_code' u'strata_name'\n",
      " u'strata_level_name_code' u'strata_level_name' u'jobs' u'employed_res'\n",
      " u'ratio' u'll_95ci' u'ul_95ci' u'ratio_se' u'ratio_rse' u'ratio_decile'\n",
      " u'ms_rr' u'version']\n"
     ]
    }
   ],
   "source": [
    "#Read in HCI file for Jobs/Employed Residents Ratio\n",
    "tempurl = 'https://github.com/crsalviati/CA_Housing/raw/master/Raw_Data/HCI_JobsMatch_PL-MS-CO_769_4-24-15.xlsx'\n",
    "temp = pd.read_excel(tempurl, sheetname=0, converters={'geotypevalue':str,'county_fips':str})\n",
    "temp.columns = [x.lower() for x in temp.columns]\n",
    "print temp.shape[0]\n",
    "print temp.geotype.unique()\n",
    "print temp.reportyear.unique()\n",
    "print temp.columns.values"
   ]
  },
  {
   "cell_type": "code",
   "execution_count": 21,
   "metadata": {
    "collapsed": false
   },
   "outputs": [
    {
     "name": "stdout",
     "output_type": "stream",
     "text": [
      "1524\n",
      "94\n"
     ]
    },
    {
     "data": {
      "text/html": [
       "<div>\n",
       "<table border=\"1\" class=\"dataframe\">\n",
       "  <thead>\n",
       "    <tr style=\"text-align: right;\">\n",
       "      <th></th>\n",
       "      <th>geotypevalue</th>\n",
       "      <th>job_match</th>\n",
       "    </tr>\n",
       "  </thead>\n",
       "  <tbody>\n",
       "    <tr>\n",
       "      <th>1970</th>\n",
       "      <td>00135</td>\n",
       "      <td>0.113300</td>\n",
       "    </tr>\n",
       "    <tr>\n",
       "      <th>1991</th>\n",
       "      <td>00156</td>\n",
       "      <td>0.201005</td>\n",
       "    </tr>\n",
       "    <tr>\n",
       "      <th>2012</th>\n",
       "      <td>00212</td>\n",
       "      <td>0.359886</td>\n",
       "    </tr>\n",
       "    <tr>\n",
       "      <th>2033</th>\n",
       "      <td>00296</td>\n",
       "      <td>0.470604</td>\n",
       "    </tr>\n",
       "    <tr>\n",
       "      <th>2054</th>\n",
       "      <td>00310</td>\n",
       "      <td>0.270270</td>\n",
       "    </tr>\n",
       "  </tbody>\n",
       "</table>\n",
       "</div>"
      ],
      "text/plain": [
       "     geotypevalue  job_match\n",
       "1970        00135   0.113300\n",
       "1991        00156   0.201005\n",
       "2012        00212   0.359886\n",
       "2033        00296   0.470604\n",
       "2054        00310   0.270270"
      ]
     },
     "execution_count": 21,
     "metadata": {},
     "output_type": "execute_result"
    }
   ],
   "source": [
    "#Keep Place level data for all race, explore years available, limit to fields of interest, reshape data\n",
    "temp = temp[(temp.geotype==\"PL\") & (temp.race_eth_code == 9)]\n",
    "temp = temp[temp.strata_level_name_code==21] #Data is stratified by industry; for now just keep total, possibly revisit\n",
    "temp = temp[['geotypevalue', 'ratio']]\n",
    "temp.rename(columns={'ratio':'job_match'},inplace =True)\n",
    "print temp.shape[0]\n",
    "print temp.job_match.isnull().sum()\n",
    "temp.head(5) "
   ]
  },
  {
   "cell_type": "code",
   "execution_count": 22,
   "metadata": {
    "collapsed": false
   },
   "outputs": [
    {
     "name": "stdout",
     "output_type": "stream",
     "text": [
      "1532\n",
      "20\n",
      "[u'geotypevalue' u'geoname' u'p_parkacc' u'pop2010' u'gini_index'\n",
      " u'median_hh_income' u'athome' u'bicycle' u'car' u'carpool' u'cartotal'\n",
      " u'publictr' u'walk' u'median_income' 'food_afford' u'ave_fam_size'\n",
      " 'hfood_acc' 'job_house_low' 'job_house_tot' 'job_match']\n"
     ]
    }
   ],
   "source": [
    "#Merge onto combined HCI df\n",
    "hci = pd.merge(hci, temp, on='geotypevalue', how='outer')\n",
    "print hci.shape[0]\n",
    "print hci.shape[1]\n",
    "print hci.columns.values"
   ]
  },
  {
   "cell_type": "code",
   "execution_count": 23,
   "metadata": {
    "collapsed": false
   },
   "outputs": [
    {
     "name": "stdout",
     "output_type": "stream",
     "text": [
      "16133\n",
      "[u'CA' u'CO' u'PL' u'RE' u'ZC']\n",
      "[u'2007-2009']\n",
      "[u'ind_id' u'ind_definition' u'reportyear' u'race_eth_code'\n",
      " u'race_eth_name' u'geotype' u'geotypevalue' u'geoname' u'county_name'\n",
      " u'county_fips' u'region_name' u'region_code' u'numerator' u'poppt'\n",
      " u'o3_unhealthy_days' u'll_95ci' u'ul_95ci' u'se' u'rse' u'ozone_decile'\n",
      " u'o3ratio_ca' u'version']\n"
     ]
    }
   ],
   "source": [
    "#Read in HCI file for Unhealthy Ozone\n",
    "tempurl = 'https://github.com/crsalviati/CA_Housing/raw/master/Raw_Data/ozone_zcta_place_co_region_ca4-14-13.xls'\n",
    "temp = pd.read_excel(tempurl, sheetname=0, converters={'geotypevalue':str,'county_fips':str})\n",
    "temp.columns = [x.lower() for x in temp.columns]\n",
    "print temp.shape[0]\n",
    "print temp.geotype.unique()\n",
    "print temp.reportyear.unique()\n",
    "print temp.columns.values"
   ]
  },
  {
   "cell_type": "code",
   "execution_count": 24,
   "metadata": {
    "collapsed": false
   },
   "outputs": [
    {
     "name": "stdout",
     "output_type": "stream",
     "text": [
      "1523\n",
      "167\n"
     ]
    },
    {
     "data": {
      "text/html": [
       "<div>\n",
       "<table border=\"1\" class=\"dataframe\">\n",
       "  <thead>\n",
       "    <tr style=\"text-align: right;\">\n",
       "      <th></th>\n",
       "      <th>geotypevalue</th>\n",
       "      <th>ozone</th>\n",
       "    </tr>\n",
       "  </thead>\n",
       "  <tbody>\n",
       "    <tr>\n",
       "      <th>539</th>\n",
       "      <td>00135</td>\n",
       "      <td>0.664322</td>\n",
       "    </tr>\n",
       "    <tr>\n",
       "      <th>548</th>\n",
       "      <td>00156</td>\n",
       "      <td>5.333333</td>\n",
       "    </tr>\n",
       "    <tr>\n",
       "      <th>557</th>\n",
       "      <td>00212</td>\n",
       "      <td>39.357030</td>\n",
       "    </tr>\n",
       "    <tr>\n",
       "      <th>566</th>\n",
       "      <td>00296</td>\n",
       "      <td>25.333595</td>\n",
       "    </tr>\n",
       "    <tr>\n",
       "      <th>575</th>\n",
       "      <td>00310</td>\n",
       "      <td>NaN</td>\n",
       "    </tr>\n",
       "  </tbody>\n",
       "</table>\n",
       "</div>"
      ],
      "text/plain": [
       "    geotypevalue      ozone\n",
       "539        00135   0.664322\n",
       "548        00156   5.333333\n",
       "557        00212  39.357030\n",
       "566        00296  25.333595\n",
       "575        00310        NaN"
      ]
     },
     "execution_count": 24,
     "metadata": {},
     "output_type": "execute_result"
    }
   ],
   "source": [
    "#Keep Place level data for all race, explore years available, limit to fields of interest, reshape data\n",
    "temp = temp[(temp.geotype==\"PL\") & (temp.race_eth_code == 9)]\n",
    "temp = temp[['geotypevalue', 'o3_unhealthy_days']]\n",
    "temp.rename(columns={'o3_unhealthy_days':'ozone'},inplace =True)\n",
    "print temp.shape[0]\n",
    "print temp.ozone.isnull().sum()\n",
    "temp.head(5) "
   ]
  },
  {
   "cell_type": "code",
   "execution_count": 25,
   "metadata": {
    "collapsed": false
   },
   "outputs": [
    {
     "name": "stdout",
     "output_type": "stream",
     "text": [
      "1532\n",
      "21\n",
      "[u'geotypevalue' u'geoname' u'p_parkacc' u'pop2010' u'gini_index'\n",
      " u'median_hh_income' u'athome' u'bicycle' u'car' u'carpool' u'cartotal'\n",
      " u'publictr' u'walk' u'median_income' 'food_afford' u'ave_fam_size'\n",
      " 'hfood_acc' 'job_house_low' 'job_house_tot' 'job_match' 'ozone']\n"
     ]
    }
   ],
   "source": [
    "#Merge onto combined HCI df\n",
    "hci = pd.merge(hci, temp, on='geotypevalue', how='outer')\n",
    "print hci.shape[0]\n",
    "print hci.shape[1]\n",
    "print hci.columns.values"
   ]
  },
  {
   "cell_type": "code",
   "execution_count": 26,
   "metadata": {
    "collapsed": false
   },
   "outputs": [
    {
     "name": "stdout",
     "output_type": "stream",
     "text": [
      "16133\n",
      "[u'CA' u'CO' u'PL' u'RE' u'ZC']\n",
      "[u'2007-2009']\n",
      "[u'ind_id' u'ind_definition' u'reportyear' u'race_eth_code'\n",
      " u'race_eth_name' u'geotype' u'geotypevalue' u'geoname' u'county_name'\n",
      " u'county_fips' u'region_name' u'region_code' u'numerator' u'poppt'\n",
      " u'pm25_concentration' u'll_95ci' u'ul_95ci' u'se' u'rse' u'pm25_decile'\n",
      " u'pm25ratio_ca' u'version']\n",
      "1523\n",
      "117\n"
     ]
    },
    {
     "data": {
      "text/html": [
       "<div>\n",
       "<table border=\"1\" class=\"dataframe\">\n",
       "  <thead>\n",
       "    <tr style=\"text-align: right;\">\n",
       "      <th></th>\n",
       "      <th>geotypevalue</th>\n",
       "      <th>pm25_conc</th>\n",
       "    </tr>\n",
       "  </thead>\n",
       "  <tbody>\n",
       "    <tr>\n",
       "      <th>539</th>\n",
       "      <td>00135</td>\n",
       "      <td>8.943230</td>\n",
       "    </tr>\n",
       "    <tr>\n",
       "      <th>548</th>\n",
       "      <td>00156</td>\n",
       "      <td>11.115626</td>\n",
       "    </tr>\n",
       "    <tr>\n",
       "      <th>557</th>\n",
       "      <td>00212</td>\n",
       "      <td>9.159316</td>\n",
       "    </tr>\n",
       "    <tr>\n",
       "      <th>566</th>\n",
       "      <td>00296</td>\n",
       "      <td>8.528040</td>\n",
       "    </tr>\n",
       "    <tr>\n",
       "      <th>575</th>\n",
       "      <td>00310</td>\n",
       "      <td>NaN</td>\n",
       "    </tr>\n",
       "  </tbody>\n",
       "</table>\n",
       "</div>"
      ],
      "text/plain": [
       "    geotypevalue  pm25_conc\n",
       "539        00135   8.943230\n",
       "548        00156  11.115626\n",
       "557        00212   9.159316\n",
       "566        00296   8.528040\n",
       "575        00310        NaN"
      ]
     },
     "execution_count": 26,
     "metadata": {},
     "output_type": "execute_result"
    }
   ],
   "source": [
    "#Read in HCI file for PM2.5 Concentration\n",
    "tempurl = 'https://github.com/crsalviati/CA_Housing/raw/master/Raw_Data/PM25_zcta_place_co_region_ca4-14-13.xls'\n",
    "temp = pd.read_excel(tempurl, sheetname=0, converters={'geotypevalue':str,'county_fips':str})\n",
    "temp.columns = [x.lower() for x in temp.columns]\n",
    "print temp.shape[0]\n",
    "print temp.geotype.unique()\n",
    "print temp.reportyear.unique()\n",
    "print temp.columns.values\n",
    "#Keep Place level data for all race, limit to fields of interest\n",
    "temp = temp[(temp.geotype==\"PL\") & (temp.race_eth_code == 9)]\n",
    "temp = temp[['geotypevalue', 'pm25_concentration']]\n",
    "temp.rename(columns={'pm25_concentration':'pm25_conc'},inplace =True)\n",
    "print temp.shape[0]\n",
    "print temp.pm25_conc.isnull().sum()\n",
    "temp.head(5) "
   ]
  },
  {
   "cell_type": "code",
   "execution_count": 27,
   "metadata": {
    "collapsed": false
   },
   "outputs": [
    {
     "name": "stdout",
     "output_type": "stream",
     "text": [
      "1532\n",
      "22\n",
      "[u'geotypevalue' u'geoname' u'p_parkacc' u'pop2010' u'gini_index'\n",
      " u'median_hh_income' u'athome' u'bicycle' u'car' u'carpool' u'cartotal'\n",
      " u'publictr' u'walk' u'median_income' 'food_afford' u'ave_fam_size'\n",
      " 'hfood_acc' 'job_house_low' 'job_house_tot' 'job_match' 'ozone'\n",
      " 'pm25_conc']\n"
     ]
    }
   ],
   "source": [
    "#Merge onto combined HCI df\n",
    "hci = pd.merge(hci, temp, on='geotypevalue', how='outer')\n",
    "print hci.shape[0]\n",
    "print hci.shape[1]\n",
    "print hci.columns.values"
   ]
  },
  {
   "cell_type": "code",
   "execution_count": 28,
   "metadata": {
    "collapsed": false
   },
   "outputs": [
    {
     "name": "stdout",
     "output_type": "stream",
     "text": [
      "75540\n",
      "[u'RE' u'CO' u'PL' u'CT' u'ST']\n",
      "[u'2000' u'2005-2007' u'2008-2010' u'2006-2010']\n",
      "[u'ind_id' u'ind_definition' u'reportyear' u'race_eth_code'\n",
      " u'race_eth_name' u'geotype' u'geotypevalue' u'geoname' u'county_name'\n",
      " u'county_fips' u'region_name' u'region_code' u'pop25pl_hs' u'pop25pl'\n",
      " u'p_hs_edatt' u'se' u'rse' u'll_95ci' u'ul_95ci' u'ca_decile' u'ca_rr'\n",
      " u'version']\n"
     ]
    }
   ],
   "source": [
    "#Read in HCI file for HS Grad Attainment\n",
    "tempurl = 'https://github.com/crsalviati/CA_Housing/raw/master/Raw_Data/ed_attain_ge_hs_output04-14-13.xlsx'\n",
    "temp = pd.read_excel(tempurl, sheetname=0, converters={'geotypevalue':str,'county_fips':str})\n",
    "temp.columns = [x.lower() for x in temp.columns]\n",
    "print temp.shape[0]\n",
    "print temp.geotype.unique()\n",
    "print temp.reportyear.unique()\n",
    "print temp.columns.values"
   ]
  },
  {
   "cell_type": "code",
   "execution_count": 29,
   "metadata": {
    "collapsed": false
   },
   "outputs": [
    {
     "name": "stdout",
     "output_type": "stream",
     "text": [
      "1038\n",
      "328\n",
      "341\n",
      "1139\n",
      "1523\n",
      "384\n"
     ]
    },
    {
     "data": {
      "text/html": [
       "<div>\n",
       "<table border=\"1\" class=\"dataframe\">\n",
       "  <thead>\n",
       "    <tr style=\"text-align: right;\">\n",
       "      <th></th>\n",
       "      <th>geotypevalue</th>\n",
       "      <th>p_hs_edatt</th>\n",
       "    </tr>\n",
       "  </thead>\n",
       "  <tbody>\n",
       "    <tr>\n",
       "      <th>61706</th>\n",
       "      <td>00135</td>\n",
       "      <td>93.1</td>\n",
       "    </tr>\n",
       "    <tr>\n",
       "      <th>61715</th>\n",
       "      <td>00156</td>\n",
       "      <td>NaN</td>\n",
       "    </tr>\n",
       "    <tr>\n",
       "      <th>61724</th>\n",
       "      <td>00212</td>\n",
       "      <td>94.8</td>\n",
       "    </tr>\n",
       "    <tr>\n",
       "      <th>61733</th>\n",
       "      <td>00296</td>\n",
       "      <td>65.2</td>\n",
       "    </tr>\n",
       "    <tr>\n",
       "      <th>61742</th>\n",
       "      <td>00310</td>\n",
       "      <td>NaN</td>\n",
       "    </tr>\n",
       "  </tbody>\n",
       "</table>\n",
       "</div>"
      ],
      "text/plain": [
       "      geotypevalue  p_hs_edatt\n",
       "61706        00135        93.1\n",
       "61715        00156         NaN\n",
       "61724        00212        94.8\n",
       "61733        00296        65.2\n",
       "61742        00310         NaN"
      ]
     },
     "execution_count": 29,
     "metadata": {},
     "output_type": "execute_result"
    }
   ],
   "source": [
    "#Keep Place level data for all race, explore years available, limit to fields of interest\n",
    "temp = temp[(temp.geotype==\"PL\") & (temp.race_eth_code == 9)]\n",
    "print temp.p_hs_edatt[temp.reportyear == '2000'].count()\n",
    "print temp.p_hs_edatt[temp.reportyear == '2005-2007'].count()\n",
    "print temp.p_hs_edatt[temp.reportyear == '2008-2010'].count()\n",
    "print temp.p_hs_edatt[temp.reportyear == '2006-2010'].count()\n",
    "temp = temp[temp.reportyear == '2006-2010']\n",
    "temp = temp[['geotypevalue', 'p_hs_edatt']]\n",
    "print temp.shape[0]\n",
    "print temp.p_hs_edatt.isnull().sum()\n",
    "temp.head(5) "
   ]
  },
  {
   "cell_type": "code",
   "execution_count": 30,
   "metadata": {
    "collapsed": false
   },
   "outputs": [
    {
     "name": "stdout",
     "output_type": "stream",
     "text": [
      "1532\n",
      "23\n",
      "[u'geotypevalue' u'geoname' u'p_parkacc' u'pop2010' u'gini_index'\n",
      " u'median_hh_income' u'athome' u'bicycle' u'car' u'carpool' u'cartotal'\n",
      " u'publictr' u'walk' u'median_income' 'food_afford' u'ave_fam_size'\n",
      " 'hfood_acc' 'job_house_low' 'job_house_tot' 'job_match' 'ozone'\n",
      " 'pm25_conc' u'p_hs_edatt']\n"
     ]
    }
   ],
   "source": [
    "#Merge onto combined HCI df\n",
    "hci = pd.merge(hci, temp, on='geotypevalue', how='outer')\n",
    "print hci.shape[0]\n",
    "print hci.shape[1]\n",
    "print hci.columns.values"
   ]
  },
  {
   "cell_type": "code",
   "execution_count": 31,
   "metadata": {
    "collapsed": false
   },
   "outputs": [
    {
     "name": "stdout",
     "output_type": "stream",
     "text": [
      "15869\n",
      "[u'CA' u'CO' u'PL' u'RE']\n",
      "[2010]\n",
      "[u'ind_id' u'ind_definition' u'reportyear' u'family_type' u'race_eth_code'\n",
      " u'race_eth_name' u'geotype' u'geotypevalue' u'geoname' u'county_name'\n",
      " u'county_fips' u'region_name' u'region_code' u'fam_lt_lw' u'families'\n",
      " u'pct_lt_lw' u'll_95ci' u'ul_95ci' u'se' u'rse' u'family_type_decile'\n",
      " u'ca_rr' u'livingwage' u'version']\n"
     ]
    }
   ],
   "source": [
    "#Read in HCI file for Living Wage\n",
    "tempurl = 'https://github.com/crsalviati/CA_Housing/raw/master/Raw_Data/HCI_Living_Wage_770_PL_CO_RE_CA_9-29-13.xls'\n",
    "temp = pd.read_excel(tempurl, sheetname=0, converters={'geotypevalue':str,'county_fips':str})\n",
    "temp.columns = [x.lower() for x in temp.columns]\n",
    "print temp.shape[0]\n",
    "print temp.geotype.unique()\n",
    "print temp.reportyear.unique()\n",
    "print temp.columns.values"
   ]
  },
  {
   "cell_type": "code",
   "execution_count": 32,
   "metadata": {
    "collapsed": false
   },
   "outputs": [
    {
     "name": "stdout",
     "output_type": "stream",
     "text": [
      "1523\n",
      "608\n"
     ]
    },
    {
     "data": {
      "text/html": [
       "<div>\n",
       "<table border=\"1\" class=\"dataframe\">\n",
       "  <thead>\n",
       "    <tr style=\"text-align: right;\">\n",
       "      <th>family_type</th>\n",
       "      <th>geotypevalue</th>\n",
       "      <th>livewage_s</th>\n",
       "      <th>livewage_m</th>\n",
       "    </tr>\n",
       "  </thead>\n",
       "  <tbody>\n",
       "    <tr>\n",
       "      <th>0</th>\n",
       "      <td>00135</td>\n",
       "      <td>NaN</td>\n",
       "      <td>NaN</td>\n",
       "    </tr>\n",
       "    <tr>\n",
       "      <th>1</th>\n",
       "      <td>00156</td>\n",
       "      <td>NaN</td>\n",
       "      <td>NaN</td>\n",
       "    </tr>\n",
       "    <tr>\n",
       "      <th>2</th>\n",
       "      <td>00212</td>\n",
       "      <td>4.462933</td>\n",
       "      <td>88.333333</td>\n",
       "    </tr>\n",
       "    <tr>\n",
       "      <th>3</th>\n",
       "      <td>00296</td>\n",
       "      <td>27.938945</td>\n",
       "      <td>90.762463</td>\n",
       "    </tr>\n",
       "    <tr>\n",
       "      <th>4</th>\n",
       "      <td>00310</td>\n",
       "      <td>NaN</td>\n",
       "      <td>NaN</td>\n",
       "    </tr>\n",
       "  </tbody>\n",
       "</table>\n",
       "</div>"
      ],
      "text/plain": [
       "family_type geotypevalue  livewage_s  livewage_m\n",
       "0                  00135         NaN         NaN\n",
       "1                  00156         NaN         NaN\n",
       "2                  00212    4.462933   88.333333\n",
       "3                  00296   27.938945   90.762463\n",
       "4                  00310         NaN         NaN"
      ]
     },
     "execution_count": 32,
     "metadata": {},
     "output_type": "execute_result"
    }
   ],
   "source": [
    "#Keep Place level data for all race, explore years available, limit to fields of interest, reshape data\n",
    "temp = temp[(temp.geotype==\"PL\") & (temp.race_eth_code == 9)]\n",
    "temp = temp[['geotypevalue', 'family_type', 'pct_lt_lw']]\n",
    "temp = temp.pivot(index='geotypevalue', columns='family_type', values='pct_lt_lw')\n",
    "temp.rename(columns={'MarriedCouple2Children':'livewage_s'},inplace =True)\n",
    "temp.rename(columns={'SingleMother2Children':'livewage_m'},inplace =True)\n",
    "temp.reset_index(level=0, inplace=True)\n",
    "print temp.shape[0]\n",
    "print temp.livewage_s.isnull().sum()\n",
    "temp.head(5) "
   ]
  },
  {
   "cell_type": "code",
   "execution_count": 33,
   "metadata": {
    "collapsed": false
   },
   "outputs": [
    {
     "name": "stdout",
     "output_type": "stream",
     "text": [
      "1532\n",
      "25\n",
      "[u'geotypevalue' u'geoname' u'p_parkacc' u'pop2010' u'gini_index'\n",
      " u'median_hh_income' u'athome' u'bicycle' u'car' u'carpool' u'cartotal'\n",
      " u'publictr' u'walk' u'median_income' 'food_afford' u'ave_fam_size'\n",
      " 'hfood_acc' 'job_house_low' 'job_house_tot' 'job_match' 'ozone'\n",
      " 'pm25_conc' u'p_hs_edatt' 'livewage_s' 'livewage_m']\n"
     ]
    }
   ],
   "source": [
    "#Merge onto combined HCI df\n",
    "hci = pd.merge(hci, temp, on='geotypevalue', how='outer')\n",
    "print hci.shape[0]\n",
    "print hci.shape[1]\n",
    "print hci.columns.values"
   ]
  },
  {
   "cell_type": "code",
   "execution_count": 34,
   "metadata": {
    "collapsed": false
   },
   "outputs": [
    {
     "name": "stdout",
     "output_type": "stream",
     "text": [
      "136242\n",
      "[u'CA' u'CO' u'CT' u'PL' u'RE']\n",
      "[u'2000' u'2005-2007' u'2006-2010' u'2008-2010']\n",
      "[u'ind_id' u'ind_definition' u'reportyear' u'race_eth_code'\n",
      " u'race_eth_name' u'geotype' u'geotypevalue' u'geoname' u'county_name'\n",
      " u'county_fips' u'region_name' u'region_code' u'poverty' u'totalpop'\n",
      " u'numpov' u'percent' u'll_95ci_percent' u'ul_95ci_percent' u'percent_se'\n",
      " u'percent_rse' u'place_decile' u'ca_rr' u'concentratedct' u'version']\n"
     ]
    }
   ],
   "source": [
    "#Read in HCI file for Poverty Rate\n",
    "tempurl = 'https://github.com/crsalviati/CA_Housing/raw/master/Raw_Data/HCI_PovertyRate_754_CT_PL_CO_RE_CA_1-22-14.xlsx'\n",
    "temp = pd.read_excel(tempurl, sheetname=0, converters={'geotypevalue':str,'county_fips':str})\n",
    "temp.columns = [x.lower() for x in temp.columns]\n",
    "print temp.shape[0]\n",
    "print temp.geotype.unique()\n",
    "print temp.reportyear.unique()\n",
    "print temp.columns.values"
   ]
  },
  {
   "cell_type": "code",
   "execution_count": 35,
   "metadata": {
    "collapsed": false
   },
   "outputs": [
    {
     "name": "stdout",
     "output_type": "stream",
     "text": [
      "982\n",
      "328\n",
      "341\n",
      "1139\n",
      "1153\n",
      "14\n"
     ]
    },
    {
     "data": {
      "text/html": [
       "<div>\n",
       "<table border=\"1\" class=\"dataframe\">\n",
       "  <thead>\n",
       "    <tr style=\"text-align: right;\">\n",
       "      <th>poverty</th>\n",
       "      <th>geotypevalue</th>\n",
       "      <th>poverty_child</th>\n",
       "      <th>poverty_conc</th>\n",
       "      <th>poverty_all</th>\n",
       "    </tr>\n",
       "  </thead>\n",
       "  <tbody>\n",
       "    <tr>\n",
       "      <th>0</th>\n",
       "      <td>00135</td>\n",
       "      <td>0.0</td>\n",
       "      <td>NaN</td>\n",
       "      <td>0.0</td>\n",
       "    </tr>\n",
       "    <tr>\n",
       "      <th>2</th>\n",
       "      <td>00212</td>\n",
       "      <td>14.1</td>\n",
       "      <td>0.000000</td>\n",
       "      <td>6.3</td>\n",
       "    </tr>\n",
       "    <tr>\n",
       "      <th>5</th>\n",
       "      <td>00296</td>\n",
       "      <td>33.0</td>\n",
       "      <td>47.242514</td>\n",
       "      <td>25.6</td>\n",
       "    </tr>\n",
       "    <tr>\n",
       "      <th>9</th>\n",
       "      <td>00394</td>\n",
       "      <td>5.6</td>\n",
       "      <td>0.000000</td>\n",
       "      <td>4.0</td>\n",
       "    </tr>\n",
       "    <tr>\n",
       "      <th>11</th>\n",
       "      <td>00450</td>\n",
       "      <td>3.2</td>\n",
       "      <td>0.000000</td>\n",
       "      <td>4.4</td>\n",
       "    </tr>\n",
       "  </tbody>\n",
       "</table>\n",
       "</div>"
      ],
      "text/plain": [
       "poverty geotypevalue  poverty_child  poverty_conc  poverty_all\n",
       "0              00135            0.0           NaN          0.0\n",
       "2              00212           14.1      0.000000          6.3\n",
       "5              00296           33.0     47.242514         25.6\n",
       "9              00394            5.6      0.000000          4.0\n",
       "11             00450            3.2      0.000000          4.4"
      ]
     },
     "execution_count": 35,
     "metadata": {},
     "output_type": "execute_result"
    }
   ],
   "source": [
    "#Keep Place level data for all race, explore years available, limit to fields of interest, reshape data\n",
    "temp = temp[(temp.geotype==\"PL\") & (temp.race_eth_code == 9)]\n",
    "temp = temp[['geotypevalue', 'reportyear', 'poverty', 'percent']]\n",
    "#temp = temp.pivot(index='geotypevalue', columns='poverty', values='percent')\n",
    "temp = pd.pivot_table(temp, index=['geotypevalue', 'reportyear'], columns='poverty', values='percent')\n",
    "temp.rename(columns={'Child':'poverty_child'},inplace =True)\n",
    "temp.rename(columns={'Concentrated':'poverty_conc'},inplace =True)\n",
    "temp.rename(columns={'Overall':'poverty_all'},inplace =True)\n",
    "temp.reset_index(level=0, inplace=True)\n",
    "temp.reset_index(level=0, inplace=True)\n",
    "print temp.poverty_all[temp.reportyear == '2000'].count()\n",
    "print temp.poverty_all[temp.reportyear == '2005-2007'].count()\n",
    "print temp.poverty_all[temp.reportyear == '2008-2010'].count()\n",
    "print temp.poverty_all[temp.reportyear == '2006-2010'].count()\n",
    "temp = temp[temp.reportyear==\"2006-2010\"]\n",
    "del temp['reportyear']\n",
    "print temp.shape[0]\n",
    "print temp.poverty_all.isnull().sum()\n",
    "temp.head(5) "
   ]
  },
  {
   "cell_type": "code",
   "execution_count": 36,
   "metadata": {
    "collapsed": false
   },
   "outputs": [
    {
     "name": "stdout",
     "output_type": "stream",
     "text": [
      "1532\n",
      "28\n",
      "[u'geotypevalue' u'geoname' u'p_parkacc' u'pop2010' u'gini_index'\n",
      " u'median_hh_income' u'athome' u'bicycle' u'car' u'carpool' u'cartotal'\n",
      " u'publictr' u'walk' u'median_income' 'food_afford' u'ave_fam_size'\n",
      " 'hfood_acc' 'job_house_low' 'job_house_tot' 'job_match' 'ozone'\n",
      " 'pm25_conc' u'p_hs_edatt' 'livewage_s' 'livewage_m' 'poverty_child'\n",
      " 'poverty_conc' 'poverty_all']\n"
     ]
    }
   ],
   "source": [
    "#Merge onto combined HCI df\n",
    "hci = pd.merge(hci, temp, on='geotypevalue', how='outer')\n",
    "print hci.shape[0]\n",
    "print hci.shape[1]\n",
    "print hci.columns.values"
   ]
  },
  {
   "cell_type": "code",
   "execution_count": 37,
   "metadata": {
    "collapsed": false
   },
   "outputs": [
    {
     "name": "stdout",
     "output_type": "stream",
     "text": [
      "106410\n",
      "[u'CA' u'CD' u'CO' u'CT' u'PL' u'RE']\n",
      "[u'2004' u'2005' u'2006' u'2006-2010' u'2007' u'2008' u'2009' u'2010'\n",
      " u'2011' u'2012' u'2013']\n",
      "[u'ind_id' u'ind_definition' u'reportyear' u'race_eth_code'\n",
      " u'race_eth_name' u'geotype' u'geotypevalue' u'geoname' u'county_fips'\n",
      " u'county_name' u'region_code' u'region_name' u'unemployment'\n",
      " u'labor_force' u'unemployment_rate' u'll_95ci' u'ul_95ci' u'se' u'rse'\n",
      " u'place_decile' u'ca_rr' u'version']\n"
     ]
    }
   ],
   "source": [
    "#Read in HCI file for Unemployment Rate\n",
    "tempurl = 'https://github.com/crsalviati/CA_Housing/raw/master/Raw_Data/HCI_Unemployment_290_CA_RE_CO_CD_PL_CT-5-22-14.xlsx'\n",
    "temp = pd.read_excel(tempurl, sheetname=0, converters={'geotypevalue':str,'county_fips':str})\n",
    "temp.columns = [x.lower() for x in temp.columns]\n",
    "print temp.shape[0]\n",
    "print temp.geotype.unique()\n",
    "print temp.reportyear.unique()\n",
    "print temp.columns.values"
   ]
  },
  {
   "cell_type": "code",
   "execution_count": 38,
   "metadata": {
    "collapsed": false
   },
   "outputs": [
    {
     "name": "stdout",
     "output_type": "stream",
     "text": [
      "268\n",
      "268\n",
      "268\n",
      "268\n",
      "268\n",
      "268\n",
      "271\n",
      "271\n",
      "271\n",
      "271\n",
      "1139\n",
      "1523\n",
      "384\n"
     ]
    },
    {
     "data": {
      "text/html": [
       "<div>\n",
       "<table border=\"1\" class=\"dataframe\">\n",
       "  <thead>\n",
       "    <tr style=\"text-align: right;\">\n",
       "      <th></th>\n",
       "      <th>geotypevalue</th>\n",
       "      <th>unemp_rate</th>\n",
       "    </tr>\n",
       "  </thead>\n",
       "  <tbody>\n",
       "    <tr>\n",
       "      <th>77217</th>\n",
       "      <td>00135</td>\n",
       "      <td>5.7</td>\n",
       "    </tr>\n",
       "    <tr>\n",
       "      <th>77236</th>\n",
       "      <td>00156</td>\n",
       "      <td>NaN</td>\n",
       "    </tr>\n",
       "    <tr>\n",
       "      <th>77255</th>\n",
       "      <td>00212</td>\n",
       "      <td>6.3</td>\n",
       "    </tr>\n",
       "    <tr>\n",
       "      <th>77274</th>\n",
       "      <td>00296</td>\n",
       "      <td>19.7</td>\n",
       "    </tr>\n",
       "    <tr>\n",
       "      <th>77293</th>\n",
       "      <td>00310</td>\n",
       "      <td>NaN</td>\n",
       "    </tr>\n",
       "  </tbody>\n",
       "</table>\n",
       "</div>"
      ],
      "text/plain": [
       "      geotypevalue  unemp_rate\n",
       "77217        00135         5.7\n",
       "77236        00156         NaN\n",
       "77255        00212         6.3\n",
       "77274        00296        19.7\n",
       "77293        00310         NaN"
      ]
     },
     "execution_count": 38,
     "metadata": {},
     "output_type": "execute_result"
    }
   ],
   "source": [
    "#Keep Place level data for all race, explore years available, limit to fields of interest, reshape data\n",
    "temp = temp[(temp.geotype==\"PL\") & (temp.race_eth_code == 9)]\n",
    "temp = temp[['geotypevalue', 'reportyear', 'unemployment_rate']]\n",
    "temp.rename(columns={'unemployment_rate':'unemp_rate'},inplace =True)\n",
    "print temp.unemp_rate[temp.reportyear == '2004'].count()\n",
    "print temp.unemp_rate[temp.reportyear == '2005'].count()\n",
    "print temp.unemp_rate[temp.reportyear == '2006'].count()\n",
    "print temp.unemp_rate[temp.reportyear == '2007'].count()\n",
    "print temp.unemp_rate[temp.reportyear == '2008'].count()\n",
    "print temp.unemp_rate[temp.reportyear == '2009'].count()\n",
    "print temp.unemp_rate[temp.reportyear == '2010'].count()\n",
    "print temp.unemp_rate[temp.reportyear == '2011'].count()\n",
    "print temp.unemp_rate[temp.reportyear == '2012'].count()\n",
    "print temp.unemp_rate[temp.reportyear == '2013'].count()\n",
    "print temp.unemp_rate[temp.reportyear == '2006-2010'].count()\n",
    "temp = temp[temp.reportyear==\"2006-2010\"]\n",
    "del temp['reportyear']\n",
    "print temp.shape[0]\n",
    "print temp.unemp_rate.isnull().sum()\n",
    "temp.head(5) "
   ]
  },
  {
   "cell_type": "code",
   "execution_count": 39,
   "metadata": {
    "collapsed": false
   },
   "outputs": [
    {
     "name": "stdout",
     "output_type": "stream",
     "text": [
      "1532\n",
      "29\n",
      "[u'geotypevalue' u'geoname' u'p_parkacc' u'pop2010' u'gini_index'\n",
      " u'median_hh_income' u'athome' u'bicycle' u'car' u'carpool' u'cartotal'\n",
      " u'publictr' u'walk' u'median_income' 'food_afford' u'ave_fam_size'\n",
      " 'hfood_acc' 'job_house_low' 'job_house_tot' 'job_match' 'ozone'\n",
      " 'pm25_conc' u'p_hs_edatt' 'livewage_s' 'livewage_m' 'poverty_child'\n",
      " 'poverty_conc' 'poverty_all' 'unemp_rate']\n"
     ]
    }
   ],
   "source": [
    "#Merge onto combined HCI df\n",
    "hci = pd.merge(hci, temp, on='geotypevalue', how='outer')\n",
    "print hci.shape[0]\n",
    "print hci.shape[1]\n",
    "print hci.columns.values"
   ]
  },
  {
   "cell_type": "code",
   "execution_count": 40,
   "metadata": {
    "collapsed": false
   },
   "outputs": [
    {
     "name": "stdout",
     "output_type": "stream",
     "text": [
      "20100\n",
      "[u'CA' u'CD' u'CO' u'CT' u'PL' u'RE']\n",
      "[2015]\n",
      "[u'ind_id' u'ind_definition' u'reportyear' u'race_eth_code'\n",
      " u'race_eth_name' u'geotype' u'geotypevalue' u'geoname' u'county_fips'\n",
      " u'county_name' u'region_name' u'region_code' u'strata_name_code'\n",
      " u'strata_name' u'strata_level_name_code' u'strata_level_name'\n",
      " u'facility_capacity' u'total_pop' u'rate_slots' u'll_95ci' u'ul_95ci'\n",
      " u'se' u'rse' u'ca_decile' u'ca_rr' u'no_facility' u'pct_nonwhite'\n",
      " u'version']\n"
     ]
    }
   ],
   "source": [
    "#Read in HCI file for Daycare Centers\n",
    "tempurl = 'https://github.com/crsalviati/CA_Housing/raw/master/Raw_Data/HCI_Licensed_Daycare_Centers_760_CA_RE_CO_CD_PL_CT_110215.xlsx'\n",
    "temp = pd.read_excel(tempurl, sheetname=1, converters={'geotypevalue':str,'county_fips':str})\n",
    "temp.columns = [x.lower() for x in temp.columns]\n",
    "print temp.shape[0]\n",
    "print temp.geotype.unique()\n",
    "print temp.reportyear.unique()\n",
    "print temp.columns.values"
   ]
  },
  {
   "cell_type": "code",
   "execution_count": 41,
   "metadata": {
    "collapsed": false
   },
   "outputs": [
    {
     "name": "stdout",
     "output_type": "stream",
     "text": [
      "1523\n",
      "863\n"
     ]
    },
    {
     "data": {
      "text/html": [
       "<div>\n",
       "<table border=\"1\" class=\"dataframe\">\n",
       "  <thead>\n",
       "    <tr style=\"text-align: right;\">\n",
       "      <th>strata_level_name</th>\n",
       "      <th>geotypevalue</th>\n",
       "      <th>day_care</th>\n",
       "      <th>inf_care</th>\n",
       "    </tr>\n",
       "  </thead>\n",
       "  <tbody>\n",
       "    <tr>\n",
       "      <th>0</th>\n",
       "      <td>00135</td>\n",
       "      <td>NaN</td>\n",
       "      <td>NaN</td>\n",
       "    </tr>\n",
       "    <tr>\n",
       "      <th>1</th>\n",
       "      <td>00156</td>\n",
       "      <td>NaN</td>\n",
       "      <td>NaN</td>\n",
       "    </tr>\n",
       "    <tr>\n",
       "      <th>2</th>\n",
       "      <td>00212</td>\n",
       "      <td>NaN</td>\n",
       "      <td>NaN</td>\n",
       "    </tr>\n",
       "    <tr>\n",
       "      <th>3</th>\n",
       "      <td>00296</td>\n",
       "      <td>12.991976</td>\n",
       "      <td>NaN</td>\n",
       "    </tr>\n",
       "    <tr>\n",
       "      <th>4</th>\n",
       "      <td>00310</td>\n",
       "      <td>NaN</td>\n",
       "      <td>NaN</td>\n",
       "    </tr>\n",
       "  </tbody>\n",
       "</table>\n",
       "</div>"
      ],
      "text/plain": [
       "strata_level_name geotypevalue   day_care  inf_care\n",
       "0                        00135        NaN       NaN\n",
       "1                        00156        NaN       NaN\n",
       "2                        00212        NaN       NaN\n",
       "3                        00296  12.991976       NaN\n",
       "4                        00310        NaN       NaN"
      ]
     },
     "execution_count": 41,
     "metadata": {},
     "output_type": "execute_result"
    }
   ],
   "source": [
    "#Keep Place level data for all race, explore years available, limit to fields of interest, reshape data\n",
    "temp = temp[(temp.geotype==\"PL\") & (temp.race_eth_code == 9)]\n",
    "temp = temp[['geotypevalue', 'strata_level_name', 'rate_slots']]\n",
    "temp = temp.pivot(index='geotypevalue', columns='strata_level_name', values='rate_slots')\n",
    "temp.rename(columns={'DAY CARE CENTER':'day_care'},inplace =True)\n",
    "temp.rename(columns={'INFANT CENTER':'inf_care'},inplace =True)\n",
    "temp.reset_index(level=0, inplace=True)\n",
    "print temp.shape[0]\n",
    "print temp.day_care.isnull().sum()\n",
    "temp.head(5) "
   ]
  },
  {
   "cell_type": "code",
   "execution_count": 42,
   "metadata": {
    "collapsed": false
   },
   "outputs": [
    {
     "name": "stdout",
     "output_type": "stream",
     "text": [
      "1532\n",
      "31\n",
      "[u'geotypevalue' u'geoname' u'p_parkacc' u'pop2010' u'gini_index'\n",
      " u'median_hh_income' u'athome' u'bicycle' u'car' u'carpool' u'cartotal'\n",
      " u'publictr' u'walk' u'median_income' 'food_afford' u'ave_fam_size'\n",
      " 'hfood_acc' 'job_house_low' 'job_house_tot' 'job_match' 'ozone'\n",
      " 'pm25_conc' u'p_hs_edatt' 'livewage_s' 'livewage_m' 'poverty_child'\n",
      " 'poverty_conc' 'poverty_all' 'unemp_rate' 'day_care' 'inf_care']\n"
     ]
    }
   ],
   "source": [
    "#Merge onto combined HCI df\n",
    "hci = pd.merge(hci, temp, on='geotypevalue', how='outer')\n",
    "print hci.shape[0]\n",
    "print hci.shape[1]\n",
    "print hci.columns.values"
   ]
  },
  {
   "cell_type": "code",
   "execution_count": 43,
   "metadata": {
    "collapsed": false
   },
   "outputs": [
    {
     "name": "stdout",
     "output_type": "stream",
     "text": [
      "49226\n",
      "[u'CA' u'CO' u'PL' u'RE']\n",
      "[2000 2001 2002 2003 2004 2005 2006 2007 2008 2009 2010 2011 2012 2013]\n",
      "[u'ind_id' u'ind_definition' u'reportyear' u'race_eth_code'\n",
      " u'race_eth_name' u'geotype' u'geotypevalue' u'geoname' u'county_fips'\n",
      " u'county_name' u'region_code' u'region_name' u'strata_name_code'\n",
      " u'strata_name' u'strata_level_name_code' u'strata_level_name' u'numerator'\n",
      " u'denominator' u'rate' u'll_95ci' u'ul_95ci' u'se' u'rse' u'ca_decile'\n",
      " u'ca_rr' u'dof_population' u'version']\n"
     ]
    }
   ],
   "source": [
    "#Read in HCI file for Violent Crime\n",
    "tempurl = 'https://github.com/crsalviati/CA_Housing/raw/master/Raw_Data/HCI_Crime_752_PL_CO_RE_CA_2000-2013_21OCT15.xlsx'\n",
    "temp = pd.read_excel(tempurl, sheetname=1, converters={'geotypevalue':str,'county_fips':str})\n",
    "temp.columns = [x.lower() for x in temp.columns]\n",
    "print temp.shape[0]\n",
    "print temp.geotype.unique()\n",
    "print temp.reportyear.unique()\n",
    "print temp.columns.values"
   ]
  },
  {
   "cell_type": "code",
   "execution_count": 44,
   "metadata": {
    "collapsed": false
   },
   "outputs": [
    {
     "name": "stdout",
     "output_type": "stream",
     "text": [
      "447\n",
      "451\n",
      "445\n",
      "452\n",
      "453\n",
      "447\n",
      "451\n",
      "449\n",
      "451\n",
      "456\n",
      "458\n",
      "451\n",
      "452\n",
      "454\n",
      "485\n",
      "477\n"
     ]
    },
    {
     "data": {
      "text/html": [
       "<div>\n",
       "<table border=\"1\" class=\"dataframe\">\n",
       "  <thead>\n",
       "    <tr style=\"text-align: right;\">\n",
       "      <th></th>\n",
       "      <th>geotypevalue</th>\n",
       "      <th>violent_crime</th>\n",
       "    </tr>\n",
       "  </thead>\n",
       "  <tbody>\n",
       "    <tr>\n",
       "      <th>34212</th>\n",
       "      <td>00296</td>\n",
       "      <td>7.618448</td>\n",
       "    </tr>\n",
       "    <tr>\n",
       "      <th>34218</th>\n",
       "      <td>00394</td>\n",
       "      <td>0.885391</td>\n",
       "    </tr>\n",
       "    <tr>\n",
       "      <th>34227</th>\n",
       "      <td>00562</td>\n",
       "      <td>2.343792</td>\n",
       "    </tr>\n",
       "    <tr>\n",
       "      <th>34233</th>\n",
       "      <td>00674</td>\n",
       "      <td>1.995793</td>\n",
       "    </tr>\n",
       "    <tr>\n",
       "      <th>34240</th>\n",
       "      <td>00884</td>\n",
       "      <td>2.226528</td>\n",
       "    </tr>\n",
       "  </tbody>\n",
       "</table>\n",
       "</div>"
      ],
      "text/plain": [
       "      geotypevalue  violent_crime\n",
       "34212        00296       7.618448\n",
       "34218        00394       0.885391\n",
       "34227        00562       2.343792\n",
       "34233        00674       1.995793\n",
       "34240        00884       2.226528"
      ]
     },
     "execution_count": 44,
     "metadata": {},
     "output_type": "execute_result"
    }
   ],
   "source": [
    "#Keep Place level data for all race, explore years available, limit to fields of interest\n",
    "temp = temp[(temp.geotype==\"PL\") & (temp.race_eth_code == 9)] \n",
    "temp = temp[temp.strata_level_name_code == 5] #Data is stratified by crime type, but for now just keep total, possibly revisit\n",
    "print temp.numerator[temp.reportyear == 2000].count()\n",
    "print temp.numerator[temp.reportyear == 2001].count()\n",
    "print temp.numerator[temp.reportyear == 2002].count()\n",
    "print temp.numerator[temp.reportyear == 2003].count()\n",
    "print temp.numerator[temp.reportyear == 2004].count()\n",
    "print temp.numerator[temp.reportyear == 2005].count()\n",
    "print temp.numerator[temp.reportyear == 2006].count()\n",
    "print temp.numerator[temp.reportyear == 2007].count()\n",
    "print temp.numerator[temp.reportyear == 2008].count()\n",
    "print temp.numerator[temp.reportyear == 2009].count()\n",
    "print temp.numerator[temp.reportyear == 2010].count()\n",
    "print temp.numerator[temp.reportyear == 2011].count()\n",
    "print temp.numerator[temp.reportyear == 2012].count()\n",
    "print temp.numerator[temp.reportyear == 2013].count()\n",
    "temp = temp[temp.reportyear == 2010]\n",
    "temp = temp[['geotypevalue', 'rate']]\n",
    "temp.rename(columns={'rate':'violent_crime'},inplace =True)\n",
    "print temp.shape[0]\n",
    "temp.drop_duplicates('geotypevalue', keep=False, inplace=True) #4 place codes are duplicated, unclear why, drop\n",
    "print temp.shape[0]\n",
    "temp.head(5) "
   ]
  },
  {
   "cell_type": "code",
   "execution_count": 45,
   "metadata": {
    "collapsed": false
   },
   "outputs": [
    {
     "name": "stdout",
     "output_type": "stream",
     "text": [
      "1532\n",
      "32\n",
      "[u'geotypevalue' u'geoname' u'p_parkacc' u'pop2010' u'gini_index'\n",
      " u'median_hh_income' u'athome' u'bicycle' u'car' u'carpool' u'cartotal'\n",
      " u'publictr' u'walk' u'median_income' 'food_afford' u'ave_fam_size'\n",
      " 'hfood_acc' 'job_house_low' 'job_house_tot' 'job_match' 'ozone'\n",
      " 'pm25_conc' u'p_hs_edatt' 'livewage_s' 'livewage_m' 'poverty_child'\n",
      " 'poverty_conc' 'poverty_all' 'unemp_rate' 'day_care' 'inf_care'\n",
      " 'violent_crime']\n"
     ]
    }
   ],
   "source": [
    "#Merge onto combined HCI df\n",
    "hci = pd.merge(hci, temp, on='geotypevalue', how='outer')\n",
    "print hci.shape[0]\n",
    "print hci.shape[1]\n",
    "print hci.columns.values"
   ]
  },
  {
   "cell_type": "code",
   "execution_count": 46,
   "metadata": {
    "collapsed": false
   },
   "outputs": [
    {
     "name": "stdout",
     "output_type": "stream",
     "text": [
      "24259\n",
      "[u'CA' u'CD' u'CO' u'CT' nan u'PL' u'RE']\n",
      "[2002 2003 2004 2005 2006 2007 2008 2009 2010 2011 2012 2013]\n",
      "[u'ind_id' u'ind_definition' u'reportyear' u'race_eth_code'\n",
      " u'race_eth_name' u'geotype' u'geotypevalue' u'geoname' u'county_fips'\n",
      " u'county_name' u'region_code' u'region_name' u'strata_name_code'\n",
      " u'strata_name' u'strata_level_name_code' u'strata_level_name'\n",
      " u'allegations_children' u'total_children' u'percent' u'll_95ci' u'ul_95ci'\n",
      " u'se' u'rse' u'ca_decile' u'ca_rr' u'version']\n"
     ]
    }
   ],
   "source": [
    "#Read in HCI file for Child Abuse/Neglect\n",
    "tempurl = 'https://github.com/crsalviati/CA_Housing/raw/master/Raw_Data/HCI_AbuseNeglectChildren_741_CT_PL_CO_RE_CA-24-4-15.xlsx'\n",
    "temp = pd.read_excel(tempurl, sheetname=0, converters={'geotypevalue':str,'county_fips':str})\n",
    "temp.columns = [x.lower() for x in temp.columns]\n",
    "print temp.shape[0]\n",
    "print temp.geotype.unique()\n",
    "print temp.reportyear.unique()\n",
    "print temp.columns.values"
   ]
  },
  {
   "cell_type": "code",
   "execution_count": 47,
   "metadata": {
    "collapsed": false
   },
   "outputs": [
    {
     "name": "stdout",
     "output_type": "stream",
     "text": [
      "1524\n",
      "872\n"
     ]
    },
    {
     "data": {
      "text/html": [
       "<div>\n",
       "<table border=\"1\" class=\"dataframe\">\n",
       "  <thead>\n",
       "    <tr style=\"text-align: right;\">\n",
       "      <th></th>\n",
       "      <th>geotypevalue</th>\n",
       "      <th>child_abuse</th>\n",
       "    </tr>\n",
       "  </thead>\n",
       "  <tbody>\n",
       "    <tr>\n",
       "      <th>20033</th>\n",
       "      <td>00135</td>\n",
       "      <td>NaN</td>\n",
       "    </tr>\n",
       "    <tr>\n",
       "      <th>20034</th>\n",
       "      <td>00156</td>\n",
       "      <td>NaN</td>\n",
       "    </tr>\n",
       "    <tr>\n",
       "      <th>20035</th>\n",
       "      <td>00212</td>\n",
       "      <td>3.652597</td>\n",
       "    </tr>\n",
       "    <tr>\n",
       "      <th>20036</th>\n",
       "      <td>00296</td>\n",
       "      <td>9.090909</td>\n",
       "    </tr>\n",
       "    <tr>\n",
       "      <th>20037</th>\n",
       "      <td>00310</td>\n",
       "      <td>NaN</td>\n",
       "    </tr>\n",
       "  </tbody>\n",
       "</table>\n",
       "</div>"
      ],
      "text/plain": [
       "      geotypevalue  child_abuse\n",
       "20033        00135          NaN\n",
       "20034        00156          NaN\n",
       "20035        00212     3.652597\n",
       "20036        00296     9.090909\n",
       "20037        00310          NaN"
      ]
     },
     "execution_count": 47,
     "metadata": {},
     "output_type": "execute_result"
    }
   ],
   "source": [
    "#Keep Place level data for all race, explore years available, limit to fields of interest\n",
    "temp = temp[(temp.geotype==\"PL\") & (temp.race_eth_code == 9)] \n",
    "temp = temp[['geotypevalue', 'percent']]\n",
    "temp.rename(columns={'percent':'child_abuse'},inplace =True)\n",
    "print temp.shape[0]\n",
    "print temp.child_abuse.isnull().sum()\n",
    "temp.head(5) "
   ]
  },
  {
   "cell_type": "code",
   "execution_count": 48,
   "metadata": {
    "collapsed": false
   },
   "outputs": [
    {
     "name": "stdout",
     "output_type": "stream",
     "text": [
      "1532\n",
      "33\n",
      "[u'geotypevalue' u'geoname' u'p_parkacc' u'pop2010' u'gini_index'\n",
      " u'median_hh_income' u'athome' u'bicycle' u'car' u'carpool' u'cartotal'\n",
      " u'publictr' u'walk' u'median_income' 'food_afford' u'ave_fam_size'\n",
      " 'hfood_acc' 'job_house_low' 'job_house_tot' 'job_match' 'ozone'\n",
      " 'pm25_conc' u'p_hs_edatt' 'livewage_s' 'livewage_m' 'poverty_child'\n",
      " 'poverty_conc' 'poverty_all' 'unemp_rate' 'day_care' 'inf_care'\n",
      " 'violent_crime' 'child_abuse']\n"
     ]
    }
   ],
   "source": [
    "#Merge onto combined HCI df\n",
    "hci = pd.merge(hci, temp, on='geotypevalue', how='outer')\n",
    "print hci.shape[0]\n",
    "print hci.shape[1]\n",
    "print hci.columns.values"
   ]
  },
  {
   "cell_type": "code",
   "execution_count": 49,
   "metadata": {
    "collapsed": false
   },
   "outputs": [
    {
     "name": "stdout",
     "output_type": "stream",
     "text": [
      "96530\n",
      "[u'CA' u'CO' u'CT' u'PL' u'RE']\n",
      "[2002 2004 2006 2008 2010]\n",
      "[u'ind_id' u'ind_definition' u'reportyear' u'race_eth_code'\n",
      " u'race_eth_name' u'geotype' u'geotypevalue' u'geoname' u'county_fips'\n",
      " u'county_name' u'region_code' u'region_name' u'type' u'numerator'\n",
      " u'denominator' u'percent' u'll_95ci' u'ul_95ci' u'se' u'rse' u'ca_decile'\n",
      " u'ca_rr' u'vap' u'version']\n"
     ]
    }
   ],
   "source": [
    "#Read in HCI file for Voter Participation\n",
    "tempurl = 'https://github.com/crsalviati/CA_Housing/raw/master/Raw_Data/HCI_RegisteredVoters_653_CA_CO_RE_PL_CT_5-1-14.xlsx'\n",
    "temp = pd.read_excel(tempurl, sheetname=0, converters={'geotypevalue':str,'county_fips':str})\n",
    "temp.columns = [x.lower() for x in temp.columns]\n",
    "print temp.shape[0]\n",
    "print temp.geotype.unique()\n",
    "print temp.reportyear.unique()\n",
    "print temp.columns.values"
   ]
  },
  {
   "cell_type": "code",
   "execution_count": 50,
   "metadata": {
    "collapsed": false
   },
   "outputs": [
    {
     "name": "stdout",
     "output_type": "stream",
     "text": [
      "1449\n",
      "1483\n",
      "1507\n",
      "1508\n",
      "1512\n",
      "1523\n",
      "11\n"
     ]
    },
    {
     "data": {
      "text/html": [
       "<div>\n",
       "<table border=\"1\" class=\"dataframe\">\n",
       "  <thead>\n",
       "    <tr style=\"text-align: right;\">\n",
       "      <th></th>\n",
       "      <th>geotypevalue</th>\n",
       "      <th>voted</th>\n",
       "    </tr>\n",
       "  </thead>\n",
       "  <tbody>\n",
       "    <tr>\n",
       "      <th>81169</th>\n",
       "      <td>00135</td>\n",
       "      <td>74.252137</td>\n",
       "    </tr>\n",
       "    <tr>\n",
       "      <th>81179</th>\n",
       "      <td>00156</td>\n",
       "      <td>58.823529</td>\n",
       "    </tr>\n",
       "    <tr>\n",
       "      <th>81189</th>\n",
       "      <td>00212</td>\n",
       "      <td>64.504576</td>\n",
       "    </tr>\n",
       "    <tr>\n",
       "      <th>81199</th>\n",
       "      <td>00296</td>\n",
       "      <td>41.300000</td>\n",
       "    </tr>\n",
       "    <tr>\n",
       "      <th>81209</th>\n",
       "      <td>00310</td>\n",
       "      <td>73.611111</td>\n",
       "    </tr>\n",
       "  </tbody>\n",
       "</table>\n",
       "</div>"
      ],
      "text/plain": [
       "      geotypevalue      voted\n",
       "81169        00135  74.252137\n",
       "81179        00156  58.823529\n",
       "81189        00212  64.504576\n",
       "81199        00296  41.300000\n",
       "81209        00310  73.611111"
      ]
     },
     "execution_count": 50,
     "metadata": {},
     "output_type": "execute_result"
    }
   ],
   "source": [
    "#Keep Place level data for all race, explore years available, limit to fields of interest\n",
    "temp = temp[(temp.geotype==\"PL\") & (temp.race_eth_code == 9) & (temp.type == 'voted/registered')] #Revisit to estimate registered voter percent?\n",
    "print temp.percent[temp.reportyear == 2002].count()\n",
    "print temp.percent[temp.reportyear == 2004].count()\n",
    "print temp.percent[temp.reportyear == 2006].count()\n",
    "print temp.percent[temp.reportyear == 2008].count()\n",
    "print temp.percent[temp.reportyear == 2010].count()\n",
    "temp = temp[temp.reportyear == 2010]\n",
    "temp = temp[['geotypevalue', 'percent']]\n",
    "temp.rename(columns={'percent':'voted'},inplace =True)\n",
    "print temp.shape[0]\n",
    "print temp.voted.isnull().sum()\n",
    "temp.head(5) "
   ]
  },
  {
   "cell_type": "code",
   "execution_count": 51,
   "metadata": {
    "collapsed": false
   },
   "outputs": [
    {
     "name": "stdout",
     "output_type": "stream",
     "text": [
      "1532\n",
      "34\n",
      "[u'geotypevalue' u'geoname' u'p_parkacc' u'pop2010' u'gini_index'\n",
      " u'median_hh_income' u'athome' u'bicycle' u'car' u'carpool' u'cartotal'\n",
      " u'publictr' u'walk' u'median_income' 'food_afford' u'ave_fam_size'\n",
      " 'hfood_acc' 'job_house_low' 'job_house_tot' 'job_match' 'ozone'\n",
      " 'pm25_conc' u'p_hs_edatt' 'livewage_s' 'livewage_m' 'poverty_child'\n",
      " 'poverty_conc' 'poverty_all' 'unemp_rate' 'day_care' 'inf_care'\n",
      " 'violent_crime' 'child_abuse' 'voted']\n"
     ]
    }
   ],
   "source": [
    "#Merge onto combined HCI df\n",
    "hci = pd.merge(hci, temp, on='geotypevalue', how='outer')\n",
    "print hci.shape[0]\n",
    "print hci.shape[1]\n",
    "print hci.columns.values"
   ]
  },
  {
   "cell_type": "code",
   "execution_count": 52,
   "metadata": {
    "collapsed": false
   },
   "outputs": [
    {
     "name": "stdout",
     "output_type": "stream",
     "text": [
      "542700\n",
      "[u'CA' u'CD' u'CO' u'CT' u'PL' u'RE']\n",
      "[u'2008-2012']\n",
      "[u'ind_id' u'ind_definition' u'reportyear' u'race_eth_code'\n",
      " u'race_eth_name' u'geotype' u'geotypevalue' u'geoname' u'county_fips'\n",
      " u'county_name' u'region_code' u'region_name' u'category' u'numerator'\n",
      " u'denominator' u'percent' u'll_95ci' u'ul_95ci' u'se' u'rse' u'ca_decile'\n",
      " u'ca_rr' u'tot_pop' u'coverage' u'version']\n"
     ]
    }
   ],
   "source": [
    "#Read in HCI file for Unsafe Drinking Water (pt 1)\n",
    "tempurl = 'https://github.com/crsalviati/CA_Housing/raw/master/Raw_Data/HCI_DrinkingWater_CA_RE_CO_CD_PL_CT-A-N-6-19-14.xlsx' \n",
    "temp = pd.read_excel(tempurl, sheetname=0, converters={'geotypevalue':str,'county_fips':str})\n",
    "#Read in HCI file for Unsafe Drinking Water (pt 2)\n",
    "temp2url = 'https://github.com/crsalviati/CA_Housing/raw/master/Raw_Data/HCI_DrinkingWater_CA_RE_CO_CD_PL_CT-O-Y-6-19-14.xlsx'\n",
    "temp2 = pd.read_excel(temp2url, sheetname=0, converters={'geotypevalue':str,'county_fips':str})\n",
    "temp = temp.append(temp2)\n",
    "temp.columns = [x.lower() for x in temp.columns]\n",
    "print temp.shape[0]\n",
    "print temp.geotype.unique()\n",
    "print temp.reportyear.unique()\n",
    "print temp.columns.values"
   ]
  },
  {
   "cell_type": "code",
   "execution_count": 53,
   "metadata": {
    "collapsed": false
   },
   "outputs": [
    {
     "name": "stdout",
     "output_type": "stream",
     "text": [
      "1523\n",
      "364\n"
     ]
    },
    {
     "data": {
      "text/html": [
       "<div>\n",
       "<table border=\"1\" class=\"dataframe\">\n",
       "  <thead>\n",
       "    <tr style=\"text-align: right;\">\n",
       "      <th></th>\n",
       "      <th>geotypevalue</th>\n",
       "      <th>bad_water</th>\n",
       "    </tr>\n",
       "  </thead>\n",
       "  <tbody>\n",
       "    <tr>\n",
       "      <th>218908</th>\n",
       "      <td>00135</td>\n",
       "      <td>0.0</td>\n",
       "    </tr>\n",
       "    <tr>\n",
       "      <th>218962</th>\n",
       "      <td>00212</td>\n",
       "      <td>0.0</td>\n",
       "    </tr>\n",
       "    <tr>\n",
       "      <th>219016</th>\n",
       "      <td>00310</td>\n",
       "      <td>NaN</td>\n",
       "    </tr>\n",
       "    <tr>\n",
       "      <th>219070</th>\n",
       "      <td>00394</td>\n",
       "      <td>0.0</td>\n",
       "    </tr>\n",
       "    <tr>\n",
       "      <th>219124</th>\n",
       "      <td>00450</td>\n",
       "      <td>0.0</td>\n",
       "    </tr>\n",
       "  </tbody>\n",
       "</table>\n",
       "</div>"
      ],
      "text/plain": [
       "       geotypevalue  bad_water\n",
       "218908        00135        0.0\n",
       "218962        00212        0.0\n",
       "219016        00310        NaN\n",
       "219070        00394        0.0\n",
       "219124        00450        0.0"
      ]
     },
     "execution_count": 53,
     "metadata": {},
     "output_type": "execute_result"
    }
   ],
   "source": [
    "#Keep Place level data for all race, explore years available, limit to fields of interest\n",
    "temp = temp[(temp.geotype==\"PL\") & (temp.race_eth_code == 9) & (temp.category == 'total')] #Stratified by violation type, but just keep total. Revisit?\n",
    "temp = temp[['geotypevalue', 'percent']]\n",
    "temp.rename(columns={'percent':'bad_water'},inplace =True)\n",
    "print temp.shape[0]\n",
    "print temp.bad_water.isnull().sum()\n",
    "temp.head(5) "
   ]
  },
  {
   "cell_type": "code",
   "execution_count": 54,
   "metadata": {
    "collapsed": false
   },
   "outputs": [
    {
     "name": "stdout",
     "output_type": "stream",
     "text": [
      "1532\n",
      "35\n",
      "[u'geotypevalue' u'geoname' u'p_parkacc' u'pop2010' u'gini_index'\n",
      " u'median_hh_income' u'athome' u'bicycle' u'car' u'carpool' u'cartotal'\n",
      " u'publictr' u'walk' u'median_income' 'food_afford' u'ave_fam_size'\n",
      " 'hfood_acc' 'job_house_low' 'job_house_tot' 'job_match' 'ozone'\n",
      " 'pm25_conc' u'p_hs_edatt' 'livewage_s' 'livewage_m' 'poverty_child'\n",
      " 'poverty_conc' 'poverty_all' 'unemp_rate' 'day_care' 'inf_care'\n",
      " 'violent_crime' 'child_abuse' 'voted' 'bad_water']\n"
     ]
    }
   ],
   "source": [
    "#Merge onto combined HCI df\n",
    "hci = pd.merge(hci, temp, on='geotypevalue', how='outer')\n",
    "print hci.shape[0]\n",
    "print hci.shape[1]\n",
    "print hci.columns.values"
   ]
  },
  {
   "cell_type": "code",
   "execution_count": 55,
   "metadata": {
    "collapsed": false
   },
   "outputs": [
    {
     "name": "stdout",
     "output_type": "stream",
     "text": [
      "38835\n",
      "[2012]\n",
      "[u'ind_id' u'ind_definition' u'reportyear' u'race_eth_code'\n",
      " u'race_eth_name' u'geotype' u'geotypevalue' u'geoname' u'county_name'\n",
      " u'county_fips' u'region_name' u'region_code' u'pop_trans_acc' u'pop2010'\n",
      " u'p_trans_acc' u'LL_95CI' u'UL_95CI' u'se' u'rse' u'SC_decile' u'SC_RR'\n",
      " u'version']\n",
      "6138\n",
      "[2012]\n",
      "[u'ind_id' u'ind_definition' u'reportyear' u'race_eth_code'\n",
      " u'race_eth_name' u'geotype' u'geotypevalue' u'geoname' u'county_name'\n",
      " u'county_fips' u'region_name' u'region_code' u'pop_trans_acc' u'pop2010'\n",
      " u'p_trans_acc' u'LL_95CI' u'UL_95CI' u'se' u'rse' u'SD_decile' u'SD_RR'\n",
      " u'version']\n",
      "16371\n",
      "[2012]\n",
      "[u'ind_id' u'ind_definition' u'reportyear' u'race_eth_code'\n",
      " u'race_eth_name' u'geotype' u'geotypevalue' u'geoname' u'county_name'\n",
      " u'county_fips' u'region_name' u'region_code' u'pop_trans_acc' u'pop2010'\n",
      " u'p_trans_acc' u'LL_95CI' u'UL_95CI' u'se' u'rse' u'MTC_decile' u'MTC_RR'\n",
      " u'version']\n",
      "4662\n",
      "[2008]\n",
      "[u'ind_id' u'ind_definition' u'reportyear' u'race_eth_code'\n",
      " u'race_eth_name' u'geotype' u'geotypevalue' u'geoname' u'county_name'\n",
      " u'county_fips' u'region_name' u'region_code' u'pop_trans_acc' u'pop2010'\n",
      " u'p_trans_acc' u'LL_95CI' u'UL_95CI' u'se' u'rse' u'SAC_decile' u'SAC_RR'\n",
      " u'version']\n",
      "66006\n",
      "[u'CO' u'CT' u'PL' u'RE']\n",
      "[2012 2008]\n",
      "[u'll_95ci' u'mtc_rr' u'mtc_decile' u'sac_rr' u'sac_decile' u'sc_rr'\n",
      " u'sc_decile' u'sd_rr' u'sd_decile' u'ul_95ci' u'county_fips'\n",
      " u'county_name' u'geoname' u'geotype' u'geotypevalue' u'ind_definition'\n",
      " u'ind_id' u'p_trans_acc' u'pop2010' u'pop_trans_acc' u'race_eth_code'\n",
      " u'race_eth_name' u'region_code' u'region_name' u'reportyear' u'rse' u'se'\n",
      " u'version']\n"
     ]
    }
   ],
   "source": [
    "#Read in HCI file for Public Transit Access (pt 1)\n",
    "tempurl = 'https://github.com/crsalviati/CA_Housing/raw/master/Raw_Data/RailFerryBus10_SCAG_Output9-5-13.xls'\n",
    "temp = pd.read_excel(tempurl, sheetname=0, converters={'geotypevalue':str,'county_fips':str})\n",
    "print temp.shape[0]\n",
    "print temp.reportyear.unique()\n",
    "print temp.columns.values\n",
    "#Read in HCI file for Public Transit Access (pt 2)\n",
    "temp2url = 'https://github.com/crsalviati/CA_Housing/raw/master/Raw_Data/RailFerryBus10_SANDAG_Output8-29-13.xls'\n",
    "temp2 = pd.read_excel(temp2url, sheetname=0, converters={'geotypevalue':str,'county_fips':str})\n",
    "print temp2.shape[0]\n",
    "print temp2.reportyear.unique()\n",
    "print temp2.columns.values\n",
    "#Read in HCI file for Public Transit Access (pt 3)\n",
    "temp3url = 'https://github.com/crsalviati/CA_Housing/raw/master/Raw_Data/RailFerryBus10_MTC_Output_11-15-13.xls'\n",
    "temp3 = pd.read_excel(temp3url, sheetname=0, converters={'geotypevalue':str,'county_fips':str})\n",
    "print temp3.shape[0]\n",
    "print temp3.reportyear.unique()\n",
    "print temp3.columns.values\n",
    "#Read in HCI file for Public Transit Access (pt 4)\n",
    "temp4url = 'https://github.com/crsalviati/CA_Housing/raw/master/Raw_Data/RailFerryBus10_SACOG_Output-11-26-13.xls'\n",
    "temp4 = pd.read_excel(temp4url, sheetname=0, converters={'geotypevalue':str,'county_fips':str})\n",
    "print temp4.shape[0]\n",
    "print temp4.reportyear.unique()\n",
    "print temp4.columns.values\n",
    "\n",
    "\n",
    "temp = temp.append(temp2)\n",
    "temp = temp.append(temp3)\n",
    "temp = temp.append(temp4)\n",
    "temp.columns = [x.lower() for x in temp.columns]\n",
    "print temp.shape[0]\n",
    "print temp.geotype.unique()\n",
    "print temp.reportyear.unique()\n",
    "print temp.columns.values"
   ]
  },
  {
   "cell_type": "code",
   "execution_count": 56,
   "metadata": {
    "collapsed": false
   },
   "outputs": [
    {
     "name": "stdout",
     "output_type": "stream",
     "text": [
      "697\n",
      "0\n"
     ]
    },
    {
     "data": {
      "text/html": [
       "<div>\n",
       "<table border=\"1\" class=\"dataframe\">\n",
       "  <thead>\n",
       "    <tr style=\"text-align: right;\">\n",
       "      <th></th>\n",
       "      <th>geotypevalue</th>\n",
       "      <th>p_trans_acc</th>\n",
       "    </tr>\n",
       "  </thead>\n",
       "  <tbody>\n",
       "    <tr>\n",
       "      <th>38474</th>\n",
       "      <td>00212</td>\n",
       "      <td>0.0</td>\n",
       "    </tr>\n",
       "    <tr>\n",
       "      <th>38475</th>\n",
       "      <td>00296</td>\n",
       "      <td>0.0</td>\n",
       "    </tr>\n",
       "    <tr>\n",
       "      <th>38476</th>\n",
       "      <td>00394</td>\n",
       "      <td>0.0</td>\n",
       "    </tr>\n",
       "    <tr>\n",
       "      <th>38477</th>\n",
       "      <td>00450</td>\n",
       "      <td>0.0</td>\n",
       "    </tr>\n",
       "    <tr>\n",
       "      <th>38478</th>\n",
       "      <td>00464</td>\n",
       "      <td>0.0</td>\n",
       "    </tr>\n",
       "  </tbody>\n",
       "</table>\n",
       "</div>"
      ],
      "text/plain": [
       "      geotypevalue  p_trans_acc\n",
       "38474        00212          0.0\n",
       "38475        00296          0.0\n",
       "38476        00394          0.0\n",
       "38477        00450          0.0\n",
       "38478        00464          0.0"
      ]
     },
     "execution_count": 56,
     "metadata": {},
     "output_type": "execute_result"
    }
   ],
   "source": [
    "#Keep Place level data for all race, explore years available, limit to fields of interest\n",
    "temp = temp[(temp.geotype==\"PL\") & (temp.race_eth_code == 9)]\n",
    "temp = temp[['geotypevalue', 'p_trans_acc']]\n",
    "#temp.rename(columns={'percent':'bad_water'},inplace =True)\n",
    "print temp.shape[0]\n",
    "print temp.p_trans_acc.isnull().sum()\n",
    "temp.head(5) "
   ]
  },
  {
   "cell_type": "code",
   "execution_count": 57,
   "metadata": {
    "collapsed": false
   },
   "outputs": [
    {
     "name": "stdout",
     "output_type": "stream",
     "text": [
      "1533\n",
      "36\n",
      "[u'geotypevalue' u'geoname' u'p_parkacc' u'pop2010' u'gini_index'\n",
      " u'median_hh_income' u'athome' u'bicycle' u'car' u'carpool' u'cartotal'\n",
      " u'publictr' u'walk' u'median_income' 'food_afford' u'ave_fam_size'\n",
      " 'hfood_acc' 'job_house_low' 'job_house_tot' 'job_match' 'ozone'\n",
      " 'pm25_conc' u'p_hs_edatt' 'livewage_s' 'livewage_m' 'poverty_child'\n",
      " 'poverty_conc' 'poverty_all' 'unemp_rate' 'day_care' 'inf_care'\n",
      " 'violent_crime' 'child_abuse' 'voted' 'bad_water' u'p_trans_acc']\n"
     ]
    }
   ],
   "source": [
    "#Merge onto combined HCI df\n",
    "hci = pd.merge(hci, temp, on='geotypevalue', how='outer')\n",
    "print hci.shape[0]\n",
    "print hci.shape[1]\n",
    "print hci.columns.values"
   ]
  },
  {
   "cell_type": "code",
   "execution_count": 58,
   "metadata": {
    "collapsed": false
   },
   "outputs": [
    {
     "name": "stdout",
     "output_type": "stream",
     "text": [
      "448948\n",
      "[u'CA' u'CT' u'PL' u'R4' u'RE' u'CO']\n",
      "[u'2002' u'2002-2004' u'2003' u'2004' u'2005' u'2005-2007' u'2006'\n",
      " u'2006-2010' u'2007' u'2008' u'2008-2010' u'2009' u'2010']\n",
      "[u'ind_id' u'ind_definition' u'reportyear' u'geotype' u'geotypevalue'\n",
      " u'geoname' u'county_name' u'county_fips' u'region_name' u'region_code'\n",
      " u'mode' u'severity' u'injuries' u'totalpop' u'poprate' u'll95ci_poprate'\n",
      " u'ul95ci_poprate' u'poprate_se' u'poprate_rse' u'ca_decile_pop'\n",
      " u'ca_rr_poprate' u'avmttotal' u'avmtrate' u'll95ci_avmtrate'\n",
      " u'ul95ci_avmtrate' u'avmtrate_se' u'avmtrate_rse' u'ca_decile_avmt'\n",
      " u'ca_rr_avmtrate' u'groupquarters' u'version']\n"
     ]
    }
   ],
   "source": [
    "#Read in HCI file for Traffic Injuries (pt 1)\n",
    "tempurl = 'https://github.com/crsalviati/CA_Housing/raw/master/Raw_Data/HCI_RoadTrafficInjuries_753_CT_PL_CO_RE_R4_CA-12-17-13_A-N.xlsx'\n",
    "temp = pd.read_excel(tempurl, sheetname=0, converters={'geotypevalue':str,'county_fips':str})\n",
    "#Read in HCI file for Traffic Injuries (pt 2)\n",
    "temp2url = 'https://github.com/crsalviati/CA_Housing/raw/master/Raw_Data/HCI_RoadTrafficInjuries_753_CT_PL_CO_12-17-13_O-Y.xlsx'\n",
    "temp2 = pd.read_excel(temp2url, sheetname=0, converters={'geotypevalue':str,'county_fips':str})\n",
    "temp = temp.append(temp2)\n",
    "temp.columns = [x.lower() for x in temp.columns]\n",
    "print temp.shape[0]\n",
    "print temp.geotype.unique()\n",
    "print temp.reportyear.unique()\n",
    "print temp.columns.values"
   ]
  },
  {
   "cell_type": "code",
   "execution_count": 59,
   "metadata": {
    "collapsed": false
   },
   "outputs": [
    {
     "name": "stdout",
     "output_type": "stream",
     "text": [
      "19945\n",
      "301\n",
      "343\n",
      "311\n",
      "321\n",
      "333\n",
      "312\n",
      "303\n",
      "301\n",
      "293\n",
      "402\n",
      "397\n",
      "386\n",
      "874\n",
      "1222\n",
      "348\n"
     ]
    },
    {
     "data": {
      "text/html": [
       "<div>\n",
       "<table border=\"1\" class=\"dataframe\">\n",
       "  <thead>\n",
       "    <tr style=\"text-align: right;\">\n",
       "      <th>severity</th>\n",
       "      <th>geotypevalue</th>\n",
       "      <th>traf_fatal</th>\n",
       "      <th>traf_sev</th>\n",
       "    </tr>\n",
       "  </thead>\n",
       "  <tbody>\n",
       "    <tr>\n",
       "      <th>0</th>\n",
       "      <td>00135</td>\n",
       "      <td>NaN</td>\n",
       "      <td>24.813896</td>\n",
       "    </tr>\n",
       "    <tr>\n",
       "      <th>8</th>\n",
       "      <td>00156</td>\n",
       "      <td>800.000000</td>\n",
       "      <td>NaN</td>\n",
       "    </tr>\n",
       "    <tr>\n",
       "      <th>16</th>\n",
       "      <td>00212</td>\n",
       "      <td>41.958042</td>\n",
       "      <td>81.118881</td>\n",
       "    </tr>\n",
       "    <tr>\n",
       "      <th>29</th>\n",
       "      <td>00296</td>\n",
       "      <td>11.861536</td>\n",
       "      <td>17.133330</td>\n",
       "    </tr>\n",
       "    <tr>\n",
       "      <th>37</th>\n",
       "      <td>00310</td>\n",
       "      <td>53.475936</td>\n",
       "      <td>106.951872</td>\n",
       "    </tr>\n",
       "  </tbody>\n",
       "</table>\n",
       "</div>"
      ],
      "text/plain": [
       "severity geotypevalue  traf_fatal    traf_sev\n",
       "0               00135         NaN   24.813896\n",
       "8               00156  800.000000         NaN\n",
       "16              00212   41.958042   81.118881\n",
       "29              00296   11.861536   17.133330\n",
       "37              00310   53.475936  106.951872"
      ]
     },
     "execution_count": 59,
     "metadata": {},
     "output_type": "execute_result"
    }
   ],
   "source": [
    "#Keep Place level data for all race, explore years available, limit to fields of interest\n",
    "temp = temp[(temp.geotype==\"PL\") & (temp['mode'] == 'All modes')] #Stratified by mode, just keep total for now. Revisit?\n",
    "print temp.shape[0]\n",
    "\n",
    "temp = pd.pivot_table(temp, index=['geotypevalue', 'reportyear'], columns='severity', values='poprate')\n",
    "temp.head()\n",
    "temp.reset_index(level=0, inplace=True)\n",
    "temp.reset_index(level=0, inplace=True)\n",
    "print temp.Killed[temp.reportyear == '2002'].count()\n",
    "print temp.Killed[temp.reportyear == '2003'].count()\n",
    "print temp.Killed[temp.reportyear == '2004'].count()\n",
    "print temp.Killed[temp.reportyear == '2005'].count()\n",
    "print temp.Killed[temp.reportyear == '2006'].count()\n",
    "print temp.Killed[temp.reportyear == '2007'].count()\n",
    "print temp.Killed[temp.reportyear == '2008'].count()\n",
    "print temp.Killed[temp.reportyear == '2009'].count()\n",
    "print temp.Killed[temp.reportyear == '2010'].count()\n",
    "print temp.Killed[temp.reportyear == '2002-2004'].count()\n",
    "print temp.Killed[temp.reportyear == '2005-2007'].count()\n",
    "print temp.Killed[temp.reportyear == '2008-2010'].count()\n",
    "print temp.Killed[temp.reportyear == '2006-2010'].count()\n",
    "temp = temp[temp.reportyear == '2006-2010']\n",
    "temp.rename(columns={'Killed':'traf_fatal'},inplace =True)\n",
    "temp.rename(columns={'Severe Injury':'traf_sev'},inplace =True)\n",
    "del temp['reportyear']\n",
    "print temp.shape[0]\n",
    "print temp.traf_fatal.isnull().sum()\n",
    "temp.head(5) "
   ]
  },
  {
   "cell_type": "code",
   "execution_count": 60,
   "metadata": {
    "collapsed": false
   },
   "outputs": [
    {
     "name": "stdout",
     "output_type": "stream",
     "text": [
      "1533\n",
      "38\n",
      "[u'geotypevalue' u'geoname' u'p_parkacc' u'pop2010' u'gini_index'\n",
      " u'median_hh_income' u'athome' u'bicycle' u'car' u'carpool' u'cartotal'\n",
      " u'publictr' u'walk' u'median_income' 'food_afford' u'ave_fam_size'\n",
      " 'hfood_acc' 'job_house_low' 'job_house_tot' 'job_match' 'ozone'\n",
      " 'pm25_conc' u'p_hs_edatt' 'livewage_s' 'livewage_m' 'poverty_child'\n",
      " 'poverty_conc' 'poverty_all' 'unemp_rate' 'day_care' 'inf_care'\n",
      " 'violent_crime' 'child_abuse' 'voted' 'bad_water' u'p_trans_acc'\n",
      " 'traf_fatal' 'traf_sev']\n"
     ]
    }
   ],
   "source": [
    "#Merge onto combined HCI df\n",
    "hci = pd.merge(hci, temp, on='geotypevalue', how='outer')\n",
    "print hci.shape[0]\n",
    "print hci.shape[1]\n",
    "print hci.columns.values"
   ]
  },
  {
   "cell_type": "code",
   "execution_count": 61,
   "metadata": {
    "collapsed": false
   },
   "outputs": [
    {
     "name": "stdout",
     "output_type": "stream",
     "text": [
      "271350\n",
      "[u'CA' u'CD' u'CO' u'CT' u'PL' u'RE']\n",
      "[2014]\n",
      "[u'ind_id' u'ind_definition' u'reportyear' u'race_eth_code'\n",
      " u'race_eth_name' u'geotype' u'geotypevalue' u'geoname' u'county_fips'\n",
      " u'county_name' u'region_code' u'region_name' u'license_type' u'numerator'\n",
      " u'denominator' u'percent' u'll_95ci' u'ul_95ci' u'se' u'rse' u'ca_decile'\n",
      " u'ca_rr' u'version']\n"
     ]
    }
   ],
   "source": [
    "#Read in HCI file for Alcohol Proximity (pt 1)\n",
    "tempurl = 'https://github.com/crsalviati/CA_Housing/raw/master/Raw_Data/HCI_AlcoholOutletsQ_774_CA_RE_CO_CD_PL_CT-A-N-5-16-14.xlsx'\n",
    "temp = pd.read_excel(tempurl, sheetname=0, converters={'geotypevalue':str,'county_fips':str})\n",
    "#Read in HCI file for Alcohol Proximity (pt 2)\n",
    "temp2url = 'https://github.com/crsalviati/CA_Housing/raw/master/Raw_Data/HCI_AlcoholOutletsQ_774_CO_CD_PL_CT-O-Y-5-16-14.xlsx'\n",
    "temp2 = pd.read_excel(temp2url, sheetname=0, converters={'geotypevalue':str,'county_fips':str})\n",
    "temp = temp.append(temp2)\n",
    "temp.columns = [x.lower() for x in temp.columns]\n",
    "print temp.shape[0]\n",
    "print temp.geotype.unique()\n",
    "print temp.reportyear.unique()\n",
    "print temp.columns.values"
   ]
  },
  {
   "cell_type": "code",
   "execution_count": 62,
   "metadata": {
    "collapsed": false
   },
   "outputs": [
    {
     "name": "stdout",
     "output_type": "stream",
     "text": [
      "4569\n",
      "1523\n",
      "242\n"
     ]
    },
    {
     "data": {
      "text/html": [
       "<div>\n",
       "<table border=\"1\" class=\"dataframe\">\n",
       "  <thead>\n",
       "    <tr style=\"text-align: right;\">\n",
       "      <th>license_type</th>\n",
       "      <th>geotypevalue</th>\n",
       "      <th>alc_off</th>\n",
       "      <th>alc_on</th>\n",
       "      <th>alc_tot</th>\n",
       "    </tr>\n",
       "  </thead>\n",
       "  <tbody>\n",
       "    <tr>\n",
       "      <th>0</th>\n",
       "      <td>00135</td>\n",
       "      <td>NaN</td>\n",
       "      <td>8.707124</td>\n",
       "      <td>8.707124</td>\n",
       "    </tr>\n",
       "    <tr>\n",
       "      <th>1</th>\n",
       "      <td>00156</td>\n",
       "      <td>62.463343</td>\n",
       "      <td>NaN</td>\n",
       "      <td>62.463343</td>\n",
       "    </tr>\n",
       "    <tr>\n",
       "      <th>2</th>\n",
       "      <td>00212</td>\n",
       "      <td>5.516061</td>\n",
       "      <td>4.805161</td>\n",
       "      <td>6.977357</td>\n",
       "    </tr>\n",
       "    <tr>\n",
       "      <th>3</th>\n",
       "      <td>00296</td>\n",
       "      <td>12.135999</td>\n",
       "      <td>3.988667</td>\n",
       "      <td>13.093027</td>\n",
       "    </tr>\n",
       "    <tr>\n",
       "      <th>4</th>\n",
       "      <td>00310</td>\n",
       "      <td>NaN</td>\n",
       "      <td>NaN</td>\n",
       "      <td>NaN</td>\n",
       "    </tr>\n",
       "  </tbody>\n",
       "</table>\n",
       "</div>"
      ],
      "text/plain": [
       "license_type geotypevalue    alc_off    alc_on    alc_tot\n",
       "0                   00135        NaN  8.707124   8.707124\n",
       "1                   00156  62.463343       NaN  62.463343\n",
       "2                   00212   5.516061  4.805161   6.977357\n",
       "3                   00296  12.135999  3.988667  13.093027\n",
       "4                   00310        NaN       NaN        NaN"
      ]
     },
     "execution_count": 62,
     "metadata": {},
     "output_type": "execute_result"
    }
   ],
   "source": [
    "#Keep Place level data for all race, explore years available, limit to fields of interest\n",
    "temp = temp[(temp.geotype==\"PL\") & (temp.race_eth_code == 9)]\n",
    "print temp.shape[0]\n",
    "\n",
    "temp = temp.pivot(index='geotypevalue', columns='license_type', values='percent')\n",
    "temp.head()\n",
    "temp.reset_index(level=0, inplace=True)\n",
    "temp.rename(columns={'Off_sale':'alc_off'},inplace =True)\n",
    "temp.rename(columns={'On_sale':'alc_on'},inplace =True)\n",
    "temp.rename(columns={'Total_licenses':'alc_tot'},inplace =True)\n",
    "print temp.shape[0]\n",
    "print temp.alc_tot.isnull().sum()\n",
    "temp.head(5) "
   ]
  },
  {
   "cell_type": "code",
   "execution_count": 63,
   "metadata": {
    "collapsed": false
   },
   "outputs": [
    {
     "name": "stdout",
     "output_type": "stream",
     "text": [
      "1533\n",
      "41\n",
      "[u'geotypevalue' u'geoname' u'p_parkacc' u'pop2010' u'gini_index'\n",
      " u'median_hh_income' u'athome' u'bicycle' u'car' u'carpool' u'cartotal'\n",
      " u'publictr' u'walk' u'median_income' 'food_afford' u'ave_fam_size'\n",
      " 'hfood_acc' 'job_house_low' 'job_house_tot' 'job_match' 'ozone'\n",
      " 'pm25_conc' u'p_hs_edatt' 'livewage_s' 'livewage_m' 'poverty_child'\n",
      " 'poverty_conc' 'poverty_all' 'unemp_rate' 'day_care' 'inf_care'\n",
      " 'violent_crime' 'child_abuse' 'voted' 'bad_water' u'p_trans_acc'\n",
      " 'traf_fatal' 'traf_sev' 'alc_off' 'alc_on' 'alc_tot']\n"
     ]
    }
   ],
   "source": [
    "#Merge onto combined HCI df\n",
    "hci = pd.merge(hci, temp, on='geotypevalue', how='outer')\n",
    "print hci.shape[0]\n",
    "print hci.shape[1]\n",
    "print hci.columns.values"
   ]
  },
  {
   "cell_type": "code",
   "execution_count": 64,
   "metadata": {
    "collapsed": false
   },
   "outputs": [
    {
     "name": "stdout",
     "output_type": "stream",
     "text": [
      "453456\n",
      "[u'CA' u'CD' u'CO' u'CT' u'PL' u'RE']\n",
      "[u'2005-2007' u'2006-2010' u'2008-2010' u'2011-2013']\n",
      "[u'ind_id' u'ind_definition' u'reportyear' u'race_eth_code'\n",
      " u'race_eth_name' u'geotype' u'geotypevalue' u'geoname' u'county_name'\n",
      " u'county_fips' u'region_name' u'region_code' u'strata_name_code'\n",
      " u'strata_name' u'strata_level_name_code' u'strata_level_name'\n",
      " u'households' u'total_households' u'households_percent' u'll95ci_percent'\n",
      " u'ul95ci_percent' u'percent_se' u'percent_rse' u'ca_decile' u'ca_rr'\n",
      " u'version']\n"
     ]
    }
   ],
   "source": [
    "#Read in HCI file for Household Type\n",
    "tempurl = 'https://github.com/crsalviati/CA_Housing/raw/master/Raw_Data/HCI_HouseholdType_746_CARECOCDPLCT_Alameda-Monterey_24APR15.xlsx'\n",
    "temp = pd.read_excel(tempurl, sheetname=0, converters={'geotypevalue':str,'county_fips':str})\n",
    "temp.columns = [x.lower() for x in temp.columns]\n",
    "print temp.shape[0]\n",
    "print temp.geotype.unique()\n",
    "print temp.reportyear.unique()\n",
    "print temp.columns.values"
   ]
  },
  {
   "cell_type": "code",
   "execution_count": 65,
   "metadata": {
    "collapsed": false
   },
   "outputs": [
    {
     "name": "stdout",
     "output_type": "stream",
     "text": [
      "48736\n",
      "328\n",
      "341\n",
      "1139\n",
      "347\n",
      "1523\n",
      "384\n"
     ]
    },
    {
     "data": {
      "text/html": [
       "<div>\n",
       "<table border=\"1\" class=\"dataframe\">\n",
       "  <thead>\n",
       "    <tr style=\"text-align: right;\">\n",
       "      <th>strata_level_name</th>\n",
       "      <th>geotypevalue</th>\n",
       "      <th>hh_f</th>\n",
       "      <th>hh_f_child</th>\n",
       "      <th>hh_m</th>\n",
       "      <th>hh_m_child</th>\n",
       "      <th>hh_married</th>\n",
       "      <th>hh_married_child</th>\n",
       "      <th>hh_nonfam</th>\n",
       "      <th>hh_nonfam_solo</th>\n",
       "    </tr>\n",
       "  </thead>\n",
       "  <tbody>\n",
       "    <tr>\n",
       "      <th>1</th>\n",
       "      <td>00135</td>\n",
       "      <td>3.1</td>\n",
       "      <td>3.1</td>\n",
       "      <td>0.0</td>\n",
       "      <td>0.0</td>\n",
       "      <td>71.3</td>\n",
       "      <td>42.2</td>\n",
       "      <td>25.6</td>\n",
       "      <td>22.1</td>\n",
       "    </tr>\n",
       "    <tr>\n",
       "      <th>5</th>\n",
       "      <td>00156</td>\n",
       "      <td>NaN</td>\n",
       "      <td>NaN</td>\n",
       "      <td>NaN</td>\n",
       "      <td>NaN</td>\n",
       "      <td>NaN</td>\n",
       "      <td>NaN</td>\n",
       "      <td>NaN</td>\n",
       "      <td>NaN</td>\n",
       "    </tr>\n",
       "    <tr>\n",
       "      <th>9</th>\n",
       "      <td>00212</td>\n",
       "      <td>7.1</td>\n",
       "      <td>2.5</td>\n",
       "      <td>1.1</td>\n",
       "      <td>0.0</td>\n",
       "      <td>73.6</td>\n",
       "      <td>31.5</td>\n",
       "      <td>18.2</td>\n",
       "      <td>13.4</td>\n",
       "    </tr>\n",
       "    <tr>\n",
       "      <th>13</th>\n",
       "      <td>00296</td>\n",
       "      <td>26.3</td>\n",
       "      <td>19.4</td>\n",
       "      <td>6.4</td>\n",
       "      <td>4.7</td>\n",
       "      <td>51.1</td>\n",
       "      <td>34.4</td>\n",
       "      <td>16.3</td>\n",
       "      <td>12.2</td>\n",
       "    </tr>\n",
       "    <tr>\n",
       "      <th>17</th>\n",
       "      <td>00310</td>\n",
       "      <td>NaN</td>\n",
       "      <td>NaN</td>\n",
       "      <td>NaN</td>\n",
       "      <td>NaN</td>\n",
       "      <td>NaN</td>\n",
       "      <td>NaN</td>\n",
       "      <td>NaN</td>\n",
       "      <td>NaN</td>\n",
       "    </tr>\n",
       "  </tbody>\n",
       "</table>\n",
       "</div>"
      ],
      "text/plain": [
       "strata_level_name geotypevalue  hh_f  hh_f_child  hh_m  hh_m_child  \\\n",
       "1                        00135   3.1         3.1   0.0         0.0   \n",
       "5                        00156   NaN         NaN   NaN         NaN   \n",
       "9                        00212   7.1         2.5   1.1         0.0   \n",
       "13                       00296  26.3        19.4   6.4         4.7   \n",
       "17                       00310   NaN         NaN   NaN         NaN   \n",
       "\n",
       "strata_level_name  hh_married  hh_married_child  hh_nonfam  hh_nonfam_solo  \n",
       "1                        71.3              42.2       25.6            22.1  \n",
       "5                         NaN               NaN        NaN             NaN  \n",
       "9                        73.6              31.5       18.2            13.4  \n",
       "13                       51.1              34.4       16.3            12.2  \n",
       "17                        NaN               NaN        NaN             NaN  "
      ]
     },
     "execution_count": 65,
     "metadata": {},
     "output_type": "execute_result"
    }
   ],
   "source": [
    "#Keep Place level data for all race, explore years available, limit to fields of interest\n",
    "temp = temp[(temp.geotype==\"PL\") & (temp.race_eth_code == 9)] #Stratified by mode, just keep total for now. Revisit?\n",
    "print temp.shape[0]\n",
    "\n",
    "temp = pd.pivot_table(temp, index=['geotypevalue', 'reportyear'], columns='strata_level_name', values='households_percent')\n",
    "temp.reset_index(level=0, inplace=True)\n",
    "temp.reset_index(level=0, inplace=True)\n",
    "temp.rename(columns={'Female householder, no husband present':'hh_f'},inplace =True)\n",
    "temp.rename(columns={'Female householder, no husband present, with own children under 18 years':'hh_f_child'},inplace =True)\n",
    "temp.rename(columns={'Male householder, no wife present':'hh_m'},inplace =True)\n",
    "temp.rename(columns={'Male householder, no wife present, with own children under 18 years':'hh_m_child'},inplace =True)\n",
    "temp.rename(columns={'Married couple':'hh_married'},inplace =True)\n",
    "temp.rename(columns={'Married couple with own children under 18 years':'hh_married_child'},inplace =True)\n",
    "temp.rename(columns={'Nonfamily households':'hh_nonfam'},inplace =True)\n",
    "temp.rename(columns={'Nonfamily households with householder living alone':'hh_nonfam_solo'},inplace =True)\n",
    "\n",
    "print temp.hh_f[temp.reportyear == '2005-2007'].count()\n",
    "print temp.hh_f[temp.reportyear == '2008-2010'].count()\n",
    "print temp.hh_f[temp.reportyear == '2006-2010'].count()\n",
    "print temp.hh_f[temp.reportyear == '2011-2013'].count()\n",
    "temp = temp[temp.reportyear == '2006-2010']\n",
    "del temp['reportyear']\n",
    "print temp.shape[0]\n",
    "print temp.hh_f.isnull().sum()\n",
    "temp.head(5) "
   ]
  },
  {
   "cell_type": "code",
   "execution_count": 66,
   "metadata": {
    "collapsed": false
   },
   "outputs": [
    {
     "name": "stdout",
     "output_type": "stream",
     "text": [
      "1533\n",
      "49\n",
      "[u'geotypevalue' u'geoname' u'p_parkacc' u'pop2010' u'gini_index'\n",
      " u'median_hh_income' u'athome' u'bicycle' u'car' u'carpool' u'cartotal'\n",
      " u'publictr' u'walk' u'median_income' 'food_afford' u'ave_fam_size'\n",
      " 'hfood_acc' 'job_house_low' 'job_house_tot' 'job_match' 'ozone'\n",
      " 'pm25_conc' u'p_hs_edatt' 'livewage_s' 'livewage_m' 'poverty_child'\n",
      " 'poverty_conc' 'poverty_all' 'unemp_rate' 'day_care' 'inf_care'\n",
      " 'violent_crime' 'child_abuse' 'voted' 'bad_water' u'p_trans_acc'\n",
      " 'traf_fatal' 'traf_sev' 'alc_off' 'alc_on' 'alc_tot' 'hh_f' 'hh_f_child'\n",
      " 'hh_m' 'hh_m_child' 'hh_married' 'hh_married_child' 'hh_nonfam'\n",
      " 'hh_nonfam_solo']\n"
     ]
    }
   ],
   "source": [
    "#Merge onto combined HCI df\n",
    "hci2 = pd.merge(hci, temp, on='geotypevalue', how='outer')\n",
    "print hci2.shape[0]\n",
    "print hci2.shape[1]\n",
    "print hci2.columns.values"
   ]
  },
  {
   "cell_type": "code",
   "execution_count": 67,
   "metadata": {
    "collapsed": false
   },
   "outputs": [
    {
     "name": "stdout",
     "output_type": "stream",
     "text": [
      "1533\n",
      "49\n",
      "[u'geotypevalue' u'geoname' u'p_parkacc' u'pop2010' u'gini_index'\n",
      " u'median_hh_income' u'athome' u'bicycle' u'car' u'carpool' u'cartotal'\n",
      " u'publictr' u'walk' u'median_income' 'food_afford' u'ave_fam_size'\n",
      " 'hfood_acc' 'job_house_low' 'job_house_tot' 'job_match' 'ozone'\n",
      " 'pm25_conc' u'p_hs_edatt' 'livewage_s' 'livewage_m' 'poverty_child'\n",
      " 'poverty_conc' 'poverty_all' 'unemp_rate' 'day_care' 'inf_care'\n",
      " 'violent_crime' 'child_abuse' 'voted' 'bad_water' u'p_trans_acc'\n",
      " 'traf_fatal' 'traf_sev' 'alc_off' 'alc_on' 'alc_tot' 'hh_f' 'hh_f_child'\n",
      " 'hh_m' 'hh_m_child' 'hh_married' 'hh_married_child' 'hh_nonfam'\n",
      " 'hh_nonfam_solo']\n"
     ]
    }
   ],
   "source": [
    "#Merge onto combined HCI df\n",
    "hci = pd.merge(hci, temp, on='geotypevalue', how='outer')\n",
    "print hci.shape[0]\n",
    "print hci.shape[1]\n",
    "print hci.columns.values"
   ]
  },
  {
   "cell_type": "code",
   "execution_count": null,
   "metadata": {
    "collapsed": true
   },
   "outputs": [],
   "source": []
  },
  {
   "cell_type": "code",
   "execution_count": 68,
   "metadata": {
    "collapsed": false
   },
   "outputs": [],
   "source": [
    "#print hci[['geotypevalue', 'geoname']].loc[hci.p_parkacc.isnull()]\n",
    "#print hci[['geotypevalue', 'geoname']].loc[hci.job_house_tot.isnull()]"
   ]
  },
  {
   "cell_type": "code",
   "execution_count": 69,
   "metadata": {
    "collapsed": false
   },
   "outputs": [
    {
     "name": "stdout",
     "output_type": "stream",
     "text": [
      "1523\n"
     ]
    },
    {
     "data": {
      "text/html": [
       "<div>\n",
       "<table border=\"1\" class=\"dataframe\">\n",
       "  <thead>\n",
       "    <tr style=\"text-align: right;\">\n",
       "      <th></th>\n",
       "      <th>placefp</th>\n",
       "      <th>placename</th>\n",
       "      <th>county</th>\n",
       "    </tr>\n",
       "  </thead>\n",
       "  <tbody>\n",
       "    <tr>\n",
       "      <th>0</th>\n",
       "      <td>00135</td>\n",
       "      <td>Acalanes Ridge CDP</td>\n",
       "      <td>Contra Costa County</td>\n",
       "    </tr>\n",
       "    <tr>\n",
       "      <th>1</th>\n",
       "      <td>00156</td>\n",
       "      <td>Acampo CDP</td>\n",
       "      <td>San Joaquin County</td>\n",
       "    </tr>\n",
       "    <tr>\n",
       "      <th>2</th>\n",
       "      <td>00212</td>\n",
       "      <td>Acton CDP</td>\n",
       "      <td>Los Angeles County</td>\n",
       "    </tr>\n",
       "    <tr>\n",
       "      <th>3</th>\n",
       "      <td>00296</td>\n",
       "      <td>Adelanto city</td>\n",
       "      <td>San Bernardino County</td>\n",
       "    </tr>\n",
       "    <tr>\n",
       "      <th>4</th>\n",
       "      <td>00310</td>\n",
       "      <td>Adin CDP</td>\n",
       "      <td>Modoc County</td>\n",
       "    </tr>\n",
       "  </tbody>\n",
       "</table>\n",
       "</div>"
      ],
      "text/plain": [
       "  placefp           placename                 county\n",
       "0   00135  Acalanes Ridge CDP    Contra Costa County\n",
       "1   00156          Acampo CDP     San Joaquin County\n",
       "2   00212           Acton CDP     Los Angeles County\n",
       "3   00296       Adelanto city  San Bernardino County\n",
       "4   00310            Adin CDP           Modoc County"
      ]
     },
     "execution_count": 69,
     "metadata": {},
     "output_type": "execute_result"
    }
   ],
   "source": [
    "# Read in FIPS codes  and limit to codes for CA\n",
    "fips = pd.read_csv('https://github.com/crsalviati/CA_Housing/raw/master/Raw_Data/fips_codes.txt', sep='|',converters={1:str,2:str})\n",
    "fips.columns = [x.lower() for x in fips.columns]\n",
    "fips = fips[(fips.state==\"CA\")]\n",
    "fips = fips[['placefp', 'placename', 'county']]\n",
    "print fips.shape[0]\n",
    "fips.head(5)\n"
   ]
  },
  {
   "cell_type": "code",
   "execution_count": 70,
   "metadata": {
    "collapsed": false
   },
   "outputs": [
    {
     "name": "stdout",
     "output_type": "stream",
     "text": [
      "1533\n",
      "placefp             10\n",
      "geoname              0\n",
      "p_parkacc            2\n",
      "pop2010              2\n",
      "gini_index           0\n",
      "median_hh_income     0\n",
      "athome               0\n",
      "bicycle              0\n",
      "car                  0\n",
      "carpool              0\n",
      "cartotal             0\n",
      "publictr             0\n",
      "walk                 0\n",
      "median_income        0\n",
      "food_afford          0\n",
      "ave_fam_size         0\n",
      "hfood_acc            0\n",
      "job_house_low        7\n",
      "job_house_tot        7\n",
      "job_match            8\n",
      "ozone                0\n",
      "pm25_conc            0\n",
      "p_hs_edatt           0\n",
      "livewage_s           0\n",
      "livewage_m           0\n",
      "poverty_child        0\n",
      "poverty_conc         0\n",
      "poverty_all          0\n",
      "unemp_rate           0\n",
      "day_care             0\n",
      "inf_care             0\n",
      "violent_crime        0\n",
      "child_abuse          2\n",
      "voted                0\n",
      "bad_water            0\n",
      "p_trans_acc          2\n",
      "traf_fatal           0\n",
      "traf_sev             0\n",
      "alc_off              0\n",
      "alc_on               0\n",
      "alc_tot              0\n",
      "hh_f                 0\n",
      "hh_f_child           0\n",
      "hh_m                 0\n",
      "hh_m_child           0\n",
      "hh_married           0\n",
      "hh_married_child     0\n",
      "hh_nonfam            0\n",
      "hh_nonfam_solo       0\n",
      "placename            0\n",
      "county               0\n",
      "dtype: int64\n",
      "1523\n"
     ]
    },
    {
     "data": {
      "text/html": [
       "<div>\n",
       "<table border=\"1\" class=\"dataframe\">\n",
       "  <thead>\n",
       "    <tr style=\"text-align: right;\">\n",
       "      <th></th>\n",
       "      <th>placefp</th>\n",
       "      <th>geoname</th>\n",
       "      <th>p_parkacc</th>\n",
       "      <th>pop2010</th>\n",
       "      <th>gini_index</th>\n",
       "      <th>median_hh_income</th>\n",
       "      <th>athome</th>\n",
       "      <th>bicycle</th>\n",
       "      <th>car</th>\n",
       "      <th>carpool</th>\n",
       "      <th>...</th>\n",
       "      <th>hh_f</th>\n",
       "      <th>hh_f_child</th>\n",
       "      <th>hh_m</th>\n",
       "      <th>hh_m_child</th>\n",
       "      <th>hh_married</th>\n",
       "      <th>hh_married_child</th>\n",
       "      <th>hh_nonfam</th>\n",
       "      <th>hh_nonfam_solo</th>\n",
       "      <th>placename</th>\n",
       "      <th>county</th>\n",
       "    </tr>\n",
       "  </thead>\n",
       "  <tbody>\n",
       "    <tr>\n",
       "      <th>0</th>\n",
       "      <td>00135</td>\n",
       "      <td>Acalanes Ridge CDP</td>\n",
       "      <td>1.000000</td>\n",
       "      <td>1137.0</td>\n",
       "      <td>0.415</td>\n",
       "      <td>140185.0</td>\n",
       "      <td>11.9</td>\n",
       "      <td>1.716247</td>\n",
       "      <td>65.8</td>\n",
       "      <td>8.2</td>\n",
       "      <td>...</td>\n",
       "      <td>3.1</td>\n",
       "      <td>3.1</td>\n",
       "      <td>0.0</td>\n",
       "      <td>0.0</td>\n",
       "      <td>71.3</td>\n",
       "      <td>42.2</td>\n",
       "      <td>25.6</td>\n",
       "      <td>22.1</td>\n",
       "      <td>Acalanes Ridge CDP</td>\n",
       "      <td>Contra Costa County</td>\n",
       "    </tr>\n",
       "    <tr>\n",
       "      <th>1</th>\n",
       "      <td>00156</td>\n",
       "      <td>Acampo CDP</td>\n",
       "      <td>0.000000</td>\n",
       "      <td>341.0</td>\n",
       "      <td>NaN</td>\n",
       "      <td>NaN</td>\n",
       "      <td>NaN</td>\n",
       "      <td>NaN</td>\n",
       "      <td>NaN</td>\n",
       "      <td>NaN</td>\n",
       "      <td>...</td>\n",
       "      <td>NaN</td>\n",
       "      <td>NaN</td>\n",
       "      <td>NaN</td>\n",
       "      <td>NaN</td>\n",
       "      <td>NaN</td>\n",
       "      <td>NaN</td>\n",
       "      <td>NaN</td>\n",
       "      <td>NaN</td>\n",
       "      <td>Acampo CDP</td>\n",
       "      <td>San Joaquin County</td>\n",
       "    </tr>\n",
       "    <tr>\n",
       "      <th>2</th>\n",
       "      <td>00212</td>\n",
       "      <td>Acton CDP</td>\n",
       "      <td>0.403765</td>\n",
       "      <td>7596.0</td>\n",
       "      <td>0.378</td>\n",
       "      <td>90888.0</td>\n",
       "      <td>6.4</td>\n",
       "      <td>0.000000</td>\n",
       "      <td>78.4</td>\n",
       "      <td>13.4</td>\n",
       "      <td>...</td>\n",
       "      <td>7.1</td>\n",
       "      <td>2.5</td>\n",
       "      <td>1.1</td>\n",
       "      <td>0.0</td>\n",
       "      <td>73.6</td>\n",
       "      <td>31.5</td>\n",
       "      <td>18.2</td>\n",
       "      <td>13.4</td>\n",
       "      <td>Acton CDP</td>\n",
       "      <td>Los Angeles County</td>\n",
       "    </tr>\n",
       "    <tr>\n",
       "      <th>3</th>\n",
       "      <td>00296</td>\n",
       "      <td>Adelanto city</td>\n",
       "      <td>0.147017</td>\n",
       "      <td>31765.0</td>\n",
       "      <td>0.384</td>\n",
       "      <td>43305.0</td>\n",
       "      <td>3.6</td>\n",
       "      <td>0.127502</td>\n",
       "      <td>70.2</td>\n",
       "      <td>19.8</td>\n",
       "      <td>...</td>\n",
       "      <td>26.3</td>\n",
       "      <td>19.4</td>\n",
       "      <td>6.4</td>\n",
       "      <td>4.7</td>\n",
       "      <td>51.1</td>\n",
       "      <td>34.4</td>\n",
       "      <td>16.3</td>\n",
       "      <td>12.2</td>\n",
       "      <td>Adelanto city</td>\n",
       "      <td>San Bernardino County</td>\n",
       "    </tr>\n",
       "    <tr>\n",
       "      <th>4</th>\n",
       "      <td>00310</td>\n",
       "      <td>Adin CDP</td>\n",
       "      <td>0.610294</td>\n",
       "      <td>272.0</td>\n",
       "      <td>0.369</td>\n",
       "      <td>NaN</td>\n",
       "      <td>NaN</td>\n",
       "      <td>NaN</td>\n",
       "      <td>NaN</td>\n",
       "      <td>NaN</td>\n",
       "      <td>...</td>\n",
       "      <td>NaN</td>\n",
       "      <td>NaN</td>\n",
       "      <td>NaN</td>\n",
       "      <td>NaN</td>\n",
       "      <td>NaN</td>\n",
       "      <td>NaN</td>\n",
       "      <td>NaN</td>\n",
       "      <td>NaN</td>\n",
       "      <td>Adin CDP</td>\n",
       "      <td>Modoc County</td>\n",
       "    </tr>\n",
       "  </tbody>\n",
       "</table>\n",
       "<p>5 rows × 51 columns</p>\n",
       "</div>"
      ],
      "text/plain": [
       "  placefp             geoname  p_parkacc  pop2010  gini_index  \\\n",
       "0   00135  Acalanes Ridge CDP   1.000000   1137.0       0.415   \n",
       "1   00156          Acampo CDP   0.000000    341.0         NaN   \n",
       "2   00212           Acton CDP   0.403765   7596.0       0.378   \n",
       "3   00296       Adelanto city   0.147017  31765.0       0.384   \n",
       "4   00310            Adin CDP   0.610294    272.0       0.369   \n",
       "\n",
       "   median_hh_income  athome   bicycle   car  carpool          ...            \\\n",
       "0          140185.0    11.9  1.716247  65.8      8.2          ...             \n",
       "1               NaN     NaN       NaN   NaN      NaN          ...             \n",
       "2           90888.0     6.4  0.000000  78.4     13.4          ...             \n",
       "3           43305.0     3.6  0.127502  70.2     19.8          ...             \n",
       "4               NaN     NaN       NaN   NaN      NaN          ...             \n",
       "\n",
       "   hh_f  hh_f_child  hh_m  hh_m_child  hh_married  hh_married_child  \\\n",
       "0   3.1         3.1   0.0         0.0        71.3              42.2   \n",
       "1   NaN         NaN   NaN         NaN         NaN               NaN   \n",
       "2   7.1         2.5   1.1         0.0        73.6              31.5   \n",
       "3  26.3        19.4   6.4         4.7        51.1              34.4   \n",
       "4   NaN         NaN   NaN         NaN         NaN               NaN   \n",
       "\n",
       "   hh_nonfam  hh_nonfam_solo           placename                 county  \n",
       "0       25.6            22.1  Acalanes Ridge CDP    Contra Costa County  \n",
       "1        NaN             NaN          Acampo CDP     San Joaquin County  \n",
       "2       18.2            13.4           Acton CDP     Los Angeles County  \n",
       "3       16.3            12.2       Adelanto city  San Bernardino County  \n",
       "4        NaN             NaN            Adin CDP           Modoc County  \n",
       "\n",
       "[5 rows x 51 columns]"
      ]
     },
     "execution_count": 70,
     "metadata": {},
     "output_type": "execute_result"
    }
   ],
   "source": [
    "#Merge FIPS codes onto HCI indicators\n",
    "hci.rename(columns={'geotypevalue':'placefp'},inplace =True)\n",
    "\n",
    "hci = pd.merge(hci, fips, on='placefp', how='outer')\n",
    "\n",
    "#HCI data maps cleanly to FIPS codes, except for code 99999 (state average?) - drop this observation\n",
    "print hci.shape[0]\n",
    "print hci[hci.placename.isnull()].count()\n",
    "hci = hci[hci.placename.notnull()] #Some HCI files have a few place codes that don't show up in the master FIPS file. Drop these\n",
    "print hci.shape[0]\n",
    "hci.head()"
   ]
  },
  {
   "cell_type": "code",
   "execution_count": 71,
   "metadata": {
    "collapsed": false
   },
   "outputs": [
    {
     "name": "stdout",
     "output_type": "stream",
     "text": [
      "737\n"
     ]
    },
    {
     "data": {
      "text/html": [
       "<div>\n",
       "<table border=\"1\" class=\"dataframe\">\n",
       "  <thead>\n",
       "    <tr style=\"text-align: right;\">\n",
       "      <th></th>\n",
       "      <th>regionid</th>\n",
       "      <th>regionname</th>\n",
       "      <th>countyname</th>\n",
       "      <th>zri_sqft</th>\n",
       "    </tr>\n",
       "  </thead>\n",
       "  <tbody>\n",
       "    <tr>\n",
       "      <th>1</th>\n",
       "      <td>12447</td>\n",
       "      <td>Los Angeles</td>\n",
       "      <td>Los Angeles</td>\n",
       "      <td>1.578</td>\n",
       "    </tr>\n",
       "    <tr>\n",
       "      <th>8</th>\n",
       "      <td>54296</td>\n",
       "      <td>San Diego</td>\n",
       "      <td>San Diego</td>\n",
       "      <td>1.494</td>\n",
       "    </tr>\n",
       "    <tr>\n",
       "      <th>10</th>\n",
       "      <td>33839</td>\n",
       "      <td>San Jose</td>\n",
       "      <td>Santa Clara</td>\n",
       "      <td>1.544</td>\n",
       "    </tr>\n",
       "    <tr>\n",
       "      <th>12</th>\n",
       "      <td>20330</td>\n",
       "      <td>San Francisco</td>\n",
       "      <td>San Francisco</td>\n",
       "      <td>2.524</td>\n",
       "    </tr>\n",
       "    <tr>\n",
       "      <th>33</th>\n",
       "      <td>18203</td>\n",
       "      <td>Fresno</td>\n",
       "      <td>Fresno</td>\n",
       "      <td>0.838</td>\n",
       "    </tr>\n",
       "  </tbody>\n",
       "</table>\n",
       "</div>"
      ],
      "text/plain": [
       "    regionid     regionname     countyname  zri_sqft\n",
       "1      12447    Los Angeles    Los Angeles     1.578\n",
       "8      54296      San Diego      San Diego     1.494\n",
       "10     33839       San Jose    Santa Clara     1.544\n",
       "12     20330  San Francisco  San Francisco     2.524\n",
       "33     18203         Fresno         Fresno     0.838"
      ]
     },
     "execution_count": 71,
     "metadata": {},
     "output_type": "execute_result"
    }
   ],
   "source": [
    "#Read in Zillow index: Median ZRI Per Sq Ft: SFR, Condo/Co-op ($)\n",
    "zri_sqft = pd.read_csv('https://github.com/crsalviati/CA_Housing/raw/master/Raw_Data/City_ZriPerSqft_AllHomes.csv', converters={1:str})\n",
    "zri_sqft.columns = [x.lower() for x in zri_sqft.columns]\n",
    "#Limit to observations for CA, keep only vars of interest, and rename vars\n",
    "zri_sqft = zri_sqft[zri_sqft.state == 'CA']\n",
    "zri_sqft = zri_sqft[['regionid', 'regionname', 'countyname', '2010-12']]\n",
    "zri_sqft.rename(columns={'2010-12':'zri_sqft'},inplace =True)\n",
    "print zri_sqft.shape[0]\n",
    "zri_sqft.head()"
   ]
  },
  {
   "cell_type": "code",
   "execution_count": 72,
   "metadata": {
    "collapsed": false
   },
   "outputs": [
    {
     "name": "stdout",
     "output_type": "stream",
     "text": [
      "717\n"
     ]
    },
    {
     "data": {
      "text/html": [
       "<div>\n",
       "<table border=\"1\" class=\"dataframe\">\n",
       "  <thead>\n",
       "    <tr style=\"text-align: right;\">\n",
       "      <th></th>\n",
       "      <th>regionid</th>\n",
       "      <th>regionname</th>\n",
       "      <th>countyname</th>\n",
       "      <th>hval_sqft</th>\n",
       "    </tr>\n",
       "  </thead>\n",
       "  <tbody>\n",
       "    <tr>\n",
       "      <th>1</th>\n",
       "      <td>12447</td>\n",
       "      <td>Los Angeles</td>\n",
       "      <td>Los Angeles</td>\n",
       "      <td>270.0</td>\n",
       "    </tr>\n",
       "    <tr>\n",
       "      <th>7</th>\n",
       "      <td>54296</td>\n",
       "      <td>San Diego</td>\n",
       "      <td>San Diego</td>\n",
       "      <td>267.0</td>\n",
       "    </tr>\n",
       "    <tr>\n",
       "      <th>9</th>\n",
       "      <td>33839</td>\n",
       "      <td>San Jose</td>\n",
       "      <td>Santa Clara</td>\n",
       "      <td>320.0</td>\n",
       "    </tr>\n",
       "    <tr>\n",
       "      <th>11</th>\n",
       "      <td>20330</td>\n",
       "      <td>San Francisco</td>\n",
       "      <td>San Francisco</td>\n",
       "      <td>536.0</td>\n",
       "    </tr>\n",
       "    <tr>\n",
       "      <th>32</th>\n",
       "      <td>18203</td>\n",
       "      <td>Fresno</td>\n",
       "      <td>Fresno</td>\n",
       "      <td>92.0</td>\n",
       "    </tr>\n",
       "  </tbody>\n",
       "</table>\n",
       "</div>"
      ],
      "text/plain": [
       "    regionid     regionname     countyname  hval_sqft\n",
       "1      12447    Los Angeles    Los Angeles      270.0\n",
       "7      54296      San Diego      San Diego      267.0\n",
       "9      33839       San Jose    Santa Clara      320.0\n",
       "11     20330  San Francisco  San Francisco      536.0\n",
       "32     18203         Fresno         Fresno       92.0"
      ]
     },
     "execution_count": 72,
     "metadata": {},
     "output_type": "execute_result"
    }
   ],
   "source": [
    "#Read in Zillow index: Median Home Value Per Sq Ft ($)\n",
    "hval_sqft = pd.read_csv('https://github.com/crsalviati/CA_Housing/raw/master/Raw_Data/City_MedianValuePerSqft_AllHomes.csv', converters={1:str})\n",
    "hval_sqft.columns = [x.lower() for x in hval_sqft.columns]\n",
    "hval_sqft.head()\n",
    "#Limit to observations for CA, keep only vars of interest, and rename vars\n",
    "hval_sqft = hval_sqft[hval_sqft.state == 'CA']\n",
    "hval_sqft = hval_sqft[['regionid', 'regionname', 'countyname', '2010-12']]\n",
    "hval_sqft.rename(columns={'2010-12':'hval_sqft'},inplace =True)\n",
    "print hval_sqft.shape[0]\n",
    "hval_sqft.head()"
   ]
  },
  {
   "cell_type": "code",
   "execution_count": 73,
   "metadata": {
    "collapsed": false
   },
   "outputs": [
    {
     "name": "stdout",
     "output_type": "stream",
     "text": [
      "780\n",
      "regionid     780\n",
      "placename    780\n",
      "county       780\n",
      "zri_sqft     733\n",
      "hval_sqft    716\n",
      "dtype: int64\n",
      "     regionid           placename           county\n",
      "266   16684.0            Adelanto   San Bernardino\n",
      "722   35001.0        Angelus Oaks   San Bernardino\n",
      "592   10150.0                Anza        Riverside\n",
      "557   16791.0            Arbuckle           Colusa\n",
      "241   50797.0             Atwater           Merced\n",
      "515  113561.0              August      San Joaquin\n",
      "690   52272.0  Blairsden-Graeagle           Plumas\n",
      "725   14937.0          Bridgeport             Mono\n",
      "638   10649.0             Cabazon        Riverside\n",
      "516   23986.0         Castroville         Monterey\n",
      "640   10804.0             Chester           Plumas\n",
      "731   42074.0           Coleville             Mono\n",
      "471   17542.0              Colusa           Colusa\n",
      "671   35059.0        Coulterville         Mariposa\n",
      "621   35151.0            Crockett     Contra Costa\n",
      "543  114651.0    Del Monte Forest         Monterey\n",
      "406   55438.0               Delhi           Merced\n",
      "714   17814.0               Doyle           Lassen\n",
      "682   45025.0                Earp   San Bernardino\n",
      "735   57212.0        Forest Falls   San Bernardino\n",
      "600   31729.0              Gerber           Tehama\n",
      "355   31854.0          Greenfield         Monterey\n",
      "670   23269.0          Greenville           Plumas\n",
      "581   50501.0           Groveland         Tuolumne\n",
      "498   35659.0             Gustine           Merced\n",
      "491    5315.0           Jamestown         Tuolumne\n",
      "717   15467.0           June Lake             Mono\n",
      "448    5427.0           King City         Monterey\n",
      "649   21894.0           La Grange         Tuolumne\n",
      "328   52842.0        Laguna Beach           Orange\n",
      "..        ...                 ...              ...\n",
      "665   19115.0          Lower Lake             Lake\n",
      "587   32596.0             Lucerne             Lake\n",
      "679    5743.0         Lytle Creek   San Bernardino\n",
      "489   35858.0       Mammoth Lakes             Mono\n",
      "683   19202.0            Maricopa          Ventura\n",
      "429   29842.0               Mecca        Riverside\n",
      "699  116571.0      Mi Wuk Village         Tuolumne\n",
      "643   12710.0          Middletown             Lake\n",
      "673   15874.0      Mokelumne Hill        Calaveras\n",
      "628   49483.0     Mountain Center        Riverside\n",
      "528   33040.0             Needles   San Bernardino\n",
      "419   53568.0              Newman       Stanislaus\n",
      "636   30035.0                Nice             Lake\n",
      "629   16563.0        Pauma Valley        San Diego\n",
      "692   53898.0           Pinecrest         Tuolumne\n",
      "672   29158.0             Planada           Merced\n",
      "637   26560.0            Plymouth           Amador\n",
      "711    6588.0               Posey           Tulare\n",
      "513   26659.0              Quincy           Plumas\n",
      "545   22745.0             Shandon  San Luis Obispo\n",
      "535   16389.0           Silverado           Orange\n",
      "310   40955.0             Soledad         Monterey\n",
      "297   20550.0              Sonora         Tuolumne\n",
      "726   22866.0        Soulsbyville         Tuolumne\n",
      "657   36294.0              Sutter           Sutter\n",
      "574   54756.0            Tuolumne         Tuolumne\n",
      "603    7504.0         Twain Harte         Tuolumne\n",
      "700   48103.0          Upper Lake             Lake\n",
      "713   16066.0             Volcano           Amador\n",
      "565   21307.0            Williams           Colusa\n",
      "\n",
      "[64 rows x 3 columns]\n",
      "     regionid            placename           county\n",
      "343   10157.0               Arcata         Humboldt\n",
      "741   23523.0        Arroyo Grande  San Luis Obispo\n",
      "777   30306.0          Avila Beach  San Luis Obispo\n",
      "761   30417.0           Ben Lomond       Santa Cruz\n",
      "772   41918.0              Bolinas            Marin\n",
      "751   17128.0        Boulder Creek       Santa Cruz\n",
      "744   41951.0              Brawley         Imperial\n",
      "762   30642.0             Buellton    Santa Barbara\n",
      "747    3980.0          Carpinteria    Santa Barbara\n",
      "745   10991.0        Crescent City        Del Norte\n",
      "755   28219.0               Denair       Stanislaus\n",
      "770   51769.0             Dunsmuir         Siskiyou\n",
      "773   24620.0                 Etna         Siskiyou\n",
      "210   45191.0               Eureka         Humboldt\n",
      "749   52061.0           Fort Bragg        Mendocino\n",
      "775   18156.0           Fort Jones         Siskiyou\n",
      "416   18173.0              Fortuna         Humboldt\n",
      "742    4931.0               Goleta    Santa Barbara\n",
      "769   49278.0              Gualala        Mendocino\n",
      "779    8646.0            Inverness            Marin\n",
      "774   39301.0             La Honda        San Mateo\n",
      "752   32578.0      Los Altos Hills      Santa Clara\n",
      "753   19207.0             Mariposa         Mariposa\n",
      "778    9014.0              McCloud         Siskiyou\n",
      "361   12654.0        McKinleyville         Humboldt\n",
      "771  116639.0       Mission Canyon    Santa Barbara\n",
      "766   19430.0             Montague         Siskiyou\n",
      "758   39843.0            Montecito    Santa Barbara\n",
      "765   32988.0         Mount Shasta         Siskiyou\n",
      "750   40009.0        Newport Coast           Orange\n",
      "767   42819.0           North Fork           Madera\n",
      "763   26526.0          Pismo Beach  San Luis Obispo\n",
      "768   26567.0  Point Reyes Station            Marin\n",
      "746   40493.0        Rancho Mirage        Riverside\n",
      "759   43361.0       Redwood Valley        Mendocino\n",
      "754   47510.0         Saint Helena             Napa\n",
      "738    6923.0      San Luis Obispo  San Luis Obispo\n",
      "737   13712.0        Santa Barbara    Santa Barbara\n",
      "760   26968.0           Santa Ynez    Santa Barbara\n",
      "776   36421.0          Sierra City           Sierra\n",
      "756   34030.0              Solvang    Santa Barbara\n",
      "743   27183.0       South Pasadena      Los Angeles\n",
      "740    7518.0                Ukiah        Mendocino\n",
      "764    7809.0                 Weed         Siskiyou\n",
      "739   41665.0      West Sacramento             Yolo\n",
      "748   27960.0              Willits        Mendocino\n",
      "757   55294.0                Yreka         Siskiyou\n"
     ]
    }
   ],
   "source": [
    "zillow = pd.merge(zri_sqft, hval_sqft, on=['regionid', 'regionname', 'countyname'], how='outer')\n",
    "#zillow = pd.merge(zri_sqft, hval_sqft, on=['regionid'], how='outer')\n",
    "\n",
    "zillow.rename(columns={'regionname':'placename'},inplace =True)\n",
    "zillow.rename(columns={'countyname':'county'},inplace =True)\n",
    "\n",
    "#Note Zillow only has data on 737 cities, as opposed to 1523 FIPS places\n",
    "print zillow.shape[0]\n",
    "print zillow.count()\n",
    "zillow.head()\n",
    "zillow.sort_values('placename', inplace=True)\n",
    "print zillow[['regionid', 'placename', 'county']].loc[zillow.hval_sqft.isnull()]\n",
    "print zillow[['regionid', 'placename', 'county']].loc[zillow.zri_sqft.isnull()]"
   ]
  },
  {
   "cell_type": "code",
   "execution_count": 74,
   "metadata": {
    "collapsed": false
   },
   "outputs": [
    {
     "data": {
      "text/html": [
       "<div>\n",
       "<table border=\"1\" class=\"dataframe\">\n",
       "  <thead>\n",
       "    <tr style=\"text-align: right;\">\n",
       "      <th></th>\n",
       "      <th>placefp</th>\n",
       "      <th>geoname</th>\n",
       "      <th>p_parkacc</th>\n",
       "      <th>pop2010</th>\n",
       "      <th>gini_index</th>\n",
       "      <th>median_hh_income</th>\n",
       "      <th>athome</th>\n",
       "      <th>bicycle</th>\n",
       "      <th>car</th>\n",
       "      <th>carpool</th>\n",
       "      <th>...</th>\n",
       "      <th>hh_m_child</th>\n",
       "      <th>hh_married</th>\n",
       "      <th>hh_married_child</th>\n",
       "      <th>hh_nonfam</th>\n",
       "      <th>hh_nonfam_solo</th>\n",
       "      <th>placename</th>\n",
       "      <th>county</th>\n",
       "      <th>regionid</th>\n",
       "      <th>zri_sqft</th>\n",
       "      <th>hval_sqft</th>\n",
       "    </tr>\n",
       "  </thead>\n",
       "  <tbody>\n",
       "    <tr>\n",
       "      <th>0</th>\n",
       "      <td>00212</td>\n",
       "      <td>Acton CDP</td>\n",
       "      <td>0.403765</td>\n",
       "      <td>7596.0</td>\n",
       "      <td>0.378</td>\n",
       "      <td>90888.0</td>\n",
       "      <td>6.4</td>\n",
       "      <td>0.000000</td>\n",
       "      <td>78.4</td>\n",
       "      <td>13.4</td>\n",
       "      <td>...</td>\n",
       "      <td>0.0</td>\n",
       "      <td>73.6</td>\n",
       "      <td>31.5</td>\n",
       "      <td>18.2</td>\n",
       "      <td>13.4</td>\n",
       "      <td>Acton</td>\n",
       "      <td>Los Angeles</td>\n",
       "      <td>16677.0</td>\n",
       "      <td>1.088</td>\n",
       "      <td>189.0</td>\n",
       "    </tr>\n",
       "    <tr>\n",
       "      <th>1</th>\n",
       "      <td>00296</td>\n",
       "      <td>Adelanto city</td>\n",
       "      <td>0.147017</td>\n",
       "      <td>31765.0</td>\n",
       "      <td>0.384</td>\n",
       "      <td>43305.0</td>\n",
       "      <td>3.6</td>\n",
       "      <td>0.127502</td>\n",
       "      <td>70.2</td>\n",
       "      <td>19.8</td>\n",
       "      <td>...</td>\n",
       "      <td>4.7</td>\n",
       "      <td>51.1</td>\n",
       "      <td>34.4</td>\n",
       "      <td>16.3</td>\n",
       "      <td>12.2</td>\n",
       "      <td>Adelanto</td>\n",
       "      <td>San Bernardino</td>\n",
       "      <td>16684.0</td>\n",
       "      <td>0.744</td>\n",
       "      <td>NaN</td>\n",
       "    </tr>\n",
       "    <tr>\n",
       "      <th>2</th>\n",
       "      <td>00394</td>\n",
       "      <td>Agoura Hills city</td>\n",
       "      <td>0.981702</td>\n",
       "      <td>20330.0</td>\n",
       "      <td>0.431</td>\n",
       "      <td>106886.0</td>\n",
       "      <td>6.9</td>\n",
       "      <td>0.132013</td>\n",
       "      <td>82.9</td>\n",
       "      <td>7.0</td>\n",
       "      <td>...</td>\n",
       "      <td>0.9</td>\n",
       "      <td>66.4</td>\n",
       "      <td>31.2</td>\n",
       "      <td>23.2</td>\n",
       "      <td>19.2</td>\n",
       "      <td>Agoura Hills</td>\n",
       "      <td>Los Angeles</td>\n",
       "      <td>9840.0</td>\n",
       "      <td>1.438</td>\n",
       "      <td>274.0</td>\n",
       "    </tr>\n",
       "    <tr>\n",
       "      <th>3</th>\n",
       "      <td>00464</td>\n",
       "      <td>Aguanga CDP</td>\n",
       "      <td>0.531915</td>\n",
       "      <td>1128.0</td>\n",
       "      <td>0.398</td>\n",
       "      <td>45702.0</td>\n",
       "      <td>18.4</td>\n",
       "      <td>0.000000</td>\n",
       "      <td>58.1</td>\n",
       "      <td>15.1</td>\n",
       "      <td>...</td>\n",
       "      <td>3.6</td>\n",
       "      <td>66.5</td>\n",
       "      <td>33.3</td>\n",
       "      <td>26.1</td>\n",
       "      <td>22.9</td>\n",
       "      <td>Aguanga</td>\n",
       "      <td>Riverside</td>\n",
       "      <td>43832.0</td>\n",
       "      <td>0.926</td>\n",
       "      <td>119.0</td>\n",
       "    </tr>\n",
       "    <tr>\n",
       "      <th>4</th>\n",
       "      <td>00478</td>\n",
       "      <td>Ahwahnee CDP</td>\n",
       "      <td>0.136687</td>\n",
       "      <td>2246.0</td>\n",
       "      <td>0.515</td>\n",
       "      <td>45670.0</td>\n",
       "      <td>5.9</td>\n",
       "      <td>0.000000</td>\n",
       "      <td>85.1</td>\n",
       "      <td>9.0</td>\n",
       "      <td>...</td>\n",
       "      <td>1.0</td>\n",
       "      <td>66.2</td>\n",
       "      <td>20.3</td>\n",
       "      <td>31.3</td>\n",
       "      <td>29.6</td>\n",
       "      <td>Ahwahnee</td>\n",
       "      <td>Madera</td>\n",
       "      <td>3333.0</td>\n",
       "      <td>0.904</td>\n",
       "      <td>131.0</td>\n",
       "    </tr>\n",
       "  </tbody>\n",
       "</table>\n",
       "<p>5 rows × 54 columns</p>\n",
       "</div>"
      ],
      "text/plain": [
       "  placefp            geoname  p_parkacc  pop2010  gini_index  \\\n",
       "0   00212          Acton CDP   0.403765   7596.0       0.378   \n",
       "1   00296      Adelanto city   0.147017  31765.0       0.384   \n",
       "2   00394  Agoura Hills city   0.981702  20330.0       0.431   \n",
       "3   00464        Aguanga CDP   0.531915   1128.0       0.398   \n",
       "4   00478       Ahwahnee CDP   0.136687   2246.0       0.515   \n",
       "\n",
       "   median_hh_income  athome   bicycle   car  carpool    ...      hh_m_child  \\\n",
       "0           90888.0     6.4  0.000000  78.4     13.4    ...             0.0   \n",
       "1           43305.0     3.6  0.127502  70.2     19.8    ...             4.7   \n",
       "2          106886.0     6.9  0.132013  82.9      7.0    ...             0.9   \n",
       "3           45702.0    18.4  0.000000  58.1     15.1    ...             3.6   \n",
       "4           45670.0     5.9  0.000000  85.1      9.0    ...             1.0   \n",
       "\n",
       "   hh_married  hh_married_child  hh_nonfam  hh_nonfam_solo     placename  \\\n",
       "0        73.6              31.5       18.2            13.4         Acton   \n",
       "1        51.1              34.4       16.3            12.2      Adelanto   \n",
       "2        66.4              31.2       23.2            19.2  Agoura Hills   \n",
       "3        66.5              33.3       26.1            22.9       Aguanga   \n",
       "4        66.2              20.3       31.3            29.6      Ahwahnee   \n",
       "\n",
       "           county  regionid  zri_sqft  hval_sqft  \n",
       "0     Los Angeles   16677.0     1.088      189.0  \n",
       "1  San Bernardino   16684.0     0.744        NaN  \n",
       "2     Los Angeles    9840.0     1.438      274.0  \n",
       "3       Riverside   43832.0     0.926      119.0  \n",
       "4          Madera    3333.0     0.904      131.0  \n",
       "\n",
       "[5 rows x 54 columns]"
      ]
     },
     "execution_count": 74,
     "metadata": {},
     "output_type": "execute_result"
    }
   ],
   "source": [
    "#Clean up names before merge\n",
    "hci['placename'] = hci['placename'].str.replace(' city', '')\n",
    "hci['placename'] = hci['placename'].str.replace(' CDP', '')\n",
    "hci['placename'] = hci['placename'].str.replace(' town', '')\n",
    "hci['county'] = hci['county'].str.replace(' County', '')\n",
    "hci.placename.replace('San Buenaventura (Ventura)', 'Ventura', inplace=True)\n",
    "hci.placename.replace('El Paso de Robles (Paso Robles)', 'Paso Robles', inplace=True)\n",
    "hci.placename.replace('Avilla Beach', 'Avila Beach', inplace=True)\n",
    "hci.placename.replace('Coultervillle', 'Coulterville', inplace=True)\n",
    "hci.placename.replace('Blairsden|Graeagle', 'Blairsden-Graeagle', inplace=True, regex=True)\n",
    "hci.placename.replace('St. Helena', 'Saint Helena', inplace=True)\n",
    "hci.loc[hci.placename == 'Aromas', 'county'] = \"Monterey\"\n",
    "hci.loc[hci.placename == 'Tahoma', 'county'] = \"El Dorado\"\n",
    "zillow.loc[zillow.placename == 'Westlake Village', 'county'] = \"Los Angeles\"\n",
    "zillow.loc[zillow.placename == 'Bradley', 'county'] = \"Monterey\"\n",
    "zillow.loc[zillow.placename == 'Cottonwood', 'county'] = \"Shasta\"\n",
    "zillow.loc[zillow.placename == 'Maricopa', 'county'] = \"Kern\"\n",
    "zillow.loc[zillow.placename == 'Smartsville', 'county'] = \"Yuba\"\n",
    "zillow.loc[zillow.placename == 'Trona', 'county'] = \"Inyo\"\n",
    "zillow.loc[zillow.placename == 'Westwood', 'county'] = \"Lassen\"\n",
    "zillow.placename.replace('Broadmoor Village', 'Broadmoor', inplace=True)\n",
    "zillow.placename.replace('Carmel', 'Carmel-by-the-Sea', inplace=True)\n",
    "zillow.placename.replace('Carmel Valley', 'Carmel Valley Village', inplace=True)\n",
    "zillow.placename.replace('Hilmar', 'Hilmar-Irwin', inplace=True)\n",
    "zillow.placename.replace('Idyllwild', 'Idyllwild-Pine Cove', inplace=True)\n",
    "zillow.placename.replace('Lagunitas', 'Lagunitas-Forest Knolls', inplace=True)\n",
    "zillow.placename.replace('Mather Air Force Base', 'Mather', inplace=True)\n",
    "zillow.placename.replace('Mc Farland', 'McFarland', inplace=True)\n",
    "zillow.placename.replace('Mi Wuk Village', 'Mi-Wuk Village', inplace=True)\n",
    "zillow.placename.replace('Newport Coast', 'Newport Beach', inplace=True)\n",
    "zillow.placename.replace('Palos Verdes Peninsula', 'Palos Verdes Estates', inplace=True)\n",
    "zillow.placename.replace('South Yuba City', 'Yuba City', inplace=True)\n",
    "zillow.placename.replace('Tahoe City', 'Sunnyside-Tahoe City', inplace=True)\n",
    "zillow.placename.replace('The Sea Ranch', 'Sea Ranch', inplace=True)\n",
    "zillow.placename.replace('Tuolumne', 'Tuolumne City', inplace=True)\n",
    "\n",
    "fullbuild = pd.merge(hci, zillow, on=['placename', 'county'], how='inner')\n",
    "fullbuild.head()"
   ]
  },
  {
   "cell_type": "code",
   "execution_count": 75,
   "metadata": {
    "collapsed": false
   },
   "outputs": [
    {
     "name": "stdout",
     "output_type": "stream",
     "text": [
      "750\n",
      "745\n",
      "747\n",
      "placefp             750\n",
      "geoname             750\n",
      "p_parkacc           750\n",
      "pop2010             750\n",
      "gini_index          746\n",
      "median_hh_income    719\n",
      "athome              720\n",
      "bicycle             720\n",
      "car                 720\n",
      "carpool             720\n",
      "cartotal            720\n",
      "publictr            720\n",
      "walk                720\n",
      "median_income       669\n",
      "food_afford         669\n",
      "ave_fam_size        731\n",
      "hfood_acc           507\n",
      "job_house_low       722\n",
      "job_house_tot       739\n",
      "job_match           739\n",
      "ozone               719\n",
      "pm25_conc           725\n",
      "p_hs_edatt          720\n",
      "livewage_s          678\n",
      "livewage_m          664\n",
      "poverty_child       720\n",
      "poverty_conc        547\n",
      "poverty_all         720\n",
      "unemp_rate          720\n",
      "day_care            533\n",
      "inf_care            351\n",
      "violent_crime       441\n",
      "child_abuse         508\n",
      "voted               750\n",
      "bad_water           684\n",
      "p_trans_acc         461\n",
      "traf_fatal          608\n",
      "traf_sev            720\n",
      "alc_off             727\n",
      "alc_on              719\n",
      "alc_tot             738\n",
      "hh_f                720\n",
      "hh_f_child          720\n",
      "hh_m                720\n",
      "hh_m_child          720\n",
      "hh_married          720\n",
      "hh_married_child    720\n",
      "hh_nonfam           720\n",
      "hh_nonfam_solo      720\n",
      "placename           750\n",
      "county              750\n",
      "regionid            750\n",
      "zri_sqft            705\n",
      "hval_sqft           692\n",
      "dtype: int64\n"
     ]
    }
   ],
   "source": [
    "print fullbuild.shape[0]\n",
    "print fullbuild.placename.nunique()\n",
    "print fullbuild.placefp.nunique()\n",
    "print fullbuild.count()"
   ]
  },
  {
   "cell_type": "code",
   "execution_count": 76,
   "metadata": {
    "collapsed": false
   },
   "outputs": [
    {
     "name": "stdout",
     "output_type": "stream",
     "text": [
      "placefp             8\n",
      "geoname             8\n",
      "p_parkacc           8\n",
      "pop2010             8\n",
      "gini_index          7\n",
      "median_hh_income    6\n",
      "athome              6\n",
      "bicycle             6\n",
      "car                 6\n",
      "carpool             6\n",
      "cartotal            6\n",
      "publictr            6\n",
      "walk                6\n",
      "median_income       6\n",
      "food_afford         6\n",
      "ave_fam_size        7\n",
      "hfood_acc           6\n",
      "job_house_low       6\n",
      "job_house_tot       8\n",
      "job_match           8\n",
      "ozone               6\n",
      "pm25_conc           8\n",
      "p_hs_edatt          6\n",
      "livewage_s          6\n",
      "livewage_m          6\n",
      "poverty_child       6\n",
      "poverty_conc        6\n",
      "poverty_all         6\n",
      "unemp_rate          6\n",
      "day_care            6\n",
      "inf_care            4\n",
      "violent_crime       6\n",
      "child_abuse         4\n",
      "voted               8\n",
      "bad_water           8\n",
      "p_trans_acc         4\n",
      "traf_fatal          5\n",
      "traf_sev            7\n",
      "alc_off             6\n",
      "alc_on              8\n",
      "alc_tot             8\n",
      "hh_f                6\n",
      "hh_f_child          6\n",
      "hh_m                6\n",
      "hh_m_child          6\n",
      "hh_married          6\n",
      "hh_married_child    6\n",
      "hh_nonfam           6\n",
      "hh_nonfam_solo      6\n",
      "placename           8\n",
      "county              8\n",
      "regionid            8\n",
      "zri_sqft            7\n",
      "hval_sqft           6\n",
      "dtype: int64\n",
      "    placefp                    geoname  p_parkacc  pop2010  gini_index  \\\n",
      "66    06994              Blairsden CDP   1.000000     39.0         NaN   \n",
      "67    30560               Graeagle CDP   0.578019    737.0       0.367   \n",
      "458   51182         Newport Beach city   0.922816  85186.0       0.543   \n",
      "459   51182         Newport Beach city   0.922816  85186.0       0.543   \n",
      "496   55380  Palos Verdes Estates city   1.000000  13438.0       0.491   \n",
      "497   55380  Palos Verdes Estates city   1.000000  13438.0       0.491   \n",
      "746   86972             Yuba City city   0.804097  64925.0       0.416   \n",
      "747   86972             Yuba City city   0.804097  64925.0       0.416   \n",
      "\n",
      "     median_hh_income  athome   bicycle   car  carpool    ...      hh_m_child  \\\n",
      "66                NaN     NaN       NaN   NaN      NaN    ...             NaN   \n",
      "67                NaN     NaN       NaN   NaN      NaN    ...             NaN   \n",
      "458          107007.0     8.5  0.978263  81.9      4.7    ...             1.1   \n",
      "459          107007.0     8.5  0.978263  81.9      4.7    ...             1.1   \n",
      "496          163542.0     8.4  1.282542  82.7      5.9    ...             0.2   \n",
      "497          163542.0     8.4  1.282542  82.7      5.9    ...             0.2   \n",
      "746           49500.0     3.4  0.244508  76.2     15.3    ...             2.2   \n",
      "747           49500.0     3.4  0.244508  76.2     15.3    ...             2.2   \n",
      "\n",
      "     hh_married  hh_married_child  hh_nonfam  hh_nonfam_solo  \\\n",
      "66          NaN               NaN        NaN             NaN   \n",
      "67          NaN               NaN        NaN             NaN   \n",
      "458        44.8              16.5       46.7            34.6   \n",
      "459        44.8              16.5       46.7            34.6   \n",
      "496        75.3              31.2       17.5            15.2   \n",
      "497        75.3              31.2       17.5            15.2   \n",
      "746        54.1              27.6       27.3            21.9   \n",
      "747        54.1              27.6       27.3            21.9   \n",
      "\n",
      "                placename       county  regionid  zri_sqft  hval_sqft  \n",
      "66     Blairsden-Graeagle       Plumas   52272.0     0.910        NaN  \n",
      "67     Blairsden-Graeagle       Plumas   52272.0     0.910        NaN  \n",
      "458         Newport Beach       Orange   53571.0     2.250      536.0  \n",
      "459         Newport Beach       Orange   40009.0       NaN      488.0  \n",
      "496  Palos Verdes Estates  Los Angeles   33311.0     2.294      534.0  \n",
      "497  Palos Verdes Estates  Los Angeles   33312.0     1.992      460.0  \n",
      "746             Yuba City       Sutter  118227.0     0.770       93.0  \n",
      "747             Yuba City       Sutter   34940.0     0.790       96.0  \n",
      "\n",
      "[8 rows x 54 columns]\n"
     ]
    }
   ],
   "source": [
    "fullbuild.sort_values('placename')\n",
    "print fullbuild.loc[fullbuild.duplicated(['placename', 'county'], keep=False)].count()\n",
    "print fullbuild.loc[fullbuild.duplicated(['placename', 'county'], keep=False)]"
   ]
  },
  {
   "cell_type": "code",
   "execution_count": 77,
   "metadata": {
    "collapsed": false
   },
   "outputs": [
    {
     "name": "stdout",
     "output_type": "stream",
     "text": [
      "Empty DataFrame\n",
      "Columns: [county, placename]\n",
      "Index: []\n"
     ]
    }
   ],
   "source": [
    "print fullbuild[['county', 'placename']].loc[fullbuild.placefp.isnull()]"
   ]
  },
  {
   "cell_type": "code",
   "execution_count": null,
   "metadata": {
    "collapsed": true
   },
   "outputs": [],
   "source": []
  }
 ],
 "metadata": {
  "kernelspec": {
   "display_name": "Python 2",
   "language": "python",
   "name": "python2"
  },
  "language_info": {
   "codemirror_mode": {
    "name": "ipython",
    "version": 2
   },
   "file_extension": ".py",
   "mimetype": "text/x-python",
   "name": "python",
   "nbconvert_exporter": "python",
   "pygments_lexer": "ipython2",
   "version": "2.7.11"
  }
 },
 "nbformat": 4,
 "nbformat_minor": 0
}
